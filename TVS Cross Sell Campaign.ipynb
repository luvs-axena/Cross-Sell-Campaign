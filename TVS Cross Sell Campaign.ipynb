{
 "cells": [
  {
   "cell_type": "code",
   "execution_count": 1,
   "id": "2104554c",
   "metadata": {},
   "outputs": [],
   "source": [
    "import numpy as np\n",
    "import pandas as pd\n",
    "import matplotlib.pyplot as plt\n",
    "import seaborn as sns"
   ]
  },
  {
   "cell_type": "code",
   "execution_count": 2,
   "id": "192f157e",
   "metadata": {},
   "outputs": [],
   "source": [
    "sell = pd.read_csv('Case Study 2 - Clean Data.csv')"
   ]
  },
  {
   "cell_type": "code",
   "execution_count": 3,
   "id": "ed034ef1",
   "metadata": {},
   "outputs": [
    {
     "data": {
      "text/html": [
       "<div>\n",
       "<style scoped>\n",
       "    .dataframe tbody tr th:only-of-type {\n",
       "        vertical-align: middle;\n",
       "    }\n",
       "\n",
       "    .dataframe tbody tr th {\n",
       "        vertical-align: top;\n",
       "    }\n",
       "\n",
       "    .dataframe thead th {\n",
       "        text-align: right;\n",
       "    }\n",
       "</style>\n",
       "<table border=\"1\" class=\"dataframe\">\n",
       "  <thead>\n",
       "    <tr style=\"text-align: right;\">\n",
       "      <th></th>\n",
       "      <th>No. of Secured Loans</th>\n",
       "      <th>No. of unsecured loans</th>\n",
       "      <th>No. of live trade lines</th>\n",
       "      <th>Total no of trade line in last 12 months</th>\n",
       "      <th>No of PL trade lines in last 12 months</th>\n",
       "      <th>Time since first loans in months</th>\n",
       "      <th>Time since first PL loans in months</th>\n",
       "      <th>Time since last loan in months</th>\n",
       "      <th>Time since last PL loans in months</th>\n",
       "      <th>Ratio of live balance to live sanction amount in PL</th>\n",
       "      <th>...</th>\n",
       "      <th>Customer Vintage</th>\n",
       "      <th>Gender</th>\n",
       "      <th>Resident Type</th>\n",
       "      <th>Customer Age</th>\n",
       "      <th>Employement Type</th>\n",
       "      <th>DayOfWeek</th>\n",
       "      <th>Campaign Type</th>\n",
       "      <th>Time of the Day</th>\n",
       "      <th>Target Variable</th>\n",
       "      <th>ID</th>\n",
       "    </tr>\n",
       "  </thead>\n",
       "  <tbody>\n",
       "    <tr>\n",
       "      <th>0</th>\n",
       "      <td>1</td>\n",
       "      <td>0</td>\n",
       "      <td>0</td>\n",
       "      <td>0</td>\n",
       "      <td>0</td>\n",
       "      <td>34</td>\n",
       "      <td>0</td>\n",
       "      <td>34</td>\n",
       "      <td>0</td>\n",
       "      <td>999.0</td>\n",
       "      <td>...</td>\n",
       "      <td>3.0</td>\n",
       "      <td>FEMALE</td>\n",
       "      <td>OWNED</td>\n",
       "      <td>27</td>\n",
       "      <td>SEMP</td>\n",
       "      <td>Monday</td>\n",
       "      <td>Cold Calling</td>\n",
       "      <td>3-PM</td>\n",
       "      <td>0</td>\n",
       "      <td>51794</td>\n",
       "    </tr>\n",
       "    <tr>\n",
       "      <th>1</th>\n",
       "      <td>14</td>\n",
       "      <td>0</td>\n",
       "      <td>3</td>\n",
       "      <td>1</td>\n",
       "      <td>0</td>\n",
       "      <td>97</td>\n",
       "      <td>0</td>\n",
       "      <td>7</td>\n",
       "      <td>0</td>\n",
       "      <td>999.0</td>\n",
       "      <td>...</td>\n",
       "      <td>6.0</td>\n",
       "      <td>FEMALE</td>\n",
       "      <td>OWNED</td>\n",
       "      <td>32</td>\n",
       "      <td>SEMP</td>\n",
       "      <td>Monday</td>\n",
       "      <td>Cold Calling</td>\n",
       "      <td>9-AM</td>\n",
       "      <td>0</td>\n",
       "      <td>148006</td>\n",
       "    </tr>\n",
       "    <tr>\n",
       "      <th>2</th>\n",
       "      <td>7</td>\n",
       "      <td>4</td>\n",
       "      <td>2</td>\n",
       "      <td>0</td>\n",
       "      <td>0</td>\n",
       "      <td>176</td>\n",
       "      <td>176</td>\n",
       "      <td>17</td>\n",
       "      <td>0</td>\n",
       "      <td>0.0</td>\n",
       "      <td>...</td>\n",
       "      <td>9.0</td>\n",
       "      <td>MALE</td>\n",
       "      <td>OWNED</td>\n",
       "      <td>52</td>\n",
       "      <td>SEMP</td>\n",
       "      <td>Saturday</td>\n",
       "      <td>Cold Calling</td>\n",
       "      <td>11-AM</td>\n",
       "      <td>0</td>\n",
       "      <td>130868</td>\n",
       "    </tr>\n",
       "    <tr>\n",
       "      <th>3</th>\n",
       "      <td>3</td>\n",
       "      <td>0</td>\n",
       "      <td>0</td>\n",
       "      <td>0</td>\n",
       "      <td>0</td>\n",
       "      <td>79</td>\n",
       "      <td>0</td>\n",
       "      <td>30</td>\n",
       "      <td>0</td>\n",
       "      <td>999.0</td>\n",
       "      <td>...</td>\n",
       "      <td>3.0</td>\n",
       "      <td>MALE</td>\n",
       "      <td>OWNED</td>\n",
       "      <td>40</td>\n",
       "      <td>SEMP</td>\n",
       "      <td>Saturday</td>\n",
       "      <td>Cold Calling</td>\n",
       "      <td>10-AM</td>\n",
       "      <td>0</td>\n",
       "      <td>168709</td>\n",
       "    </tr>\n",
       "    <tr>\n",
       "      <th>4</th>\n",
       "      <td>1</td>\n",
       "      <td>0</td>\n",
       "      <td>0</td>\n",
       "      <td>0</td>\n",
       "      <td>0</td>\n",
       "      <td>69</td>\n",
       "      <td>0</td>\n",
       "      <td>69</td>\n",
       "      <td>0</td>\n",
       "      <td>999.0</td>\n",
       "      <td>...</td>\n",
       "      <td>6.0</td>\n",
       "      <td>MALE</td>\n",
       "      <td>OWNED</td>\n",
       "      <td>40</td>\n",
       "      <td>SEMP</td>\n",
       "      <td>Thursday</td>\n",
       "      <td>Cold Calling</td>\n",
       "      <td>5-PM</td>\n",
       "      <td>0</td>\n",
       "      <td>131789</td>\n",
       "    </tr>\n",
       "  </tbody>\n",
       "</table>\n",
       "<p>5 rows × 31 columns</p>\n",
       "</div>"
      ],
      "text/plain": [
       "   No. of Secured Loans  No. of unsecured loans  No. of live trade lines  \\\n",
       "0                     1                       0                        0   \n",
       "1                    14                       0                        3   \n",
       "2                     7                       4                        2   \n",
       "3                     3                       0                        0   \n",
       "4                     1                       0                        0   \n",
       "\n",
       "   Total no of trade line in last 12 months  \\\n",
       "0                                         0   \n",
       "1                                         1   \n",
       "2                                         0   \n",
       "3                                         0   \n",
       "4                                         0   \n",
       "\n",
       "   No of PL trade lines in last 12 months  Time since first loans in months  \\\n",
       "0                                       0                                34   \n",
       "1                                       0                                97   \n",
       "2                                       0                               176   \n",
       "3                                       0                                79   \n",
       "4                                       0                                69   \n",
       "\n",
       "   Time since first PL loans in months  Time since last loan in months  \\\n",
       "0                                    0                              34   \n",
       "1                                    0                               7   \n",
       "2                                  176                              17   \n",
       "3                                    0                              30   \n",
       "4                                    0                              69   \n",
       "\n",
       "   Time since last PL loans in months  \\\n",
       "0                                   0   \n",
       "1                                   0   \n",
       "2                                   0   \n",
       "3                                   0   \n",
       "4                                   0   \n",
       "\n",
       "   Ratio of live balance to live sanction amount in PL  ...  Customer Vintage  \\\n",
       "0                                              999.0    ...               3.0   \n",
       "1                                              999.0    ...               6.0   \n",
       "2                                                0.0    ...               9.0   \n",
       "3                                              999.0    ...               3.0   \n",
       "4                                              999.0    ...               6.0   \n",
       "\n",
       "   Gender  Resident Type  Customer Age  Employement Type  DayOfWeek  \\\n",
       "0  FEMALE          OWNED            27              SEMP     Monday   \n",
       "1  FEMALE          OWNED            32              SEMP     Monday   \n",
       "2    MALE          OWNED            52              SEMP   Saturday   \n",
       "3    MALE          OWNED            40              SEMP   Saturday   \n",
       "4    MALE          OWNED            40              SEMP   Thursday   \n",
       "\n",
       "   Campaign Type  Time of the Day  Target Variable      ID  \n",
       "0   Cold Calling             3-PM                0   51794  \n",
       "1   Cold Calling             9-AM                0  148006  \n",
       "2   Cold Calling            11-AM                0  130868  \n",
       "3   Cold Calling            10-AM                0  168709  \n",
       "4   Cold Calling             5-PM                0  131789  \n",
       "\n",
       "[5 rows x 31 columns]"
      ]
     },
     "execution_count": 3,
     "metadata": {},
     "output_type": "execute_result"
    }
   ],
   "source": [
    "sell.head()"
   ]
  },
  {
   "cell_type": "code",
   "execution_count": 4,
   "id": "123315db",
   "metadata": {},
   "outputs": [
    {
     "data": {
      "text/plain": [
       "No. of Secured Loans                                                 int64\n",
       "No. of unsecured loans                                               int64\n",
       "No. of live trade lines                                              int64\n",
       "Total no of trade line in last 12 months                             int64\n",
       "No of PL trade lines in last 12 months                               int64\n",
       "Time since first loans in months                                     int64\n",
       "Time since first PL loans in months                                  int64\n",
       "Time since last loan in months                                       int64\n",
       "Time since last PL loans in months                                   int64\n",
       "Ratio of live balance to live sanction amount in PL                float64\n",
       "Ratio of live balance to live sanction amount in SEC               float64\n",
       "Ratio of live balance to live sanction amount in UNSEC             float64\n",
       "Ratio of live UNSEC sanction amount to live SEC sanction amount    float64\n",
       "Ratio of live UNSEC balance amount to live SEC balance amount      float64\n",
       "Total number of enquiries in last 3 months                           int64\n",
       "Total number of PL enquiries in last 3 months                        int64\n",
       "Total number of enquiries in last 6 months                           int64\n",
       "Total number of PL enquiries in last 6 months                        int64\n",
       "Total number of enquiries in last 12 months                          int64\n",
       "Total number of PL enquiries in last 12 months                       int64\n",
       "Base Product Description                                            object\n",
       "Customer Vintage                                                   float64\n",
       "Gender                                                              object\n",
       "Resident Type                                                       object\n",
       "Customer Age                                                         int64\n",
       "Employement Type                                                    object\n",
       "DayOfWeek                                                           object\n",
       "Campaign Type                                                       object\n",
       "Time of the Day                                                     object\n",
       "Target Variable                                                      int64\n",
       "ID                                                                   int64\n",
       "dtype: object"
      ]
     },
     "execution_count": 4,
     "metadata": {},
     "output_type": "execute_result"
    }
   ],
   "source": [
    "sell.dtypes"
   ]
  },
  {
   "cell_type": "code",
   "execution_count": 5,
   "id": "b59c4deb",
   "metadata": {},
   "outputs": [
    {
     "data": {
      "text/plain": [
       "2574829"
      ]
     },
     "execution_count": 5,
     "metadata": {},
     "output_type": "execute_result"
    }
   ],
   "source": [
    "sell.size"
   ]
  },
  {
   "cell_type": "code",
   "execution_count": 6,
   "id": "ffb7927b",
   "metadata": {},
   "outputs": [
    {
     "data": {
      "text/plain": [
       "(83059, 31)"
      ]
     },
     "execution_count": 6,
     "metadata": {},
     "output_type": "execute_result"
    }
   ],
   "source": [
    "sell.shape"
   ]
  },
  {
   "cell_type": "code",
   "execution_count": 7,
   "id": "b7539fbe",
   "metadata": {},
   "outputs": [
    {
     "data": {
      "text/plain": [
       "No. of Secured Loans                                                 int64\n",
       "No. of unsecured loans                                               int64\n",
       "No. of live trade lines                                              int64\n",
       "Total no of trade line in last 12 months                             int64\n",
       "No of PL trade lines in last 12 months                               int64\n",
       "Time since first loans in months                                     int64\n",
       "Time since first PL loans in months                                  int64\n",
       "Time since last loan in months                                       int64\n",
       "Time since last PL loans in months                                   int64\n",
       "Ratio of live balance to live sanction amount in PL                float64\n",
       "Ratio of live balance to live sanction amount in SEC               float64\n",
       "Ratio of live balance to live sanction amount in UNSEC             float64\n",
       "Ratio of live UNSEC sanction amount to live SEC sanction amount    float64\n",
       "Ratio of live UNSEC balance amount to live SEC balance amount      float64\n",
       "Total number of enquiries in last 3 months                           int64\n",
       "Total number of PL enquiries in last 3 months                        int64\n",
       "Total number of enquiries in last 6 months                           int64\n",
       "Total number of PL enquiries in last 6 months                        int64\n",
       "Total number of enquiries in last 12 months                          int64\n",
       "Total number of PL enquiries in last 12 months                       int64\n",
       "Base Product Description                                            object\n",
       "Customer Vintage                                                   float64\n",
       "Gender                                                              object\n",
       "Resident Type                                                       object\n",
       "Customer Age                                                         int64\n",
       "Employement Type                                                    object\n",
       "DayOfWeek                                                           object\n",
       "Campaign Type                                                       object\n",
       "Time of the Day                                                     object\n",
       "Target Variable                                                      int64\n",
       "ID                                                                   int64\n",
       "dtype: object"
      ]
     },
     "execution_count": 7,
     "metadata": {},
     "output_type": "execute_result"
    }
   ],
   "source": [
    "sell['Time of the Day']= sell['Time of the Day'].astype(str)\n",
    "sell.dtypes"
   ]
  },
  {
   "cell_type": "code",
   "execution_count": 8,
   "id": "dfa94e2a",
   "metadata": {},
   "outputs": [
    {
     "data": {
      "text/html": [
       "<div>\n",
       "<style scoped>\n",
       "    .dataframe tbody tr th:only-of-type {\n",
       "        vertical-align: middle;\n",
       "    }\n",
       "\n",
       "    .dataframe tbody tr th {\n",
       "        vertical-align: top;\n",
       "    }\n",
       "\n",
       "    .dataframe thead th {\n",
       "        text-align: right;\n",
       "    }\n",
       "</style>\n",
       "<table border=\"1\" class=\"dataframe\">\n",
       "  <thead>\n",
       "    <tr style=\"text-align: right;\">\n",
       "      <th></th>\n",
       "      <th>No. of Secured Loans</th>\n",
       "      <th>No. of unsecured loans</th>\n",
       "      <th>No. of live trade lines</th>\n",
       "      <th>Total no of trade line in last 12 months</th>\n",
       "      <th>No of PL trade lines in last 12 months</th>\n",
       "      <th>Time since first loans in months</th>\n",
       "      <th>Time since first PL loans in months</th>\n",
       "      <th>Time since last loan in months</th>\n",
       "      <th>Time since last PL loans in months</th>\n",
       "      <th>Ratio of live balance to live sanction amount in PL</th>\n",
       "      <th>...</th>\n",
       "      <th>Total number of enquiries in last 3 months</th>\n",
       "      <th>Total number of PL enquiries in last 3 months</th>\n",
       "      <th>Total number of enquiries in last 6 months</th>\n",
       "      <th>Total number of PL enquiries in last 6 months</th>\n",
       "      <th>Total number of enquiries in last 12 months</th>\n",
       "      <th>Total number of PL enquiries in last 12 months</th>\n",
       "      <th>Customer Vintage</th>\n",
       "      <th>Customer Age</th>\n",
       "      <th>Target Variable</th>\n",
       "      <th>ID</th>\n",
       "    </tr>\n",
       "  </thead>\n",
       "  <tbody>\n",
       "    <tr>\n",
       "      <th>count</th>\n",
       "      <td>83059.000000</td>\n",
       "      <td>83059.000000</td>\n",
       "      <td>83059.000000</td>\n",
       "      <td>83059.000000</td>\n",
       "      <td>83059.000000</td>\n",
       "      <td>83059.000000</td>\n",
       "      <td>83059.000000</td>\n",
       "      <td>83059.000000</td>\n",
       "      <td>83059.000000</td>\n",
       "      <td>83059.000000</td>\n",
       "      <td>...</td>\n",
       "      <td>83059.000000</td>\n",
       "      <td>83059.000000</td>\n",
       "      <td>83059.000000</td>\n",
       "      <td>83059.000000</td>\n",
       "      <td>83059.000000</td>\n",
       "      <td>83059.000000</td>\n",
       "      <td>82980.000000</td>\n",
       "      <td>83059.000000</td>\n",
       "      <td>83059.000000</td>\n",
       "      <td>83059.000000</td>\n",
       "    </tr>\n",
       "    <tr>\n",
       "      <th>mean</th>\n",
       "      <td>2.575338</td>\n",
       "      <td>1.375877</td>\n",
       "      <td>1.248137</td>\n",
       "      <td>0.493733</td>\n",
       "      <td>0.034578</td>\n",
       "      <td>71.934914</td>\n",
       "      <td>12.407566</td>\n",
       "      <td>35.891836</td>\n",
       "      <td>0.008283</td>\n",
       "      <td>873.207423</td>\n",
       "      <td>...</td>\n",
       "      <td>0.062317</td>\n",
       "      <td>0.015904</td>\n",
       "      <td>0.212259</td>\n",
       "      <td>0.049435</td>\n",
       "      <td>0.521256</td>\n",
       "      <td>0.113269</td>\n",
       "      <td>4.950012</td>\n",
       "      <td>41.048411</td>\n",
       "      <td>0.127078</td>\n",
       "      <td>141217.837489</td>\n",
       "    </tr>\n",
       "    <tr>\n",
       "      <th>std</th>\n",
       "      <td>4.109806</td>\n",
       "      <td>3.306705</td>\n",
       "      <td>1.880627</td>\n",
       "      <td>1.155886</td>\n",
       "      <td>0.223601</td>\n",
       "      <td>43.651270</td>\n",
       "      <td>34.147058</td>\n",
       "      <td>30.545417</td>\n",
       "      <td>0.661260</td>\n",
       "      <td>334.856450</td>\n",
       "      <td>...</td>\n",
       "      <td>0.359316</td>\n",
       "      <td>0.166262</td>\n",
       "      <td>0.770522</td>\n",
       "      <td>0.324370</td>\n",
       "      <td>1.361624</td>\n",
       "      <td>0.548173</td>\n",
       "      <td>2.521560</td>\n",
       "      <td>10.200962</td>\n",
       "      <td>0.333063</td>\n",
       "      <td>94120.882762</td>\n",
       "    </tr>\n",
       "    <tr>\n",
       "      <th>min</th>\n",
       "      <td>0.000000</td>\n",
       "      <td>0.000000</td>\n",
       "      <td>0.000000</td>\n",
       "      <td>0.000000</td>\n",
       "      <td>0.000000</td>\n",
       "      <td>0.000000</td>\n",
       "      <td>0.000000</td>\n",
       "      <td>0.000000</td>\n",
       "      <td>0.000000</td>\n",
       "      <td>-11883.000000</td>\n",
       "      <td>...</td>\n",
       "      <td>0.000000</td>\n",
       "      <td>0.000000</td>\n",
       "      <td>0.000000</td>\n",
       "      <td>0.000000</td>\n",
       "      <td>0.000000</td>\n",
       "      <td>0.000000</td>\n",
       "      <td>1.000000</td>\n",
       "      <td>19.000000</td>\n",
       "      <td>0.000000</td>\n",
       "      <td>4.000000</td>\n",
       "    </tr>\n",
       "    <tr>\n",
       "      <th>25%</th>\n",
       "      <td>1.000000</td>\n",
       "      <td>0.000000</td>\n",
       "      <td>0.000000</td>\n",
       "      <td>0.000000</td>\n",
       "      <td>0.000000</td>\n",
       "      <td>40.000000</td>\n",
       "      <td>0.000000</td>\n",
       "      <td>10.000000</td>\n",
       "      <td>0.000000</td>\n",
       "      <td>999.000000</td>\n",
       "      <td>...</td>\n",
       "      <td>0.000000</td>\n",
       "      <td>0.000000</td>\n",
       "      <td>0.000000</td>\n",
       "      <td>0.000000</td>\n",
       "      <td>0.000000</td>\n",
       "      <td>0.000000</td>\n",
       "      <td>3.000000</td>\n",
       "      <td>33.000000</td>\n",
       "      <td>0.000000</td>\n",
       "      <td>67192.500000</td>\n",
       "    </tr>\n",
       "    <tr>\n",
       "      <th>50%</th>\n",
       "      <td>1.000000</td>\n",
       "      <td>0.000000</td>\n",
       "      <td>1.000000</td>\n",
       "      <td>0.000000</td>\n",
       "      <td>0.000000</td>\n",
       "      <td>66.000000</td>\n",
       "      <td>0.000000</td>\n",
       "      <td>26.000000</td>\n",
       "      <td>0.000000</td>\n",
       "      <td>999.000000</td>\n",
       "      <td>...</td>\n",
       "      <td>0.000000</td>\n",
       "      <td>0.000000</td>\n",
       "      <td>0.000000</td>\n",
       "      <td>0.000000</td>\n",
       "      <td>0.000000</td>\n",
       "      <td>0.000000</td>\n",
       "      <td>5.000000</td>\n",
       "      <td>40.000000</td>\n",
       "      <td>0.000000</td>\n",
       "      <td>133461.000000</td>\n",
       "    </tr>\n",
       "    <tr>\n",
       "      <th>75%</th>\n",
       "      <td>2.000000</td>\n",
       "      <td>1.000000</td>\n",
       "      <td>2.000000</td>\n",
       "      <td>1.000000</td>\n",
       "      <td>0.000000</td>\n",
       "      <td>96.000000</td>\n",
       "      <td>0.000000</td>\n",
       "      <td>54.000000</td>\n",
       "      <td>0.000000</td>\n",
       "      <td>999.000000</td>\n",
       "      <td>...</td>\n",
       "      <td>0.000000</td>\n",
       "      <td>0.000000</td>\n",
       "      <td>0.000000</td>\n",
       "      <td>0.000000</td>\n",
       "      <td>0.000000</td>\n",
       "      <td>0.000000</td>\n",
       "      <td>7.000000</td>\n",
       "      <td>49.000000</td>\n",
       "      <td>0.000000</td>\n",
       "      <td>200907.000000</td>\n",
       "    </tr>\n",
       "    <tr>\n",
       "      <th>max</th>\n",
       "      <td>100.000000</td>\n",
       "      <td>75.000000</td>\n",
       "      <td>36.000000</td>\n",
       "      <td>64.000000</td>\n",
       "      <td>11.000000</td>\n",
       "      <td>518.000000</td>\n",
       "      <td>286.000000</td>\n",
       "      <td>172.000000</td>\n",
       "      <td>96.000000</td>\n",
       "      <td>999.000000</td>\n",
       "      <td>...</td>\n",
       "      <td>13.000000</td>\n",
       "      <td>9.000000</td>\n",
       "      <td>23.000000</td>\n",
       "      <td>15.000000</td>\n",
       "      <td>34.000000</td>\n",
       "      <td>21.000000</td>\n",
       "      <td>11.000000</td>\n",
       "      <td>64.000000</td>\n",
       "      <td>1.000000</td>\n",
       "      <td>489982.000000</td>\n",
       "    </tr>\n",
       "  </tbody>\n",
       "</table>\n",
       "<p>8 rows × 24 columns</p>\n",
       "</div>"
      ],
      "text/plain": [
       "       No. of Secured Loans  No. of unsecured loans  No. of live trade lines  \\\n",
       "count          83059.000000            83059.000000             83059.000000   \n",
       "mean               2.575338                1.375877                 1.248137   \n",
       "std                4.109806                3.306705                 1.880627   \n",
       "min                0.000000                0.000000                 0.000000   \n",
       "25%                1.000000                0.000000                 0.000000   \n",
       "50%                1.000000                0.000000                 1.000000   \n",
       "75%                2.000000                1.000000                 2.000000   \n",
       "max              100.000000               75.000000                36.000000   \n",
       "\n",
       "       Total no of trade line in last 12 months  \\\n",
       "count                              83059.000000   \n",
       "mean                                   0.493733   \n",
       "std                                    1.155886   \n",
       "min                                    0.000000   \n",
       "25%                                    0.000000   \n",
       "50%                                    0.000000   \n",
       "75%                                    1.000000   \n",
       "max                                   64.000000   \n",
       "\n",
       "       No of PL trade lines in last 12 months  \\\n",
       "count                            83059.000000   \n",
       "mean                                 0.034578   \n",
       "std                                  0.223601   \n",
       "min                                  0.000000   \n",
       "25%                                  0.000000   \n",
       "50%                                  0.000000   \n",
       "75%                                  0.000000   \n",
       "max                                 11.000000   \n",
       "\n",
       "       Time since first loans in months  Time since first PL loans in months  \\\n",
       "count                      83059.000000                         83059.000000   \n",
       "mean                          71.934914                            12.407566   \n",
       "std                           43.651270                            34.147058   \n",
       "min                            0.000000                             0.000000   \n",
       "25%                           40.000000                             0.000000   \n",
       "50%                           66.000000                             0.000000   \n",
       "75%                           96.000000                             0.000000   \n",
       "max                          518.000000                           286.000000   \n",
       "\n",
       "       Time since last loan in months  Time since last PL loans in months  \\\n",
       "count                    83059.000000                        83059.000000   \n",
       "mean                        35.891836                            0.008283   \n",
       "std                         30.545417                            0.661260   \n",
       "min                          0.000000                            0.000000   \n",
       "25%                         10.000000                            0.000000   \n",
       "50%                         26.000000                            0.000000   \n",
       "75%                         54.000000                            0.000000   \n",
       "max                        172.000000                           96.000000   \n",
       "\n",
       "       Ratio of live balance to live sanction amount in PL  ...  \\\n",
       "count                                       83059.000000    ...   \n",
       "mean                                          873.207423    ...   \n",
       "std                                           334.856450    ...   \n",
       "min                                        -11883.000000    ...   \n",
       "25%                                           999.000000    ...   \n",
       "50%                                           999.000000    ...   \n",
       "75%                                           999.000000    ...   \n",
       "max                                           999.000000    ...   \n",
       "\n",
       "       Total number of enquiries in last 3 months  \\\n",
       "count                                83059.000000   \n",
       "mean                                     0.062317   \n",
       "std                                      0.359316   \n",
       "min                                      0.000000   \n",
       "25%                                      0.000000   \n",
       "50%                                      0.000000   \n",
       "75%                                      0.000000   \n",
       "max                                     13.000000   \n",
       "\n",
       "       Total number of PL enquiries in last 3 months  \\\n",
       "count                                   83059.000000   \n",
       "mean                                        0.015904   \n",
       "std                                         0.166262   \n",
       "min                                         0.000000   \n",
       "25%                                         0.000000   \n",
       "50%                                         0.000000   \n",
       "75%                                         0.000000   \n",
       "max                                         9.000000   \n",
       "\n",
       "       Total number of enquiries in last 6 months  \\\n",
       "count                                83059.000000   \n",
       "mean                                     0.212259   \n",
       "std                                      0.770522   \n",
       "min                                      0.000000   \n",
       "25%                                      0.000000   \n",
       "50%                                      0.000000   \n",
       "75%                                      0.000000   \n",
       "max                                     23.000000   \n",
       "\n",
       "       Total number of PL enquiries in last 6 months  \\\n",
       "count                                   83059.000000   \n",
       "mean                                        0.049435   \n",
       "std                                         0.324370   \n",
       "min                                         0.000000   \n",
       "25%                                         0.000000   \n",
       "50%                                         0.000000   \n",
       "75%                                         0.000000   \n",
       "max                                        15.000000   \n",
       "\n",
       "       Total number of enquiries in last 12 months  \\\n",
       "count                                 83059.000000   \n",
       "mean                                      0.521256   \n",
       "std                                       1.361624   \n",
       "min                                       0.000000   \n",
       "25%                                       0.000000   \n",
       "50%                                       0.000000   \n",
       "75%                                       0.000000   \n",
       "max                                      34.000000   \n",
       "\n",
       "       Total number of PL enquiries in last 12 months  Customer Vintage  \\\n",
       "count                                    83059.000000      82980.000000   \n",
       "mean                                         0.113269          4.950012   \n",
       "std                                          0.548173          2.521560   \n",
       "min                                          0.000000          1.000000   \n",
       "25%                                          0.000000          3.000000   \n",
       "50%                                          0.000000          5.000000   \n",
       "75%                                          0.000000          7.000000   \n",
       "max                                         21.000000         11.000000   \n",
       "\n",
       "       Customer Age  Target Variable             ID  \n",
       "count  83059.000000     83059.000000   83059.000000  \n",
       "mean      41.048411         0.127078  141217.837489  \n",
       "std       10.200962         0.333063   94120.882762  \n",
       "min       19.000000         0.000000       4.000000  \n",
       "25%       33.000000         0.000000   67192.500000  \n",
       "50%       40.000000         0.000000  133461.000000  \n",
       "75%       49.000000         0.000000  200907.000000  \n",
       "max       64.000000         1.000000  489982.000000  \n",
       "\n",
       "[8 rows x 24 columns]"
      ]
     },
     "execution_count": 8,
     "metadata": {},
     "output_type": "execute_result"
    }
   ],
   "source": [
    "sell.describe()"
   ]
  },
  {
   "cell_type": "code",
   "execution_count": 9,
   "id": "ddb9940d",
   "metadata": {},
   "outputs": [
    {
     "data": {
      "text/plain": [
       "No. of Secured Loans                                                 6.537860\n",
       "No. of unsecured loans                                               4.700424\n",
       "No. of live trade lines                                              2.962820\n",
       "Total no of trade line in last 12 months                             7.394630\n",
       "No of PL trade lines in last 12 months                              12.344090\n",
       "Time since first loans in months                                     1.168868\n",
       "Time since first PL loans in months                                  3.454495\n",
       "Time since last loan in months                                       0.951902\n",
       "Time since last PL loans in months                                 104.702285\n",
       "Ratio of live balance to live sanction amount in PL                 -2.952204\n",
       "Ratio of live balance to live sanction amount in SEC                -0.353114\n",
       "Ratio of live balance to live sanction amount in UNSEC            -208.625703\n",
       "Ratio of live UNSEC sanction amount to live SEC sanction amount     55.835710\n",
       "Ratio of live UNSEC balance amount to live SEC balance amount      246.972600\n",
       "Total number of enquiries in last 3 months                           9.401251\n",
       "Total number of PL enquiries in last 3 months                       15.464202\n",
       "Total number of enquiries in last 6 months                           6.661436\n",
       "Total number of PL enquiries in last 6 months                       11.486574\n",
       "Total number of enquiries in last 12 months                          5.788548\n",
       "Total number of PL enquiries in last 12 months                       9.258589\n",
       "Customer Vintage                                                     0.304045\n",
       "Customer Age                                                         0.204903\n",
       "Target Variable                                                      2.239402\n",
       "ID                                                                   0.909046\n",
       "dtype: float64"
      ]
     },
     "execution_count": 9,
     "metadata": {},
     "output_type": "execute_result"
    }
   ],
   "source": [
    "sell.skew()"
   ]
  },
  {
   "cell_type": "code",
   "execution_count": 10,
   "id": "e4594f60",
   "metadata": {},
   "outputs": [
    {
     "data": {
      "text/html": [
       "<div>\n",
       "<style scoped>\n",
       "    .dataframe tbody tr th:only-of-type {\n",
       "        vertical-align: middle;\n",
       "    }\n",
       "\n",
       "    .dataframe tbody tr th {\n",
       "        vertical-align: top;\n",
       "    }\n",
       "\n",
       "    .dataframe thead th {\n",
       "        text-align: right;\n",
       "    }\n",
       "</style>\n",
       "<table border=\"1\" class=\"dataframe\">\n",
       "  <thead>\n",
       "    <tr style=\"text-align: right;\">\n",
       "      <th></th>\n",
       "      <th>No. of Secured Loans</th>\n",
       "      <th>No. of unsecured loans</th>\n",
       "      <th>No. of live trade lines</th>\n",
       "      <th>Total no of trade line in last 12 months</th>\n",
       "      <th>No of PL trade lines in last 12 months</th>\n",
       "      <th>Time since first loans in months</th>\n",
       "      <th>Time since first PL loans in months</th>\n",
       "      <th>Time since last loan in months</th>\n",
       "      <th>Time since last PL loans in months</th>\n",
       "      <th>Ratio of live balance to live sanction amount in PL</th>\n",
       "      <th>...</th>\n",
       "      <th>Customer Vintage</th>\n",
       "      <th>Gender</th>\n",
       "      <th>Resident Type</th>\n",
       "      <th>Customer Age</th>\n",
       "      <th>Employement Type</th>\n",
       "      <th>DayOfWeek</th>\n",
       "      <th>Campaign Type</th>\n",
       "      <th>Time of the Day</th>\n",
       "      <th>Target Variable</th>\n",
       "      <th>ID</th>\n",
       "    </tr>\n",
       "  </thead>\n",
       "  <tbody>\n",
       "    <tr>\n",
       "      <th>0</th>\n",
       "      <td>False</td>\n",
       "      <td>False</td>\n",
       "      <td>False</td>\n",
       "      <td>False</td>\n",
       "      <td>False</td>\n",
       "      <td>False</td>\n",
       "      <td>False</td>\n",
       "      <td>False</td>\n",
       "      <td>False</td>\n",
       "      <td>False</td>\n",
       "      <td>...</td>\n",
       "      <td>False</td>\n",
       "      <td>False</td>\n",
       "      <td>False</td>\n",
       "      <td>False</td>\n",
       "      <td>False</td>\n",
       "      <td>False</td>\n",
       "      <td>False</td>\n",
       "      <td>False</td>\n",
       "      <td>False</td>\n",
       "      <td>False</td>\n",
       "    </tr>\n",
       "    <tr>\n",
       "      <th>1</th>\n",
       "      <td>False</td>\n",
       "      <td>False</td>\n",
       "      <td>False</td>\n",
       "      <td>False</td>\n",
       "      <td>False</td>\n",
       "      <td>False</td>\n",
       "      <td>False</td>\n",
       "      <td>False</td>\n",
       "      <td>False</td>\n",
       "      <td>False</td>\n",
       "      <td>...</td>\n",
       "      <td>False</td>\n",
       "      <td>False</td>\n",
       "      <td>False</td>\n",
       "      <td>False</td>\n",
       "      <td>False</td>\n",
       "      <td>False</td>\n",
       "      <td>False</td>\n",
       "      <td>False</td>\n",
       "      <td>False</td>\n",
       "      <td>False</td>\n",
       "    </tr>\n",
       "    <tr>\n",
       "      <th>2</th>\n",
       "      <td>False</td>\n",
       "      <td>False</td>\n",
       "      <td>False</td>\n",
       "      <td>False</td>\n",
       "      <td>False</td>\n",
       "      <td>False</td>\n",
       "      <td>False</td>\n",
       "      <td>False</td>\n",
       "      <td>False</td>\n",
       "      <td>False</td>\n",
       "      <td>...</td>\n",
       "      <td>False</td>\n",
       "      <td>False</td>\n",
       "      <td>False</td>\n",
       "      <td>False</td>\n",
       "      <td>False</td>\n",
       "      <td>False</td>\n",
       "      <td>False</td>\n",
       "      <td>False</td>\n",
       "      <td>False</td>\n",
       "      <td>False</td>\n",
       "    </tr>\n",
       "    <tr>\n",
       "      <th>3</th>\n",
       "      <td>False</td>\n",
       "      <td>False</td>\n",
       "      <td>False</td>\n",
       "      <td>False</td>\n",
       "      <td>False</td>\n",
       "      <td>False</td>\n",
       "      <td>False</td>\n",
       "      <td>False</td>\n",
       "      <td>False</td>\n",
       "      <td>False</td>\n",
       "      <td>...</td>\n",
       "      <td>False</td>\n",
       "      <td>False</td>\n",
       "      <td>False</td>\n",
       "      <td>False</td>\n",
       "      <td>False</td>\n",
       "      <td>False</td>\n",
       "      <td>False</td>\n",
       "      <td>False</td>\n",
       "      <td>False</td>\n",
       "      <td>False</td>\n",
       "    </tr>\n",
       "    <tr>\n",
       "      <th>4</th>\n",
       "      <td>False</td>\n",
       "      <td>False</td>\n",
       "      <td>False</td>\n",
       "      <td>False</td>\n",
       "      <td>False</td>\n",
       "      <td>False</td>\n",
       "      <td>False</td>\n",
       "      <td>False</td>\n",
       "      <td>False</td>\n",
       "      <td>False</td>\n",
       "      <td>...</td>\n",
       "      <td>False</td>\n",
       "      <td>False</td>\n",
       "      <td>False</td>\n",
       "      <td>False</td>\n",
       "      <td>False</td>\n",
       "      <td>False</td>\n",
       "      <td>False</td>\n",
       "      <td>False</td>\n",
       "      <td>False</td>\n",
       "      <td>False</td>\n",
       "    </tr>\n",
       "    <tr>\n",
       "      <th>...</th>\n",
       "      <td>...</td>\n",
       "      <td>...</td>\n",
       "      <td>...</td>\n",
       "      <td>...</td>\n",
       "      <td>...</td>\n",
       "      <td>...</td>\n",
       "      <td>...</td>\n",
       "      <td>...</td>\n",
       "      <td>...</td>\n",
       "      <td>...</td>\n",
       "      <td>...</td>\n",
       "      <td>...</td>\n",
       "      <td>...</td>\n",
       "      <td>...</td>\n",
       "      <td>...</td>\n",
       "      <td>...</td>\n",
       "      <td>...</td>\n",
       "      <td>...</td>\n",
       "      <td>...</td>\n",
       "      <td>...</td>\n",
       "      <td>...</td>\n",
       "    </tr>\n",
       "    <tr>\n",
       "      <th>83054</th>\n",
       "      <td>False</td>\n",
       "      <td>False</td>\n",
       "      <td>False</td>\n",
       "      <td>False</td>\n",
       "      <td>False</td>\n",
       "      <td>False</td>\n",
       "      <td>False</td>\n",
       "      <td>False</td>\n",
       "      <td>False</td>\n",
       "      <td>False</td>\n",
       "      <td>...</td>\n",
       "      <td>False</td>\n",
       "      <td>False</td>\n",
       "      <td>False</td>\n",
       "      <td>False</td>\n",
       "      <td>False</td>\n",
       "      <td>False</td>\n",
       "      <td>False</td>\n",
       "      <td>False</td>\n",
       "      <td>False</td>\n",
       "      <td>False</td>\n",
       "    </tr>\n",
       "    <tr>\n",
       "      <th>83055</th>\n",
       "      <td>False</td>\n",
       "      <td>False</td>\n",
       "      <td>False</td>\n",
       "      <td>False</td>\n",
       "      <td>False</td>\n",
       "      <td>False</td>\n",
       "      <td>False</td>\n",
       "      <td>False</td>\n",
       "      <td>False</td>\n",
       "      <td>False</td>\n",
       "      <td>...</td>\n",
       "      <td>False</td>\n",
       "      <td>False</td>\n",
       "      <td>False</td>\n",
       "      <td>False</td>\n",
       "      <td>False</td>\n",
       "      <td>False</td>\n",
       "      <td>False</td>\n",
       "      <td>False</td>\n",
       "      <td>False</td>\n",
       "      <td>False</td>\n",
       "    </tr>\n",
       "    <tr>\n",
       "      <th>83056</th>\n",
       "      <td>False</td>\n",
       "      <td>False</td>\n",
       "      <td>False</td>\n",
       "      <td>False</td>\n",
       "      <td>False</td>\n",
       "      <td>False</td>\n",
       "      <td>False</td>\n",
       "      <td>False</td>\n",
       "      <td>False</td>\n",
       "      <td>False</td>\n",
       "      <td>...</td>\n",
       "      <td>False</td>\n",
       "      <td>False</td>\n",
       "      <td>False</td>\n",
       "      <td>False</td>\n",
       "      <td>False</td>\n",
       "      <td>False</td>\n",
       "      <td>False</td>\n",
       "      <td>False</td>\n",
       "      <td>False</td>\n",
       "      <td>False</td>\n",
       "    </tr>\n",
       "    <tr>\n",
       "      <th>83057</th>\n",
       "      <td>False</td>\n",
       "      <td>False</td>\n",
       "      <td>False</td>\n",
       "      <td>False</td>\n",
       "      <td>False</td>\n",
       "      <td>False</td>\n",
       "      <td>False</td>\n",
       "      <td>False</td>\n",
       "      <td>False</td>\n",
       "      <td>False</td>\n",
       "      <td>...</td>\n",
       "      <td>False</td>\n",
       "      <td>False</td>\n",
       "      <td>False</td>\n",
       "      <td>False</td>\n",
       "      <td>False</td>\n",
       "      <td>False</td>\n",
       "      <td>False</td>\n",
       "      <td>False</td>\n",
       "      <td>False</td>\n",
       "      <td>False</td>\n",
       "    </tr>\n",
       "    <tr>\n",
       "      <th>83058</th>\n",
       "      <td>False</td>\n",
       "      <td>False</td>\n",
       "      <td>False</td>\n",
       "      <td>False</td>\n",
       "      <td>False</td>\n",
       "      <td>False</td>\n",
       "      <td>False</td>\n",
       "      <td>False</td>\n",
       "      <td>False</td>\n",
       "      <td>False</td>\n",
       "      <td>...</td>\n",
       "      <td>False</td>\n",
       "      <td>False</td>\n",
       "      <td>False</td>\n",
       "      <td>False</td>\n",
       "      <td>False</td>\n",
       "      <td>False</td>\n",
       "      <td>False</td>\n",
       "      <td>False</td>\n",
       "      <td>False</td>\n",
       "      <td>False</td>\n",
       "    </tr>\n",
       "  </tbody>\n",
       "</table>\n",
       "<p>83059 rows × 31 columns</p>\n",
       "</div>"
      ],
      "text/plain": [
       "       No. of Secured Loans  No. of unsecured loans  No. of live trade lines  \\\n",
       "0                     False                   False                    False   \n",
       "1                     False                   False                    False   \n",
       "2                     False                   False                    False   \n",
       "3                     False                   False                    False   \n",
       "4                     False                   False                    False   \n",
       "...                     ...                     ...                      ...   \n",
       "83054                 False                   False                    False   \n",
       "83055                 False                   False                    False   \n",
       "83056                 False                   False                    False   \n",
       "83057                 False                   False                    False   \n",
       "83058                 False                   False                    False   \n",
       "\n",
       "       Total no of trade line in last 12 months  \\\n",
       "0                                         False   \n",
       "1                                         False   \n",
       "2                                         False   \n",
       "3                                         False   \n",
       "4                                         False   \n",
       "...                                         ...   \n",
       "83054                                     False   \n",
       "83055                                     False   \n",
       "83056                                     False   \n",
       "83057                                     False   \n",
       "83058                                     False   \n",
       "\n",
       "       No of PL trade lines in last 12 months  \\\n",
       "0                                       False   \n",
       "1                                       False   \n",
       "2                                       False   \n",
       "3                                       False   \n",
       "4                                       False   \n",
       "...                                       ...   \n",
       "83054                                   False   \n",
       "83055                                   False   \n",
       "83056                                   False   \n",
       "83057                                   False   \n",
       "83058                                   False   \n",
       "\n",
       "       Time since first loans in months  Time since first PL loans in months  \\\n",
       "0                                 False                                False   \n",
       "1                                 False                                False   \n",
       "2                                 False                                False   \n",
       "3                                 False                                False   \n",
       "4                                 False                                False   \n",
       "...                                 ...                                  ...   \n",
       "83054                             False                                False   \n",
       "83055                             False                                False   \n",
       "83056                             False                                False   \n",
       "83057                             False                                False   \n",
       "83058                             False                                False   \n",
       "\n",
       "       Time since last loan in months  Time since last PL loans in months  \\\n",
       "0                               False                               False   \n",
       "1                               False                               False   \n",
       "2                               False                               False   \n",
       "3                               False                               False   \n",
       "4                               False                               False   \n",
       "...                               ...                                 ...   \n",
       "83054                           False                               False   \n",
       "83055                           False                               False   \n",
       "83056                           False                               False   \n",
       "83057                           False                               False   \n",
       "83058                           False                               False   \n",
       "\n",
       "       Ratio of live balance to live sanction amount in PL  ...  \\\n",
       "0                                                  False    ...   \n",
       "1                                                  False    ...   \n",
       "2                                                  False    ...   \n",
       "3                                                  False    ...   \n",
       "4                                                  False    ...   \n",
       "...                                                  ...    ...   \n",
       "83054                                              False    ...   \n",
       "83055                                              False    ...   \n",
       "83056                                              False    ...   \n",
       "83057                                              False    ...   \n",
       "83058                                              False    ...   \n",
       "\n",
       "       Customer Vintage  Gender  Resident Type  Customer Age  \\\n",
       "0                 False   False          False         False   \n",
       "1                 False   False          False         False   \n",
       "2                 False   False          False         False   \n",
       "3                 False   False          False         False   \n",
       "4                 False   False          False         False   \n",
       "...                 ...     ...            ...           ...   \n",
       "83054             False   False          False         False   \n",
       "83055             False   False          False         False   \n",
       "83056             False   False          False         False   \n",
       "83057             False   False          False         False   \n",
       "83058             False   False          False         False   \n",
       "\n",
       "       Employement Type  DayOfWeek  Campaign Type  Time of the Day  \\\n",
       "0                 False      False          False            False   \n",
       "1                 False      False          False            False   \n",
       "2                 False      False          False            False   \n",
       "3                 False      False          False            False   \n",
       "4                 False      False          False            False   \n",
       "...                 ...        ...            ...              ...   \n",
       "83054             False      False          False            False   \n",
       "83055             False      False          False            False   \n",
       "83056             False      False          False            False   \n",
       "83057             False      False          False            False   \n",
       "83058             False      False          False            False   \n",
       "\n",
       "       Target Variable     ID  \n",
       "0                False  False  \n",
       "1                False  False  \n",
       "2                False  False  \n",
       "3                False  False  \n",
       "4                False  False  \n",
       "...                ...    ...  \n",
       "83054            False  False  \n",
       "83055            False  False  \n",
       "83056            False  False  \n",
       "83057            False  False  \n",
       "83058            False  False  \n",
       "\n",
       "[83059 rows x 31 columns]"
      ]
     },
     "execution_count": 10,
     "metadata": {},
     "output_type": "execute_result"
    }
   ],
   "source": [
    "sell.isnull()"
   ]
  },
  {
   "cell_type": "code",
   "execution_count": 11,
   "id": "1871db61",
   "metadata": {},
   "outputs": [
    {
     "data": {
      "text/plain": [
       "No. of Secured Loans                                                0\n",
       "No. of unsecured loans                                              0\n",
       "No. of live trade lines                                             0\n",
       "Total no of trade line in last 12 months                            0\n",
       "No of PL trade lines in last 12 months                              0\n",
       "Time since first loans in months                                    0\n",
       "Time since first PL loans in months                                 0\n",
       "Time since last loan in months                                      0\n",
       "Time since last PL loans in months                                  0\n",
       "Ratio of live balance to live sanction amount in PL                 0\n",
       "Ratio of live balance to live sanction amount in SEC                0\n",
       "Ratio of live balance to live sanction amount in UNSEC              0\n",
       "Ratio of live UNSEC sanction amount to live SEC sanction amount     0\n",
       "Ratio of live UNSEC balance amount to live SEC balance amount       0\n",
       "Total number of enquiries in last 3 months                          0\n",
       "Total number of PL enquiries in last 3 months                       0\n",
       "Total number of enquiries in last 6 months                          0\n",
       "Total number of PL enquiries in last 6 months                       0\n",
       "Total number of enquiries in last 12 months                         0\n",
       "Total number of PL enquiries in last 12 months                      0\n",
       "Base Product Description                                           79\n",
       "Customer Vintage                                                   79\n",
       "Gender                                                              0\n",
       "Resident Type                                                       0\n",
       "Customer Age                                                        0\n",
       "Employement Type                                                    0\n",
       "DayOfWeek                                                           0\n",
       "Campaign Type                                                       0\n",
       "Time of the Day                                                     0\n",
       "Target Variable                                                     0\n",
       "ID                                                                  0\n",
       "dtype: int64"
      ]
     },
     "execution_count": 11,
     "metadata": {},
     "output_type": "execute_result"
    }
   ],
   "source": [
    "sell.isnull().sum()"
   ]
  },
  {
   "cell_type": "code",
   "execution_count": 12,
   "id": "c5b13423",
   "metadata": {},
   "outputs": [
    {
     "data": {
      "text/plain": [
       "SCOOTER                           27833\n",
       "MOTOR CYCLE                       27483\n",
       "MOPED                             25182\n",
       "Used Car                           1363\n",
       "NEW TRACTOR                         692\n",
       "LN REFINANCE                        163\n",
       "LT REFINANCE                         95\n",
       "LN SALE PURCHASE                     88\n",
       "LT SALE PURCHASE                     44\n",
       "LNSFI REFINANCE                      10\n",
       "SFI REFINANCE                         8\n",
       "TR MULTI BRAND SOURCING               7\n",
       "USED TRACTOR                          3\n",
       "LNSFI SALE PURCHASE                   3\n",
       "EBIKE                                 2\n",
       "LT SALE PURCHASE NEW PRODUCT          2\n",
       "LN SALE PURCHSE DEALER PAYMENT        1\n",
       "LT REFINANCE NEW PRODUCT              1\n",
       "Name: Base Product Description, dtype: int64"
      ]
     },
     "execution_count": 12,
     "metadata": {},
     "output_type": "execute_result"
    }
   ],
   "source": [
    "sell['Base Product Description'].value_counts()"
   ]
  },
  {
   "cell_type": "code",
   "execution_count": 13,
   "id": "c8bd0050",
   "metadata": {},
   "outputs": [
    {
     "data": {
      "text/plain": [
       "0    72504\n",
       "1    10555\n",
       "Name: Target Variable, dtype: int64"
      ]
     },
     "execution_count": 13,
     "metadata": {},
     "output_type": "execute_result"
    }
   ],
   "source": [
    "sell['Target Variable'].value_counts()"
   ]
  },
  {
   "cell_type": "code",
   "execution_count": 14,
   "id": "a694ce89",
   "metadata": {},
   "outputs": [
    {
     "data": {
      "text/plain": [
       "79"
      ]
     },
     "execution_count": 14,
     "metadata": {},
     "output_type": "execute_result"
    }
   ],
   "source": [
    "sell['Base Product Description'].isnull().sum()"
   ]
  },
  {
   "cell_type": "code",
   "execution_count": 15,
   "id": "0ad40c1b",
   "metadata": {},
   "outputs": [
    {
     "data": {
      "text/plain": [
       "MALE      69961\n",
       "FEMALE    13098\n",
       "Name: Gender, dtype: int64"
      ]
     },
     "execution_count": 15,
     "metadata": {},
     "output_type": "execute_result"
    }
   ],
   "source": [
    "sell['Gender'].value_counts()"
   ]
  },
  {
   "cell_type": "code",
   "execution_count": 16,
   "id": "ee43cb78",
   "metadata": {},
   "outputs": [
    {
     "data": {
      "text/plain": [
       "OWNED      74903\n",
       "RENTED      7442\n",
       "MISSING      705\n",
       "OTHER          9\n",
       "Name: Resident Type, dtype: int64"
      ]
     },
     "execution_count": 16,
     "metadata": {},
     "output_type": "execute_result"
    }
   ],
   "source": [
    "sell['Resident Type'].value_counts()"
   ]
  },
  {
   "cell_type": "code",
   "execution_count": 17,
   "id": "1140415a",
   "metadata": {},
   "outputs": [
    {
     "data": {
      "text/plain": [
       "31    2943\n",
       "33    2918\n",
       "37    2910\n",
       "35    2870\n",
       "36    2859\n",
       "38    2792\n",
       "41    2722\n",
       "32    2713\n",
       "34    2707\n",
       "30    2604\n",
       "39    2594\n",
       "45    2543\n",
       "46    2526\n",
       "40    2455\n",
       "29    2444\n",
       "43    2282\n",
       "44    2268\n",
       "51    2241\n",
       "42    2217\n",
       "48    2150\n",
       "28    2125\n",
       "47    2118\n",
       "49    2030\n",
       "50    2005\n",
       "27    1997\n",
       "56    1970\n",
       "52    1897\n",
       "53    1827\n",
       "26    1738\n",
       "55    1671\n",
       "54    1618\n",
       "25    1420\n",
       "57    1400\n",
       "58    1307\n",
       "61    1037\n",
       "24     984\n",
       "60     905\n",
       "59     877\n",
       "62     671\n",
       "23     623\n",
       "63     490\n",
       "22     353\n",
       "21     167\n",
       "20      51\n",
       "19      12\n",
       "64       8\n",
       "Name: Customer Age, dtype: int64"
      ]
     },
     "execution_count": 17,
     "metadata": {},
     "output_type": "execute_result"
    }
   ],
   "source": [
    "sell['Customer Age'].value_counts()"
   ]
  },
  {
   "cell_type": "code",
   "execution_count": 18,
   "id": "6138b011",
   "metadata": {},
   "outputs": [
    {
     "data": {
      "text/plain": [
       "SEMP       57373\n",
       "SAL        23461\n",
       "AGR         2132\n",
       "MISSING       93\n",
       "Name: Employement Type, dtype: int64"
      ]
     },
     "execution_count": 18,
     "metadata": {},
     "output_type": "execute_result"
    }
   ],
   "source": [
    "sell['Employement Type'].value_counts()"
   ]
  },
  {
   "cell_type": "code",
   "execution_count": 19,
   "id": "65a3fdf3",
   "metadata": {},
   "outputs": [
    {
     "data": {
      "text/plain": [
       "Cold Calling    66250\n",
       "SMS              6901\n",
       "IVR              5409\n",
       "SAATHI           3090\n",
       "Whatsapp         1015\n",
       "Helpdesk          239\n",
       "Toll Free         155\n",
       "Name: Campaign Type, dtype: int64"
      ]
     },
     "execution_count": 19,
     "metadata": {},
     "output_type": "execute_result"
    }
   ],
   "source": [
    "sell['Campaign Type'].value_counts()"
   ]
  },
  {
   "cell_type": "markdown",
   "id": "179c0f45",
   "metadata": {},
   "source": [
    "## Bivariate Analysis"
   ]
  },
  {
   "cell_type": "code",
   "execution_count": 20,
   "id": "0a1f8f2c",
   "metadata": {},
   "outputs": [
    {
     "data": {
      "text/plain": [
       "<AxesSubplot:xlabel='Campaign Type', ylabel='count'>"
      ]
     },
     "execution_count": 20,
     "metadata": {},
     "output_type": "execute_result"
    },
    {
     "data": {
      "image/png": "[encoded data removed]",
      "text/plain": [
       "<Figure size 432x288 with 1 Axes>"
      ]
     },
     "metadata": {
      "needs_background": "light"
     },
     "output_type": "display_data"
    }
   ],
   "source": [
    "sns.countplot(x='Campaign Type',data=sell,hue='Target Variable')"
   ]
  },
  {
   "cell_type": "code",
   "execution_count": 21,
   "id": "ff81d2ed",
   "metadata": {},
   "outputs": [
    {
     "data": {
      "text/plain": [
       "<AxesSubplot:xlabel='DayOfWeek', ylabel='count'>"
      ]
     },
     "execution_count": 21,
     "metadata": {},
     "output_type": "execute_result"
    },
    {
     "data": {
      "image/png": "[encoded data removed]",
      "text/plain": [
       "<Figure size 432x288 with 1 Axes>"
      ]
     },
     "metadata": {
      "needs_background": "light"
     },
     "output_type": "display_data"
    }
   ],
   "source": [
    "sns.countplot(x='DayOfWeek',data=sell,hue='Target Variable')"
   ]
  },
  {
   "cell_type": "code",
   "execution_count": 22,
   "id": "1a2421fa",
   "metadata": {},
   "outputs": [
    {
     "data": {
      "text/plain": [
       "<AxesSubplot:xlabel='Resident Type', ylabel='count'>"
      ]
     },
     "execution_count": 22,
     "metadata": {},
     "output_type": "execute_result"
    },
    {
     "data": {
      "image/png": "[encoded data removed]",
      "text/plain": [
       "<Figure size 432x288 with 1 Axes>"
      ]
     },
     "metadata": {
      "needs_background": "light"
     },
     "output_type": "display_data"
    }
   ],
   "source": [
    "sns.countplot(x='Resident Type',data=sell,hue='Target Variable')"
   ]
  },
  {
   "cell_type": "code",
   "execution_count": 23,
   "id": "080094de",
   "metadata": {},
   "outputs": [
    {
     "data": {
      "text/plain": [
       "<AxesSubplot:xlabel='Gender', ylabel='count'>"
      ]
     },
     "execution_count": 23,
     "metadata": {},
     "output_type": "execute_result"
    },
    {
     "data": {
      "image/png": "[encoded data removed]",
      "text/plain": [
       "<Figure size 432x288 with 1 Axes>"
      ]
     },
     "metadata": {
      "needs_background": "light"
     },
     "output_type": "display_data"
    }
   ],
   "source": [
    "sns.countplot(x='Gender',data=sell,hue='Target Variable')"
   ]
  },
  {
   "cell_type": "code",
   "execution_count": 24,
   "id": "ede3a516",
   "metadata": {},
   "outputs": [
    {
     "data": {
      "text/plain": [
       "<AxesSubplot:xlabel='No of PL trade lines in last 12 months', ylabel='count'>"
      ]
     },
     "execution_count": 24,
     "metadata": {},
     "output_type": "execute_result"
    },
    {
     "data": {
      "image/png": "[encoded data removed]",
      "text/plain": [
       "<Figure size 432x288 with 1 Axes>"
      ]
     },
     "metadata": {
      "needs_background": "light"
     },
     "output_type": "display_data"
    }
   ],
   "source": [
    "sns.countplot(x='No of PL trade lines in last 12 months',data=sell,hue='Target Variable')"
   ]
  },
  {
   "cell_type": "code",
   "execution_count": 25,
   "id": "5dba882d",
   "metadata": {},
   "outputs": [
    {
     "data": {
      "text/plain": [
       "<AxesSubplot:xlabel='Employement Type', ylabel='count'>"
      ]
     },
     "execution_count": 25,
     "metadata": {},
     "output_type": "execute_result"
    },
    {
     "data": {
      "image/png": "[encoded data removed]",
      "text/plain": [
       "<Figure size 432x288 with 1 Axes>"
      ]
     },
     "metadata": {
      "needs_background": "light"
     },
     "output_type": "display_data"
    }
   ],
   "source": [
    "sns.countplot(x='Employement Type',data=sell,hue='Target Variable')"
   ]
  },
  {
   "cell_type": "code",
   "execution_count": 26,
   "id": "89f2b72a",
   "metadata": {},
   "outputs": [
    {
     "data": {
      "text/html": [
       "<div>\n",
       "<style scoped>\n",
       "    .dataframe tbody tr th:only-of-type {\n",
       "        vertical-align: middle;\n",
       "    }\n",
       "\n",
       "    .dataframe tbody tr th {\n",
       "        vertical-align: top;\n",
       "    }\n",
       "\n",
       "    .dataframe thead th {\n",
       "        text-align: right;\n",
       "    }\n",
       "</style>\n",
       "<table border=\"1\" class=\"dataframe\">\n",
       "  <thead>\n",
       "    <tr style=\"text-align: right;\">\n",
       "      <th></th>\n",
       "      <th>Base Product Description</th>\n",
       "      <th>Target Variable</th>\n",
       "    </tr>\n",
       "  </thead>\n",
       "  <tbody>\n",
       "    <tr>\n",
       "      <th>0</th>\n",
       "      <td>LN REFINANCE</td>\n",
       "      <td>18</td>\n",
       "    </tr>\n",
       "    <tr>\n",
       "      <th>1</th>\n",
       "      <td>LN SALE PURCHASE</td>\n",
       "      <td>13</td>\n",
       "    </tr>\n",
       "    <tr>\n",
       "      <th>2</th>\n",
       "      <td>LT REFINANCE</td>\n",
       "      <td>9</td>\n",
       "    </tr>\n",
       "    <tr>\n",
       "      <th>3</th>\n",
       "      <td>LT REFINANCE NEW PRODUCT</td>\n",
       "      <td>1</td>\n",
       "    </tr>\n",
       "    <tr>\n",
       "      <th>4</th>\n",
       "      <td>LT SALE PURCHASE</td>\n",
       "      <td>2</td>\n",
       "    </tr>\n",
       "    <tr>\n",
       "      <th>5</th>\n",
       "      <td>MOPED</td>\n",
       "      <td>2659</td>\n",
       "    </tr>\n",
       "    <tr>\n",
       "      <th>6</th>\n",
       "      <td>MOTOR CYCLE</td>\n",
       "      <td>4158</td>\n",
       "    </tr>\n",
       "    <tr>\n",
       "      <th>7</th>\n",
       "      <td>NEW TRACTOR</td>\n",
       "      <td>39</td>\n",
       "    </tr>\n",
       "    <tr>\n",
       "      <th>8</th>\n",
       "      <td>SCOOTER</td>\n",
       "      <td>3451</td>\n",
       "    </tr>\n",
       "    <tr>\n",
       "      <th>9</th>\n",
       "      <td>SFI REFINANCE</td>\n",
       "      <td>2</td>\n",
       "    </tr>\n",
       "    <tr>\n",
       "      <th>10</th>\n",
       "      <td>Used Car</td>\n",
       "      <td>193</td>\n",
       "    </tr>\n",
       "  </tbody>\n",
       "</table>\n",
       "</div>"
      ],
      "text/plain": [
       "    Base Product Description  Target Variable\n",
       "0               LN REFINANCE               18\n",
       "1           LN SALE PURCHASE               13\n",
       "2               LT REFINANCE                9\n",
       "3   LT REFINANCE NEW PRODUCT                1\n",
       "4           LT SALE PURCHASE                2\n",
       "5                      MOPED             2659\n",
       "6                MOTOR CYCLE             4158\n",
       "7                NEW TRACTOR               39\n",
       "8                    SCOOTER             3451\n",
       "9              SFI REFINANCE                2\n",
       "10                  Used Car              193"
      ]
     },
     "execution_count": 26,
     "metadata": {},
     "output_type": "execute_result"
    }
   ],
   "source": [
    "converted = sell[sell['Target Variable']==1].groupby('Base Product Description')['Target Variable'].count().reset_index()\n",
    "converted"
   ]
  },
  {
   "cell_type": "code",
   "execution_count": 27,
   "id": "b156f41b",
   "metadata": {},
   "outputs": [
    {
     "data": {
      "image/png": "[encoded data removed]",
      "text/plain": [
       "<Figure size 1008x504 with 1 Axes>"
      ]
     },
     "metadata": {
      "needs_background": "light"
     },
     "output_type": "display_data"
    }
   ],
   "source": [
    "plt.figure(figsize=(14, 7))\n",
    "tot = sell.groupby('Base Product Description')['Target Variable'].count().reset_index()\n",
    "\n",
    "bar2 = sns.barplot(x=\"Base Product Description\",  y=\"Target Variable\", data=tot, color='darkblue')\n",
    "bar1= sns.barplot(x=\"Base Product Description\", y=\"Target Variable\", data=converted, color='lightblue')\n",
    "plt.show()"
   ]
  },
  {
   "cell_type": "code",
   "execution_count": 28,
   "id": "48e427a8",
   "metadata": {},
   "outputs": [
    {
     "data": {
      "text/plain": [
       "Customer Age\n",
       "19      1\n",
       "20     12\n",
       "21     27\n",
       "22     75\n",
       "23    115\n",
       "24    174\n",
       "25    271\n",
       "26    292\n",
       "27    341\n",
       "28    337\n",
       "29    364\n",
       "30    409\n",
       "31    418\n",
       "32    384\n",
       "33    437\n",
       "34    384\n",
       "35    411\n",
       "36    396\n",
       "37    364\n",
       "38    369\n",
       "39    347\n",
       "40    291\n",
       "41    328\n",
       "42    319\n",
       "43    268\n",
       "44    257\n",
       "45    281\n",
       "46    295\n",
       "47    242\n",
       "48    229\n",
       "49    189\n",
       "50    171\n",
       "51    236\n",
       "52    199\n",
       "53    196\n",
       "54    167\n",
       "55    163\n",
       "56    186\n",
       "57    115\n",
       "58    129\n",
       "59     94\n",
       "60     84\n",
       "61    114\n",
       "62     46\n",
       "63     28\n",
       "Name: Target Variable, dtype: int64"
      ]
     },
     "execution_count": 28,
     "metadata": {},
     "output_type": "execute_result"
    }
   ],
   "source": [
    "sell[sell['Target Variable']==1].groupby('Customer Age')['Target Variable'].count()"
   ]
  },
  {
   "cell_type": "code",
   "execution_count": 29,
   "id": "f9219974",
   "metadata": {},
   "outputs": [
    {
     "data": {
      "text/plain": [
       "Target Variable\n",
       "0    72438\n",
       "1    10542\n",
       "Name: No. of Secured Loans, dtype: int64"
      ]
     },
     "execution_count": 29,
     "metadata": {},
     "output_type": "execute_result"
    }
   ],
   "source": [
    "sell[sell['No. of Secured Loans']!=0].groupby('Target Variable')['No. of Secured Loans'].count()"
   ]
  },
  {
   "cell_type": "code",
   "execution_count": 30,
   "id": "602ac977",
   "metadata": {},
   "outputs": [
    {
     "data": {
      "text/plain": [
       "Target Variable\n",
       "0    1947\n",
       "1     552\n",
       "Name: No of PL trade lines in last 12 months, dtype: int64"
      ]
     },
     "execution_count": 30,
     "metadata": {},
     "output_type": "execute_result"
    }
   ],
   "source": [
    "sell[sell['No of PL trade lines in last 12 months']!=0].groupby('Target Variable')['No of PL trade lines in last 12 months'].count()"
   ]
  },
  {
   "cell_type": "code",
   "execution_count": 31,
   "id": "c123e57d",
   "metadata": {},
   "outputs": [
    {
     "data": {
      "text/plain": [
       "Target Variable\n",
       "0    13301\n",
       "1     2605\n",
       "Name: Time since first PL loans in months, dtype: int64"
      ]
     },
     "execution_count": 31,
     "metadata": {},
     "output_type": "execute_result"
    }
   ],
   "source": [
    "sell[sell['Time since first PL loans in months']!=0].groupby('Target Variable')['Time since first PL loans in months'].count()"
   ]
  },
  {
   "cell_type": "code",
   "execution_count": 32,
   "id": "e11c4bcc",
   "metadata": {},
   "outputs": [
    {
     "data": {
      "text/plain": [
       "Target Variable\n",
       "0    15\n",
       "1     4\n",
       "Name: Time since first PL loans in months, dtype: int64"
      ]
     },
     "execution_count": 32,
     "metadata": {},
     "output_type": "execute_result"
    }
   ],
   "source": [
    "sell[sell['Time since last PL loans in months']!=0].groupby('Target Variable')['Time since first PL loans in months'].count()"
   ]
  },
  {
   "cell_type": "code",
   "execution_count": 33,
   "id": "68852e09",
   "metadata": {},
   "outputs": [
    {
     "data": {
      "text/plain": [
       "Target Variable\n",
       "0    710\n",
       "1    287\n",
       "Name: Total number of PL enquiries in last 3 months, dtype: int64"
      ]
     },
     "execution_count": 33,
     "metadata": {},
     "output_type": "execute_result"
    }
   ],
   "source": [
    "sell[sell['Total number of PL enquiries in last 3 months']!=0].groupby('Target Variable')['Total number of PL enquiries in last 3 months'].count()"
   ]
  },
  {
   "cell_type": "code",
   "execution_count": 34,
   "id": "b2bfd9a0",
   "metadata": {},
   "outputs": [
    {
     "data": {
      "text/plain": [
       "Target Variable\n",
       "0    2105\n",
       "1     654\n",
       "Name: Total number of PL enquiries in last 6 months, dtype: int64"
      ]
     },
     "execution_count": 34,
     "metadata": {},
     "output_type": "execute_result"
    }
   ],
   "source": [
    "sell[sell['Total number of PL enquiries in last 6 months']!=0].groupby('Target Variable')['Total number of PL enquiries in last 6 months'].count()"
   ]
  },
  {
   "cell_type": "code",
   "execution_count": 35,
   "id": "dd4606e0",
   "metadata": {},
   "outputs": [
    {
     "data": {
      "text/plain": [
       "Target Variable\n",
       "0    4234\n",
       "1    1286\n",
       "Name: Total number of PL enquiries in last 12 months, dtype: int64"
      ]
     },
     "execution_count": 35,
     "metadata": {},
     "output_type": "execute_result"
    }
   ],
   "source": [
    "sell[sell['Total number of PL enquiries in last 12 months']!=0].groupby('Target Variable')['Total number of PL enquiries in last 12 months'].count()"
   ]
  },
  {
   "cell_type": "code",
   "execution_count": 36,
   "id": "367ff3c0",
   "metadata": {},
   "outputs": [
    {
     "data": {
      "text/plain": [
       "Customer Vintage\n",
       "1.0      6629\n",
       "2.0      8848\n",
       "3.0     11693\n",
       "4.0     12669\n",
       "5.0     10598\n",
       "6.0      8832\n",
       "7.0      8045\n",
       "8.0      6663\n",
       "9.0      5584\n",
       "10.0     2794\n",
       "11.0      625\n",
       "Name: Target Variable, dtype: int64"
      ]
     },
     "execution_count": 36,
     "metadata": {},
     "output_type": "execute_result"
    }
   ],
   "source": [
    "sell[sell['Customer Vintage']>0].groupby('Customer Vintage')['Target Variable'].count()"
   ]
  },
  {
   "cell_type": "code",
   "execution_count": 37,
   "id": "7ede1af8",
   "metadata": {},
   "outputs": [
    {
     "data": {
      "text/plain": [
       "Base Product Description        Target Variable\n",
       "EBIKE                           0                      2\n",
       "LN REFINANCE                    0                    145\n",
       "                                1                     18\n",
       "LN SALE PURCHASE                0                     75\n",
       "                                1                     13\n",
       "LN SALE PURCHSE DEALER PAYMENT  0                      1\n",
       "LNSFI REFINANCE                 0                     10\n",
       "LNSFI SALE PURCHASE             0                      3\n",
       "LT REFINANCE                    0                     86\n",
       "                                1                      9\n",
       "LT REFINANCE NEW PRODUCT        1                      1\n",
       "LT SALE PURCHASE                0                     42\n",
       "                                1                      2\n",
       "LT SALE PURCHASE NEW PRODUCT    0                      2\n",
       "MOPED                           0                  22523\n",
       "                                1                   2659\n",
       "MOTOR CYCLE                     0                  23325\n",
       "                                1                   4158\n",
       "NEW TRACTOR                     0                    653\n",
       "                                1                     39\n",
       "SCOOTER                         0                  24382\n",
       "                                1                   3451\n",
       "SFI REFINANCE                   0                      6\n",
       "                                1                      2\n",
       "TR MULTI BRAND SOURCING         0                      7\n",
       "USED TRACTOR                    0                      3\n",
       "Used Car                        0                   1170\n",
       "                                1                    193\n",
       "Name: ID, dtype: int64"
      ]
     },
     "execution_count": 37,
     "metadata": {},
     "output_type": "execute_result"
    }
   ],
   "source": [
    "sell.groupby(['Base Product Description','Target Variable']).count()['ID']"
   ]
  },
  {
   "cell_type": "code",
   "execution_count": 38,
   "id": "779136a3",
   "metadata": {},
   "outputs": [
    {
     "data": {
      "text/plain": [
       "DayOfWeek  Campaign Type\n",
       "Friday     Cold Calling     424\n",
       "           Helpdesk          21\n",
       "           IVR              234\n",
       "           SAATHI           244\n",
       "           SMS              405\n",
       "           Toll Free         12\n",
       "           Whatsapp          78\n",
       "Monday     Cold Calling     448\n",
       "           Helpdesk          23\n",
       "           IVR              307\n",
       "           SAATHI           239\n",
       "           SMS              555\n",
       "           Toll Free         23\n",
       "           Whatsapp          73\n",
       "Saturday   Cold Calling     458\n",
       "           Helpdesk          21\n",
       "           IVR              332\n",
       "           SAATHI           257\n",
       "           SMS              504\n",
       "           Toll Free         17\n",
       "           Whatsapp          55\n",
       "Sunday     Cold Calling     223\n",
       "           Helpdesk           8\n",
       "           IVR              161\n",
       "           SAATHI           147\n",
       "           SMS              192\n",
       "           Toll Free          9\n",
       "           Whatsapp          20\n",
       "Thursday   Cold Calling     446\n",
       "           Helpdesk          23\n",
       "           IVR              286\n",
       "           SAATHI           200\n",
       "           SMS              530\n",
       "           Toll Free         18\n",
       "           Whatsapp          71\n",
       "Tuesday    Cold Calling     442\n",
       "           Helpdesk          19\n",
       "           IVR              365\n",
       "           SAATHI           186\n",
       "           SMS              609\n",
       "           Toll Free         17\n",
       "           Whatsapp          81\n",
       "Wednesday  Cold Calling     483\n",
       "           Helpdesk          22\n",
       "           IVR              336\n",
       "           SAATHI           226\n",
       "           SMS              600\n",
       "           Toll Free         27\n",
       "           Whatsapp          78\n",
       "Name: Target Variable, dtype: int64"
      ]
     },
     "execution_count": 38,
     "metadata": {},
     "output_type": "execute_result"
    }
   ],
   "source": [
    "sell[sell['Target Variable']==1].groupby(['DayOfWeek','Campaign Type'])['Target Variable'].count()"
   ]
  },
  {
   "cell_type": "code",
   "execution_count": 39,
   "id": "a5353685",
   "metadata": {},
   "outputs": [
    {
     "name": "stderr",
     "output_type": "stream",
     "text": [
      "C:\\ProgramData\\Anaconda3\\lib\\site-packages\\seaborn\\distributions.py:2557: FutureWarning: `distplot` is a deprecated function and will be removed in a future version. Please adapt your code to use either `displot` (a figure-level function with similar flexibility) or `histplot` (an axes-level function for histograms).\n",
      "  warnings.warn(msg, FutureWarning)\n",
      "C:\\ProgramData\\Anaconda3\\lib\\site-packages\\seaborn\\distributions.py:2557: FutureWarning: `distplot` is a deprecated function and will be removed in a future version. Please adapt your code to use either `displot` (a figure-level function with similar flexibility) or `histplot` (an axes-level function for histograms).\n",
      "  warnings.warn(msg, FutureWarning)\n"
     ]
    },
    {
     "data": {
      "text/plain": [
       "<AxesSubplot:xlabel='Customer Age', ylabel='Density'>"
      ]
     },
     "execution_count": 39,
     "metadata": {},
     "output_type": "execute_result"
    },
    {
     "data": {
      "image/png": "[encoded data removed]",
      "text/plain": [
       "<Figure size 864x576 with 1 Axes>"
      ]
     },
     "metadata": {
      "needs_background": "light"
     },
     "output_type": "display_data"
    }
   ],
   "source": [
    "plt.figure(figsize=(12, 8))\n",
    "\n",
    "sns.distplot(sell[sell['Target Variable']==1]['Customer Age'],bins=50)\n",
    "sns.distplot(sell[sell['Target Variable']==0]['Customer Age'],bins=50,color='red')"
   ]
  },
  {
   "cell_type": "markdown",
   "id": "a76fc613",
   "metadata": {},
   "source": [
    "# Model Implementation"
   ]
  },
  {
   "cell_type": "code",
   "execution_count": 40,
   "id": "94f2b43b",
   "metadata": {},
   "outputs": [
    {
     "data": {
      "text/plain": [
       "No. of Secured Loans                                                 int64\n",
       "No. of unsecured loans                                               int64\n",
       "No. of live trade lines                                              int64\n",
       "Total no of trade line in last 12 months                             int64\n",
       "No of PL trade lines in last 12 months                               int64\n",
       "Time since first loans in months                                     int64\n",
       "Time since first PL loans in months                                  int64\n",
       "Time since last loan in months                                       int64\n",
       "Time since last PL loans in months                                   int64\n",
       "Ratio of live balance to live sanction amount in PL                float64\n",
       "Ratio of live balance to live sanction amount in SEC               float64\n",
       "Ratio of live balance to live sanction amount in UNSEC             float64\n",
       "Ratio of live UNSEC sanction amount to live SEC sanction amount    float64\n",
       "Ratio of live UNSEC balance amount to live SEC balance amount      float64\n",
       "Total number of enquiries in last 3 months                           int64\n",
       "Total number of PL enquiries in last 3 months                        int64\n",
       "Total number of enquiries in last 6 months                           int64\n",
       "Total number of PL enquiries in last 6 months                        int64\n",
       "Total number of enquiries in last 12 months                          int64\n",
       "Total number of PL enquiries in last 12 months                       int64\n",
       "Base Product Description                                            object\n",
       "Customer Vintage                                                   float64\n",
       "Gender                                                              object\n",
       "Resident Type                                                       object\n",
       "Customer Age                                                         int64\n",
       "Employement Type                                                    object\n",
       "DayOfWeek                                                           object\n",
       "Campaign Type                                                       object\n",
       "Time of the Day                                                     object\n",
       "Target Variable                                                      int64\n",
       "ID                                                                   int64\n",
       "dtype: object"
      ]
     },
     "execution_count": 40,
     "metadata": {},
     "output_type": "execute_result"
    }
   ],
   "source": [
    "sell.dtypes"
   ]
  },
  {
   "cell_type": "code",
   "execution_count": 41,
   "id": "d7d4e4ce",
   "metadata": {},
   "outputs": [
    {
     "data": {
      "text/plain": [
       "Index(['No. of Secured Loans', 'No. of unsecured loans',\n",
       "       'No. of live trade lines', 'Total no of trade line in last 12 months',\n",
       "       'No of PL trade lines in last 12 months',\n",
       "       'Time since first loans in months',\n",
       "       'Time since first PL loans in months', 'Time since last loan in months',\n",
       "       'Time since last PL loans in months',\n",
       "       'Ratio of live balance to live sanction amount in PL',\n",
       "       'Ratio of live balance to live sanction amount in SEC',\n",
       "       'Ratio of live balance to live sanction amount in UNSEC',\n",
       "       'Ratio of live UNSEC sanction amount to live SEC sanction amount',\n",
       "       'Ratio of live UNSEC balance amount to live SEC balance amount',\n",
       "       'Total number of enquiries in last 3 months',\n",
       "       'Total number of PL enquiries in last 3 months',\n",
       "       'Total number of enquiries in last 6 months',\n",
       "       'Total number of PL enquiries in last 6 months',\n",
       "       'Total number of enquiries in last 12 months',\n",
       "       'Total number of PL enquiries in last 12 months',\n",
       "       'Base Product Description', 'Customer Vintage', 'Gender',\n",
       "       'Resident Type', 'Customer Age', 'Employement Type', 'DayOfWeek',\n",
       "       'Campaign Type', 'Time of the Day', 'Target Variable', 'ID'],\n",
       "      dtype='object')"
      ]
     },
     "execution_count": 41,
     "metadata": {},
     "output_type": "execute_result"
    }
   ],
   "source": [
    "sell.columns"
   ]
  },
  {
   "cell_type": "code",
   "execution_count": 42,
   "id": "e8b685a5",
   "metadata": {},
   "outputs": [],
   "source": [
    "sell_new = sell.drop(['ID','No. of unsecured loans','Total no of trade line in last 12 months','Time since first loans in months','Time since last loan in months',\n",
    "                      'Ratio of live balance to live sanction amount in PL',\n",
    "       'Ratio of live balance to live sanction amount in SEC',\n",
    "       'Ratio of live balance to live sanction amount in UNSEC',\n",
    "                     'Ratio of live UNSEC sanction amount to live SEC sanction amount',\n",
    "       'Ratio of live UNSEC balance amount to live SEC balance amount',],axis=1)"
   ]
  },
  {
   "cell_type": "code",
   "execution_count": 43,
   "id": "6463df5f",
   "metadata": {},
   "outputs": [
    {
     "data": {
      "text/plain": [
       "No. of Secured Loans                               0\n",
       "No. of live trade lines                            0\n",
       "No of PL trade lines in last 12 months             0\n",
       "Time since first PL loans in months                0\n",
       "Time since last PL loans in months                 0\n",
       "Total number of enquiries in last 3 months         0\n",
       "Total number of PL enquiries in last 3 months      0\n",
       "Total number of enquiries in last 6 months         0\n",
       "Total number of PL enquiries in last 6 months      0\n",
       "Total number of enquiries in last 12 months        0\n",
       "Total number of PL enquiries in last 12 months     0\n",
       "Base Product Description                          79\n",
       "Customer Vintage                                  79\n",
       "Gender                                             0\n",
       "Resident Type                                      0\n",
       "Customer Age                                       0\n",
       "Employement Type                                   0\n",
       "DayOfWeek                                          0\n",
       "Campaign Type                                      0\n",
       "Time of the Day                                    0\n",
       "Target Variable                                    0\n",
       "dtype: int64"
      ]
     },
     "execution_count": 43,
     "metadata": {},
     "output_type": "execute_result"
    }
   ],
   "source": [
    "sell_new.isnull().sum()"
   ]
  },
  {
   "cell_type": "code",
   "execution_count": 44,
   "id": "cf17f2bb",
   "metadata": {},
   "outputs": [],
   "source": [
    "sell_new = sell_new.dropna()"
   ]
  },
  {
   "cell_type": "code",
   "execution_count": 45,
   "id": "21c39b82",
   "metadata": {},
   "outputs": [
    {
     "data": {
      "text/plain": [
       "No. of Secured Loans                              0\n",
       "No. of live trade lines                           0\n",
       "No of PL trade lines in last 12 months            0\n",
       "Time since first PL loans in months               0\n",
       "Time since last PL loans in months                0\n",
       "Total number of enquiries in last 3 months        0\n",
       "Total number of PL enquiries in last 3 months     0\n",
       "Total number of enquiries in last 6 months        0\n",
       "Total number of PL enquiries in last 6 months     0\n",
       "Total number of enquiries in last 12 months       0\n",
       "Total number of PL enquiries in last 12 months    0\n",
       "Base Product Description                          0\n",
       "Customer Vintage                                  0\n",
       "Gender                                            0\n",
       "Resident Type                                     0\n",
       "Customer Age                                      0\n",
       "Employement Type                                  0\n",
       "DayOfWeek                                         0\n",
       "Campaign Type                                     0\n",
       "Time of the Day                                   0\n",
       "Target Variable                                   0\n",
       "dtype: int64"
      ]
     },
     "execution_count": 45,
     "metadata": {},
     "output_type": "execute_result"
    }
   ],
   "source": [
    "sell_new.isnull().sum()"
   ]
  },
  {
   "cell_type": "code",
   "execution_count": 46,
   "id": "e7c6c22c",
   "metadata": {},
   "outputs": [],
   "source": [
    "sell_new1 = pd.get_dummies(sell_new)"
   ]
  },
  {
   "cell_type": "code",
   "execution_count": 47,
   "id": "f47927b2",
   "metadata": {},
   "outputs": [
    {
     "data": {
      "text/plain": [
       "Index(['No. of Secured Loans', 'No. of live trade lines',\n",
       "       'No of PL trade lines in last 12 months',\n",
       "       'Time since first PL loans in months',\n",
       "       'Time since last PL loans in months',\n",
       "       'Total number of enquiries in last 3 months',\n",
       "       'Total number of PL enquiries in last 3 months',\n",
       "       'Total number of enquiries in last 6 months',\n",
       "       'Total number of PL enquiries in last 6 months',\n",
       "       'Total number of enquiries in last 12 months',\n",
       "       'Total number of PL enquiries in last 12 months', 'Customer Vintage',\n",
       "       'Customer Age', 'Target Variable', 'Base Product Description_EBIKE',\n",
       "       'Base Product Description_LN REFINANCE',\n",
       "       'Base Product Description_LN SALE PURCHASE',\n",
       "       'Base Product Description_LN SALE PURCHSE DEALER PAYMENT',\n",
       "       'Base Product Description_LNSFI REFINANCE',\n",
       "       'Base Product Description_LNSFI SALE PURCHASE',\n",
       "       'Base Product Description_LT REFINANCE',\n",
       "       'Base Product Description_LT REFINANCE NEW PRODUCT',\n",
       "       'Base Product Description_LT SALE PURCHASE',\n",
       "       'Base Product Description_LT SALE PURCHASE NEW PRODUCT',\n",
       "       'Base Product Description_MOPED',\n",
       "       'Base Product Description_MOTOR CYCLE',\n",
       "       'Base Product Description_NEW TRACTOR',\n",
       "       'Base Product Description_SCOOTER',\n",
       "       'Base Product Description_SFI REFINANCE',\n",
       "       'Base Product Description_TR MULTI BRAND SOURCING',\n",
       "       'Base Product Description_USED TRACTOR',\n",
       "       'Base Product Description_Used Car', 'Gender_FEMALE', 'Gender_MALE',\n",
       "       'Resident Type_MISSING', 'Resident Type_OTHER', 'Resident Type_OWNED',\n",
       "       'Resident Type_RENTED', 'Employement Type_AGR',\n",
       "       'Employement Type_MISSING', 'Employement Type_SAL',\n",
       "       'Employement Type_SEMP', 'DayOfWeek_Friday', 'DayOfWeek_Monday',\n",
       "       'DayOfWeek_Saturday', 'DayOfWeek_Sunday', 'DayOfWeek_Thursday',\n",
       "       'DayOfWeek_Tuesday', 'DayOfWeek_Wednesday',\n",
       "       'Campaign Type_Cold Calling', 'Campaign Type_Helpdesk',\n",
       "       'Campaign Type_IVR', 'Campaign Type_SAATHI', 'Campaign Type_SMS',\n",
       "       'Campaign Type_Toll Free', 'Campaign Type_Whatsapp',\n",
       "       'Time of the Day_1-PM', 'Time of the Day_10-AM',\n",
       "       'Time of the Day_11-AM', 'Time of the Day_12-PM',\n",
       "       'Time of the Day_2-PM', 'Time of the Day_3-PM', 'Time of the Day_4-PM',\n",
       "       'Time of the Day_5-PM', 'Time of the Day_6-PM', 'Time of the Day_7-PM',\n",
       "       'Time of the Day_8-AM', 'Time of the Day_9-AM'],\n",
       "      dtype='object')"
      ]
     },
     "execution_count": 47,
     "metadata": {},
     "output_type": "execute_result"
    }
   ],
   "source": [
    "sell_new1.columns"
   ]
  },
  {
   "cell_type": "code",
   "execution_count": 48,
   "id": "26ddddcb",
   "metadata": {},
   "outputs": [],
   "source": [
    "X=sell_new1[['No. of Secured Loans', 'No. of live trade lines',\n",
    "       'No of PL trade lines in last 12 months',\n",
    "       'Time since first PL loans in months',\n",
    "       'Time since last PL loans in months',\n",
    "       'Total number of enquiries in last 3 months',\n",
    "       'Total number of PL enquiries in last 3 months',\n",
    "       'Total number of enquiries in last 6 months',\n",
    "       'Total number of PL enquiries in last 6 months',\n",
    "       'Total number of enquiries in last 12 months',\n",
    "       'Total number of PL enquiries in last 12 months', 'Customer Vintage',\n",
    "       'Customer Age', 'Base Product Description_EBIKE',\n",
    "       'Base Product Description_LN REFINANCE',\n",
    "       'Base Product Description_LN SALE PURCHASE',\n",
    "       'Base Product Description_LN SALE PURCHSE DEALER PAYMENT',\n",
    "       'Base Product Description_LNSFI REFINANCE',\n",
    "       'Base Product Description_LNSFI SALE PURCHASE',\n",
    "       'Base Product Description_LT REFINANCE',\n",
    "       'Base Product Description_LT REFINANCE NEW PRODUCT',\n",
    "       'Base Product Description_LT SALE PURCHASE',\n",
    "       'Base Product Description_LT SALE PURCHASE NEW PRODUCT',\n",
    "       'Base Product Description_MOPED',\n",
    "       'Base Product Description_MOTOR CYCLE',\n",
    "       'Base Product Description_NEW TRACTOR',\n",
    "       'Base Product Description_SCOOTER',\n",
    "       'Base Product Description_SFI REFINANCE',\n",
    "       'Base Product Description_TR MULTI BRAND SOURCING',\n",
    "       'Base Product Description_USED TRACTOR',\n",
    "       'Base Product Description_Used Car', 'Gender_FEMALE', 'Gender_MALE',\n",
    "       'Resident Type_OTHER', 'Resident Type_OWNED',\n",
    "       'Resident Type_RENTED', 'Employement Type_AGR',\n",
    "        'Employement Type_SAL',\n",
    "       'Employement Type_SEMP', 'DayOfWeek_Friday', 'DayOfWeek_Monday',\n",
    "       'DayOfWeek_Saturday','DayOfWeek_Thursday',\n",
    "       'DayOfWeek_Tuesday', 'DayOfWeek_Wednesday',\n",
    "       'Campaign Type_Cold Calling', 'Campaign Type_Helpdesk',\n",
    "       'Campaign Type_IVR', 'Campaign Type_SAATHI', 'Campaign Type_SMS',\n",
    "       'Campaign Type_Toll Free', 'Campaign Type_Whatsapp',\n",
    "       'Time of the Day_1-PM', 'Time of the Day_10-AM',\n",
    "       'Time of the Day_11-AM', 'Time of the Day_12-PM',\n",
    "       'Time of the Day_2-PM', 'Time of the Day_3-PM', 'Time of the Day_4-PM',\n",
    "       'Time of the Day_5-PM', 'Time of the Day_6-PM', 'Time of the Day_7-PM',\n",
    "       'Time of the Day_8-AM', 'Time of the Day_9-AM']]"
   ]
  },
  {
   "cell_type": "code",
   "execution_count": 49,
   "id": "362076f3",
   "metadata": {},
   "outputs": [],
   "source": [
    "y=sell_new1['Target Variable'].values"
   ]
  },
  {
   "cell_type": "code",
   "execution_count": 50,
   "id": "7412ab8b",
   "metadata": {},
   "outputs": [
    {
     "data": {
      "text/html": [
       "<div>\n",
       "<style scoped>\n",
       "    .dataframe tbody tr th:only-of-type {\n",
       "        vertical-align: middle;\n",
       "    }\n",
       "\n",
       "    .dataframe tbody tr th {\n",
       "        vertical-align: top;\n",
       "    }\n",
       "\n",
       "    .dataframe thead th {\n",
       "        text-align: right;\n",
       "    }\n",
       "</style>\n",
       "<table border=\"1\" class=\"dataframe\">\n",
       "  <thead>\n",
       "    <tr style=\"text-align: right;\">\n",
       "      <th></th>\n",
       "      <th>No. of Secured Loans</th>\n",
       "      <th>No. of live trade lines</th>\n",
       "      <th>No of PL trade lines in last 12 months</th>\n",
       "      <th>Time since first PL loans in months</th>\n",
       "      <th>Time since last PL loans in months</th>\n",
       "      <th>Total number of enquiries in last 3 months</th>\n",
       "      <th>Total number of PL enquiries in last 3 months</th>\n",
       "      <th>Total number of enquiries in last 6 months</th>\n",
       "      <th>Total number of PL enquiries in last 6 months</th>\n",
       "      <th>Total number of enquiries in last 12 months</th>\n",
       "      <th>...</th>\n",
       "      <th>Time of the Day_11-AM</th>\n",
       "      <th>Time of the Day_12-PM</th>\n",
       "      <th>Time of the Day_2-PM</th>\n",
       "      <th>Time of the Day_3-PM</th>\n",
       "      <th>Time of the Day_4-PM</th>\n",
       "      <th>Time of the Day_5-PM</th>\n",
       "      <th>Time of the Day_6-PM</th>\n",
       "      <th>Time of the Day_7-PM</th>\n",
       "      <th>Time of the Day_8-AM</th>\n",
       "      <th>Time of the Day_9-AM</th>\n",
       "    </tr>\n",
       "  </thead>\n",
       "  <tbody>\n",
       "    <tr>\n",
       "      <th>0</th>\n",
       "      <td>1</td>\n",
       "      <td>0</td>\n",
       "      <td>0</td>\n",
       "      <td>0</td>\n",
       "      <td>0</td>\n",
       "      <td>0</td>\n",
       "      <td>0</td>\n",
       "      <td>0</td>\n",
       "      <td>0</td>\n",
       "      <td>0</td>\n",
       "      <td>...</td>\n",
       "      <td>0</td>\n",
       "      <td>0</td>\n",
       "      <td>0</td>\n",
       "      <td>1</td>\n",
       "      <td>0</td>\n",
       "      <td>0</td>\n",
       "      <td>0</td>\n",
       "      <td>0</td>\n",
       "      <td>0</td>\n",
       "      <td>0</td>\n",
       "    </tr>\n",
       "    <tr>\n",
       "      <th>1</th>\n",
       "      <td>14</td>\n",
       "      <td>3</td>\n",
       "      <td>0</td>\n",
       "      <td>0</td>\n",
       "      <td>0</td>\n",
       "      <td>0</td>\n",
       "      <td>0</td>\n",
       "      <td>0</td>\n",
       "      <td>0</td>\n",
       "      <td>0</td>\n",
       "      <td>...</td>\n",
       "      <td>0</td>\n",
       "      <td>0</td>\n",
       "      <td>0</td>\n",
       "      <td>0</td>\n",
       "      <td>0</td>\n",
       "      <td>0</td>\n",
       "      <td>0</td>\n",
       "      <td>0</td>\n",
       "      <td>0</td>\n",
       "      <td>1</td>\n",
       "    </tr>\n",
       "    <tr>\n",
       "      <th>2</th>\n",
       "      <td>7</td>\n",
       "      <td>2</td>\n",
       "      <td>0</td>\n",
       "      <td>176</td>\n",
       "      <td>0</td>\n",
       "      <td>0</td>\n",
       "      <td>0</td>\n",
       "      <td>0</td>\n",
       "      <td>0</td>\n",
       "      <td>0</td>\n",
       "      <td>...</td>\n",
       "      <td>1</td>\n",
       "      <td>0</td>\n",
       "      <td>0</td>\n",
       "      <td>0</td>\n",
       "      <td>0</td>\n",
       "      <td>0</td>\n",
       "      <td>0</td>\n",
       "      <td>0</td>\n",
       "      <td>0</td>\n",
       "      <td>0</td>\n",
       "    </tr>\n",
       "    <tr>\n",
       "      <th>3</th>\n",
       "      <td>3</td>\n",
       "      <td>0</td>\n",
       "      <td>0</td>\n",
       "      <td>0</td>\n",
       "      <td>0</td>\n",
       "      <td>0</td>\n",
       "      <td>0</td>\n",
       "      <td>0</td>\n",
       "      <td>0</td>\n",
       "      <td>0</td>\n",
       "      <td>...</td>\n",
       "      <td>0</td>\n",
       "      <td>0</td>\n",
       "      <td>0</td>\n",
       "      <td>0</td>\n",
       "      <td>0</td>\n",
       "      <td>0</td>\n",
       "      <td>0</td>\n",
       "      <td>0</td>\n",
       "      <td>0</td>\n",
       "      <td>0</td>\n",
       "    </tr>\n",
       "    <tr>\n",
       "      <th>4</th>\n",
       "      <td>1</td>\n",
       "      <td>0</td>\n",
       "      <td>0</td>\n",
       "      <td>0</td>\n",
       "      <td>0</td>\n",
       "      <td>0</td>\n",
       "      <td>0</td>\n",
       "      <td>0</td>\n",
       "      <td>0</td>\n",
       "      <td>0</td>\n",
       "      <td>...</td>\n",
       "      <td>0</td>\n",
       "      <td>0</td>\n",
       "      <td>0</td>\n",
       "      <td>0</td>\n",
       "      <td>0</td>\n",
       "      <td>1</td>\n",
       "      <td>0</td>\n",
       "      <td>0</td>\n",
       "      <td>0</td>\n",
       "      <td>0</td>\n",
       "    </tr>\n",
       "    <tr>\n",
       "      <th>...</th>\n",
       "      <td>...</td>\n",
       "      <td>...</td>\n",
       "      <td>...</td>\n",
       "      <td>...</td>\n",
       "      <td>...</td>\n",
       "      <td>...</td>\n",
       "      <td>...</td>\n",
       "      <td>...</td>\n",
       "      <td>...</td>\n",
       "      <td>...</td>\n",
       "      <td>...</td>\n",
       "      <td>...</td>\n",
       "      <td>...</td>\n",
       "      <td>...</td>\n",
       "      <td>...</td>\n",
       "      <td>...</td>\n",
       "      <td>...</td>\n",
       "      <td>...</td>\n",
       "      <td>...</td>\n",
       "      <td>...</td>\n",
       "      <td>...</td>\n",
       "    </tr>\n",
       "    <tr>\n",
       "      <th>83054</th>\n",
       "      <td>10</td>\n",
       "      <td>2</td>\n",
       "      <td>0</td>\n",
       "      <td>0</td>\n",
       "      <td>0</td>\n",
       "      <td>0</td>\n",
       "      <td>0</td>\n",
       "      <td>0</td>\n",
       "      <td>0</td>\n",
       "      <td>0</td>\n",
       "      <td>...</td>\n",
       "      <td>0</td>\n",
       "      <td>0</td>\n",
       "      <td>0</td>\n",
       "      <td>0</td>\n",
       "      <td>0</td>\n",
       "      <td>0</td>\n",
       "      <td>0</td>\n",
       "      <td>1</td>\n",
       "      <td>0</td>\n",
       "      <td>0</td>\n",
       "    </tr>\n",
       "    <tr>\n",
       "      <th>83055</th>\n",
       "      <td>2</td>\n",
       "      <td>0</td>\n",
       "      <td>0</td>\n",
       "      <td>0</td>\n",
       "      <td>0</td>\n",
       "      <td>0</td>\n",
       "      <td>0</td>\n",
       "      <td>0</td>\n",
       "      <td>0</td>\n",
       "      <td>0</td>\n",
       "      <td>...</td>\n",
       "      <td>0</td>\n",
       "      <td>0</td>\n",
       "      <td>0</td>\n",
       "      <td>0</td>\n",
       "      <td>0</td>\n",
       "      <td>0</td>\n",
       "      <td>1</td>\n",
       "      <td>0</td>\n",
       "      <td>0</td>\n",
       "      <td>0</td>\n",
       "    </tr>\n",
       "    <tr>\n",
       "      <th>83056</th>\n",
       "      <td>1</td>\n",
       "      <td>1</td>\n",
       "      <td>0</td>\n",
       "      <td>0</td>\n",
       "      <td>0</td>\n",
       "      <td>0</td>\n",
       "      <td>0</td>\n",
       "      <td>0</td>\n",
       "      <td>0</td>\n",
       "      <td>0</td>\n",
       "      <td>...</td>\n",
       "      <td>0</td>\n",
       "      <td>0</td>\n",
       "      <td>0</td>\n",
       "      <td>1</td>\n",
       "      <td>0</td>\n",
       "      <td>0</td>\n",
       "      <td>0</td>\n",
       "      <td>0</td>\n",
       "      <td>0</td>\n",
       "      <td>0</td>\n",
       "    </tr>\n",
       "    <tr>\n",
       "      <th>83057</th>\n",
       "      <td>1</td>\n",
       "      <td>1</td>\n",
       "      <td>0</td>\n",
       "      <td>0</td>\n",
       "      <td>0</td>\n",
       "      <td>0</td>\n",
       "      <td>0</td>\n",
       "      <td>0</td>\n",
       "      <td>0</td>\n",
       "      <td>0</td>\n",
       "      <td>...</td>\n",
       "      <td>0</td>\n",
       "      <td>0</td>\n",
       "      <td>0</td>\n",
       "      <td>0</td>\n",
       "      <td>0</td>\n",
       "      <td>0</td>\n",
       "      <td>1</td>\n",
       "      <td>0</td>\n",
       "      <td>0</td>\n",
       "      <td>0</td>\n",
       "    </tr>\n",
       "    <tr>\n",
       "      <th>83058</th>\n",
       "      <td>2</td>\n",
       "      <td>0</td>\n",
       "      <td>0</td>\n",
       "      <td>0</td>\n",
       "      <td>0</td>\n",
       "      <td>0</td>\n",
       "      <td>0</td>\n",
       "      <td>2</td>\n",
       "      <td>0</td>\n",
       "      <td>3</td>\n",
       "      <td>...</td>\n",
       "      <td>0</td>\n",
       "      <td>0</td>\n",
       "      <td>0</td>\n",
       "      <td>0</td>\n",
       "      <td>0</td>\n",
       "      <td>0</td>\n",
       "      <td>1</td>\n",
       "      <td>0</td>\n",
       "      <td>0</td>\n",
       "      <td>0</td>\n",
       "    </tr>\n",
       "  </tbody>\n",
       "</table>\n",
       "<p>82980 rows × 64 columns</p>\n",
       "</div>"
      ],
      "text/plain": [
       "       No. of Secured Loans  No. of live trade lines  \\\n",
       "0                         1                        0   \n",
       "1                        14                        3   \n",
       "2                         7                        2   \n",
       "3                         3                        0   \n",
       "4                         1                        0   \n",
       "...                     ...                      ...   \n",
       "83054                    10                        2   \n",
       "83055                     2                        0   \n",
       "83056                     1                        1   \n",
       "83057                     1                        1   \n",
       "83058                     2                        0   \n",
       "\n",
       "       No of PL trade lines in last 12 months  \\\n",
       "0                                           0   \n",
       "1                                           0   \n",
       "2                                           0   \n",
       "3                                           0   \n",
       "4                                           0   \n",
       "...                                       ...   \n",
       "83054                                       0   \n",
       "83055                                       0   \n",
       "83056                                       0   \n",
       "83057                                       0   \n",
       "83058                                       0   \n",
       "\n",
       "       Time since first PL loans in months  \\\n",
       "0                                        0   \n",
       "1                                        0   \n",
       "2                                      176   \n",
       "3                                        0   \n",
       "4                                        0   \n",
       "...                                    ...   \n",
       "83054                                    0   \n",
       "83055                                    0   \n",
       "83056                                    0   \n",
       "83057                                    0   \n",
       "83058                                    0   \n",
       "\n",
       "       Time since last PL loans in months  \\\n",
       "0                                       0   \n",
       "1                                       0   \n",
       "2                                       0   \n",
       "3                                       0   \n",
       "4                                       0   \n",
       "...                                   ...   \n",
       "83054                                   0   \n",
       "83055                                   0   \n",
       "83056                                   0   \n",
       "83057                                   0   \n",
       "83058                                   0   \n",
       "\n",
       "       Total number of enquiries in last 3 months  \\\n",
       "0                                               0   \n",
       "1                                               0   \n",
       "2                                               0   \n",
       "3                                               0   \n",
       "4                                               0   \n",
       "...                                           ...   \n",
       "83054                                           0   \n",
       "83055                                           0   \n",
       "83056                                           0   \n",
       "83057                                           0   \n",
       "83058                                           0   \n",
       "\n",
       "       Total number of PL enquiries in last 3 months  \\\n",
       "0                                                  0   \n",
       "1                                                  0   \n",
       "2                                                  0   \n",
       "3                                                  0   \n",
       "4                                                  0   \n",
       "...                                              ...   \n",
       "83054                                              0   \n",
       "83055                                              0   \n",
       "83056                                              0   \n",
       "83057                                              0   \n",
       "83058                                              0   \n",
       "\n",
       "       Total number of enquiries in last 6 months  \\\n",
       "0                                               0   \n",
       "1                                               0   \n",
       "2                                               0   \n",
       "3                                               0   \n",
       "4                                               0   \n",
       "...                                           ...   \n",
       "83054                                           0   \n",
       "83055                                           0   \n",
       "83056                                           0   \n",
       "83057                                           0   \n",
       "83058                                           2   \n",
       "\n",
       "       Total number of PL enquiries in last 6 months  \\\n",
       "0                                                  0   \n",
       "1                                                  0   \n",
       "2                                                  0   \n",
       "3                                                  0   \n",
       "4                                                  0   \n",
       "...                                              ...   \n",
       "83054                                              0   \n",
       "83055                                              0   \n",
       "83056                                              0   \n",
       "83057                                              0   \n",
       "83058                                              0   \n",
       "\n",
       "       Total number of enquiries in last 12 months  ...  \\\n",
       "0                                                0  ...   \n",
       "1                                                0  ...   \n",
       "2                                                0  ...   \n",
       "3                                                0  ...   \n",
       "4                                                0  ...   \n",
       "...                                            ...  ...   \n",
       "83054                                            0  ...   \n",
       "83055                                            0  ...   \n",
       "83056                                            0  ...   \n",
       "83057                                            0  ...   \n",
       "83058                                            3  ...   \n",
       "\n",
       "       Time of the Day_11-AM  Time of the Day_12-PM  Time of the Day_2-PM  \\\n",
       "0                          0                      0                     0   \n",
       "1                          0                      0                     0   \n",
       "2                          1                      0                     0   \n",
       "3                          0                      0                     0   \n",
       "4                          0                      0                     0   \n",
       "...                      ...                    ...                   ...   \n",
       "83054                      0                      0                     0   \n",
       "83055                      0                      0                     0   \n",
       "83056                      0                      0                     0   \n",
       "83057                      0                      0                     0   \n",
       "83058                      0                      0                     0   \n",
       "\n",
       "       Time of the Day_3-PM  Time of the Day_4-PM  Time of the Day_5-PM  \\\n",
       "0                         1                     0                     0   \n",
       "1                         0                     0                     0   \n",
       "2                         0                     0                     0   \n",
       "3                         0                     0                     0   \n",
       "4                         0                     0                     1   \n",
       "...                     ...                   ...                   ...   \n",
       "83054                     0                     0                     0   \n",
       "83055                     0                     0                     0   \n",
       "83056                     1                     0                     0   \n",
       "83057                     0                     0                     0   \n",
       "83058                     0                     0                     0   \n",
       "\n",
       "       Time of the Day_6-PM  Time of the Day_7-PM  Time of the Day_8-AM  \\\n",
       "0                         0                     0                     0   \n",
       "1                         0                     0                     0   \n",
       "2                         0                     0                     0   \n",
       "3                         0                     0                     0   \n",
       "4                         0                     0                     0   \n",
       "...                     ...                   ...                   ...   \n",
       "83054                     0                     1                     0   \n",
       "83055                     1                     0                     0   \n",
       "83056                     0                     0                     0   \n",
       "83057                     1                     0                     0   \n",
       "83058                     1                     0                     0   \n",
       "\n",
       "       Time of the Day_9-AM  \n",
       "0                         0  \n",
       "1                         1  \n",
       "2                         0  \n",
       "3                         0  \n",
       "4                         0  \n",
       "...                     ...  \n",
       "83054                     0  \n",
       "83055                     0  \n",
       "83056                     0  \n",
       "83057                     0  \n",
       "83058                     0  \n",
       "\n",
       "[82980 rows x 64 columns]"
      ]
     },
     "execution_count": 50,
     "metadata": {},
     "output_type": "execute_result"
    }
   ],
   "source": [
    "X"
   ]
  },
  {
   "cell_type": "code",
   "execution_count": 51,
   "id": "4db68c13",
   "metadata": {},
   "outputs": [],
   "source": [
    "from sklearn.model_selection import train_test_split\n",
    "X_train,X_test,y_train,y_test = train_test_split(X,y,test_size=0.3)"
   ]
  },
  {
   "cell_type": "code",
   "execution_count": 52,
   "id": "e5930811",
   "metadata": {},
   "outputs": [],
   "source": [
    "from sklearn.linear_model import LogisticRegression\n",
    "from sklearn.metrics import log_loss, roc_auc_score,roc_curve, recall_score, precision_score, average_precision_score, f1_score, classification_report, accuracy_score, plot_roc_curve,RocCurveDisplay, plot_precision_recall_curve,confusion_matrix, plot_confusion_matrix\n"
   ]
  },
  {
   "cell_type": "code",
   "execution_count": 53,
   "id": "4afda8f3",
   "metadata": {},
   "outputs": [],
   "source": [
    "classifier=LogisticRegression(max_iter=5000)"
   ]
  },
  {
   "cell_type": "code",
   "execution_count": 54,
   "id": "0337fef6",
   "metadata": {},
   "outputs": [
    {
     "data": {
      "text/plain": [
       "LogisticRegression(max_iter=5000)"
      ]
     },
     "execution_count": 54,
     "metadata": {},
     "output_type": "execute_result"
    }
   ],
   "source": [
    "classifier.fit(X_train,y_train)"
   ]
  },
  {
   "cell_type": "code",
   "execution_count": 55,
   "id": "27b72a6c",
   "metadata": {},
   "outputs": [
    {
     "data": {
      "text/plain": [
       "<sklearn.metrics._plot.roc_curve.RocCurveDisplay at 0x1c043d202b0>"
      ]
     },
     "execution_count": 55,
     "metadata": {},
     "output_type": "execute_result"
    },
    {
     "data": {
      "text/plain": [
       "<Figure size 864x576 with 0 Axes>"
      ]
     },
     "metadata": {},
     "output_type": "display_data"
    },
    {
     "data": {
      "image/png": "[encoded data removed]",
      "text/plain": [
       "<Figure size 432x288 with 1 Axes>"
      ]
     },
     "metadata": {
      "needs_background": "light"
     },
     "output_type": "display_data"
    }
   ],
   "source": [
    "plt.figure(figsize=(12, 8))\n",
    "plot_roc_curve(classifier,X_test,y_test)"
   ]
  },
  {
   "cell_type": "code",
   "execution_count": 56,
   "id": "e4e9727e",
   "metadata": {},
   "outputs": [],
   "source": [
    "test_pred = classifier.predict(X_test)"
   ]
  },
  {
   "cell_type": "code",
   "execution_count": 57,
   "id": "0233c4f0",
   "metadata": {},
   "outputs": [
    {
     "data": {
      "text/plain": [
       "0.8792078412468868"
      ]
     },
     "execution_count": 57,
     "metadata": {},
     "output_type": "execute_result"
    }
   ],
   "source": [
    "accuracy_score(y_test,test_pred)"
   ]
  },
  {
   "cell_type": "code",
   "execution_count": 58,
   "id": "015e93d7",
   "metadata": {},
   "outputs": [],
   "source": [
    "test_prob = classifier.predict_proba(X_test)[:,1]"
   ]
  },
  {
   "cell_type": "code",
   "execution_count": 59,
   "id": "9eb446fa",
   "metadata": {},
   "outputs": [
    {
     "data": {
      "text/plain": [
       "array([0.04179002, 0.48380119, 0.27828151, ..., 0.04778083, 0.03599564,\n",
       "       0.5300993 ])"
      ]
     },
     "execution_count": 59,
     "metadata": {},
     "output_type": "execute_result"
    }
   ],
   "source": [
    "test_prob"
   ]
  },
  {
   "cell_type": "code",
   "execution_count": 60,
   "id": "e887f036",
   "metadata": {},
   "outputs": [
    {
     "name": "stdout",
     "output_type": "stream",
     "text": [
      "Log loss = 0.28096\n",
      "AUC = 0.83554\n",
      "Average Precision = 0.46779\n",
      "\n",
      "Using 0.5 as threshold:\n",
      "Accuracy = 0.87921\n",
      "Precision = 0.55747\n",
      "Recall = 0.29250\n",
      "F1 score = 0.38369\n",
      "\n",
      "Classification Report\n",
      "              precision    recall  f1-score   support\n",
      "\n",
      "           0       0.90      0.97      0.93     21694\n",
      "           1       0.56      0.29      0.38      3200\n",
      "\n",
      "    accuracy                           0.88     24894\n",
      "   macro avg       0.73      0.63      0.66     24894\n",
      "weighted avg       0.86      0.88      0.86     24894\n",
      "\n"
     ]
    }
   ],
   "source": [
    "print('Log loss = {:.5f}'.format(log_loss(y_test, test_prob)))\n",
    "print('AUC = {:.5f}'.format(roc_auc_score(y_test, test_prob)))\n",
    "print('Average Precision = {:.5f}'.format(average_precision_score(y_test, test_prob)))\n",
    "print('\\nUsing 0.5 as threshold:')\n",
    "print('Accuracy = {:.5f}'.format(accuracy_score(y_test, test_pred)))\n",
    "print('Precision = {:.5f}'.format(precision_score(y_test, test_pred)))\n",
    "print('Recall = {:.5f}'.format(recall_score(y_test, test_pred)))\n",
    "print('F1 score = {:.5f}'.format(f1_score(y_test, test_pred)))\n",
    "\n",
    "print('\\nClassification Report')\n",
    "print(classification_report(y_test, test_pred))"
   ]
  },
  {
   "cell_type": "code",
   "execution_count": 61,
   "id": "8bb7087c",
   "metadata": {},
   "outputs": [
    {
     "data": {
      "text/plain": [
       "<sklearn.metrics._plot.confusion_matrix.ConfusionMatrixDisplay at 0x1c049c42880>"
      ]
     },
     "execution_count": 61,
     "metadata": {},
     "output_type": "execute_result"
    },
    {
     "data": {
      "image/png": "[encoded data removed]",
      "text/plain": [
       "<Figure size 432x288 with 2 Axes>"
      ]
     },
     "metadata": {
      "needs_background": "light"
     },
     "output_type": "display_data"
    }
   ],
   "source": [
    "plot_confusion_matrix(classifier, X_test, y_test)"
   ]
  },
  {
   "cell_type": "code",
   "execution_count": 62,
   "id": "0ec20e88",
   "metadata": {},
   "outputs": [],
   "source": [
    "fpr,tpr,thresholds = roc_curve(y_test, test_prob)\n",
    "\n",
    "thres = pd.DataFrame(data={'FPR': fpr, 'TPR': tpr,'thresholds':thresholds})\n",
    "\n",
    "optimal_idx = np.argmax(tpr - fpr)"
   ]
  },
  {
   "cell_type": "code",
   "execution_count": 63,
   "id": "98b4d96e",
   "metadata": {},
   "outputs": [
    {
     "data": {
      "text/plain": [
       "2529"
      ]
     },
     "execution_count": 63,
     "metadata": {},
     "output_type": "execute_result"
    }
   ],
   "source": [
    "optimal_idx"
   ]
  },
  {
   "cell_type": "code",
   "execution_count": 64,
   "id": "cb82ebdf",
   "metadata": {},
   "outputs": [
    {
     "data": {
      "text/plain": [
       "FPR           0.005762\n",
       "TPR           0.065937\n",
       "thresholds    0.624158\n",
       "Name: 174, dtype: float64"
      ]
     },
     "execution_count": 64,
     "metadata": {},
     "output_type": "execute_result"
    }
   ],
   "source": [
    "thres.iloc[174]"
   ]
  },
  {
   "cell_type": "code",
   "execution_count": 65,
   "id": "37587f3a",
   "metadata": {},
   "outputs": [
    {
     "data": {
      "text/plain": [
       "<AxesSubplot:xlabel='FPR', ylabel='TPR'>"
      ]
     },
     "execution_count": 65,
     "metadata": {},
     "output_type": "execute_result"
    },
    {
     "data": {
      "image/png": "[encoded data removed]",
      "text/plain": [
       "<Figure size 432x288 with 1 Axes>"
      ]
     },
     "metadata": {
      "needs_background": "light"
     },
     "output_type": "display_data"
    }
   ],
   "source": [
    "sns.lineplot(x=thres['FPR'],y=thres['TPR'])"
   ]
  },
  {
   "cell_type": "markdown",
   "id": "c3964bfc",
   "metadata": {},
   "source": [
    "## Decision Tree"
   ]
  },
  {
   "cell_type": "code",
   "execution_count": 66,
   "id": "ac7b772d",
   "metadata": {},
   "outputs": [],
   "source": [
    "from sklearn.tree import DecisionTreeClassifier\n",
    "\n",
    "dtclassifier = DecisionTreeClassifier()\n",
    "\n",
    "dtclassifier = dtclassifier.fit(X_train,y_train)\n",
    "\n",
    "y_pred = dtclassifier.predict(X_test)"
   ]
  },
  {
   "cell_type": "code",
   "execution_count": 67,
   "id": "6ba75a33",
   "metadata": {},
   "outputs": [
    {
     "name": "stdout",
     "output_type": "stream",
     "text": [
      "Accuracy = 0.82783\n",
      "Precision = 0.34076\n",
      "Recall = 0.36312\n",
      "F1 score = 0.35159\n",
      "[[19446  2248]\n",
      " [ 2038  1162]]\n",
      "FPR 0.10362312160044251\n",
      "Specificity 0.8963768783995575\n"
     ]
    }
   ],
   "source": [
    "\n",
    "    print('Accuracy = {:.5f}'.format(accuracy_score(y_test,y_pred)))\n",
    "    print('Precision = {:.5f}'.format(precision_score(y_test,y_pred)))\n",
    "    print('Recall = {:.5f}'.format(recall_score(y_test,y_pred)))\n",
    "    print('F1 score = {:.5f}'.format(f1_score(y_test,y_pred)))\n",
    "    print(confusion_matrix(y_test,y_pred))\n",
    "    FPR = confusion_matrix(y_test, y_pred)[0][1] /(confusion_matrix(y_test, y_pred)[0][0] + confusion_matrix(y_test, y_pred)[0][1])\n",
    "    Specificity = confusion_matrix(y_test, y_pred)[0][0] /(confusion_matrix(y_test, y_pred)[0][0] + confusion_matrix(y_test, y_pred)[0][1])\n",
    "    print('FPR {}'.format(FPR))\n",
    "    print('Specificity {}'.format(Specificity))"
   ]
  },
  {
   "cell_type": "code",
   "execution_count": 68,
   "id": "addfc48e",
   "metadata": {},
   "outputs": [],
   "source": [
    "dtclassifier = DecisionTreeClassifier(criterion='entropy')"
   ]
  },
  {
   "cell_type": "code",
   "execution_count": 69,
   "id": "bfbd2ba5",
   "metadata": {},
   "outputs": [],
   "source": [
    "dtclassifier = dtclassifier.fit(X_train,y_train)"
   ]
  },
  {
   "cell_type": "code",
   "execution_count": 70,
   "id": "93a21f75",
   "metadata": {},
   "outputs": [],
   "source": [
    "\n",
    "y_pred = dtclassifier.predict(X_test)"
   ]
  },
  {
   "cell_type": "code",
   "execution_count": 71,
   "id": "d1a04d3f",
   "metadata": {},
   "outputs": [
    {
     "name": "stdout",
     "output_type": "stream",
     "text": [
      "Accuracy = 0.83048\n",
      "Precision = 0.34830\n",
      "Recall = 0.36594\n",
      "F1 score = 0.35690\n",
      "[[19503  2191]\n",
      " [ 2029  1171]]\n",
      "FPR 0.10099566700470176\n",
      "Specificity 0.8990043329952982\n"
     ]
    }
   ],
   "source": [
    "\n",
    "    print('Accuracy = {:.5f}'.format(accuracy_score(y_test,y_pred)))\n",
    "    print('Precision = {:.5f}'.format(precision_score(y_test,y_pred)))\n",
    "    print('Recall = {:.5f}'.format(recall_score(y_test,y_pred)))\n",
    "    print('F1 score = {:.5f}'.format(f1_score(y_test,y_pred)))\n",
    "    print(confusion_matrix(y_test,y_pred))\n",
    "    FPR = confusion_matrix(y_test, y_pred)[0][1] /(confusion_matrix(y_test, y_pred)[0][0] + confusion_matrix(y_test, y_pred)[0][1])\n",
    "    Specificity = confusion_matrix(y_test, y_pred)[0][0] /(confusion_matrix(y_test, y_pred)[0][0] + confusion_matrix(y_test, y_pred)[0][1])\n",
    "    print('FPR {}'.format(FPR))\n",
    "    print('Specificity {}'.format(Specificity))"
   ]
  },
  {
   "cell_type": "markdown",
   "id": "f61a80dc",
   "metadata": {},
   "source": [
    "## Oversampling "
   ]
  },
  {
   "cell_type": "code",
   "execution_count": 72,
   "id": "33799544",
   "metadata": {},
   "outputs": [
    {
     "name": "stdout",
     "output_type": "stream",
     "text": [
      "Counter({0: 50741, 1: 7345})\n",
      "Counter({0: 50741, 1: 50741})\n"
     ]
    }
   ],
   "source": [
    "# example of random oversampling to balance the class distribution\n",
    "from collections import Counter\n",
    "from sklearn.datasets import make_classification\n",
    "from imblearn.over_sampling import RandomOverSampler\n",
    "\n",
    "# summarize class distribution\n",
    "print(Counter(y_train))\n",
    "# define oversampling strategy\n",
    "oversample = RandomOverSampler(sampling_strategy='minority')\n",
    "# fit and apply the transform\n",
    "X_over, y_over = oversample.fit_resample(X_train, y_train)\n",
    "# summarize class distribution\n",
    "print(Counter(y_over))"
   ]
  },
  {
   "cell_type": "code",
   "execution_count": 73,
   "id": "14afb83c",
   "metadata": {},
   "outputs": [
    {
     "data": {
      "text/plain": [
       "<sklearn.metrics._plot.roc_curve.RocCurveDisplay at 0x1c04b1375e0>"
      ]
     },
     "execution_count": 73,
     "metadata": {},
     "output_type": "execute_result"
    },
    {
     "data": {
      "text/plain": [
       "<Figure size 864x576 with 0 Axes>"
      ]
     },
     "metadata": {},
     "output_type": "display_data"
    },
    {
     "data": {
      "image/png": "[encoded data removed]",
      "text/plain": [
       "<Figure size 432x288 with 1 Axes>"
      ]
     },
     "metadata": {
      "needs_background": "light"
     },
     "output_type": "display_data"
    }
   ],
   "source": [
    "classifier=LogisticRegression(max_iter=5000)\n",
    "classifier.fit(X_over,y_over)\n",
    "plt.figure(figsize=(12, 8))\n",
    "plot_roc_curve(classifier,X_over,y_over)"
   ]
  },
  {
   "cell_type": "code",
   "execution_count": 74,
   "id": "aa8ebc5f",
   "metadata": {},
   "outputs": [],
   "source": [
    "test_pred = classifier.predict(X_test)\n",
    "test_prob = classifier.predict_proba(X_test)[:,1]"
   ]
  },
  {
   "cell_type": "code",
   "execution_count": 75,
   "id": "e7be7666",
   "metadata": {},
   "outputs": [
    {
     "name": "stdout",
     "output_type": "stream",
     "text": [
      "Log loss = 0.47610\n",
      "AUC = 0.83707\n",
      "Average Precision = 0.46256\n",
      "\n",
      "Using 0.5 as threshold:\n",
      "Accuracy = 0.84820\n",
      "Precision = 0.44453\n",
      "Recall = 0.72500\n",
      "F1 score = 0.55113\n",
      "\n",
      "Classification Report\n",
      "              precision    recall  f1-score   support\n",
      "\n",
      "           0       0.96      0.87      0.91     21694\n",
      "           1       0.44      0.72      0.55      3200\n",
      "\n",
      "    accuracy                           0.85     24894\n",
      "   macro avg       0.70      0.80      0.73     24894\n",
      "weighted avg       0.89      0.85      0.86     24894\n",
      "\n"
     ]
    }
   ],
   "source": [
    "print('Log loss = {:.5f}'.format(log_loss(y_test, test_prob)))\n",
    "print('AUC = {:.5f}'.format(roc_auc_score(y_test, test_prob)))\n",
    "print('Average Precision = {:.5f}'.format(average_precision_score(y_test, test_prob)))\n",
    "print('\\nUsing 0.5 as threshold:')\n",
    "print('Accuracy = {:.5f}'.format(accuracy_score(y_test, test_pred)))\n",
    "print('Precision = {:.5f}'.format(precision_score(y_test, test_pred)))\n",
    "print('Recall = {:.5f}'.format(recall_score(y_test, test_pred)))\n",
    "print('F1 score = {:.5f}'.format(f1_score(y_test, test_pred)))\n",
    "\n",
    "print('\\nClassification Report')\n",
    "print(classification_report(y_test, test_pred))"
   ]
  },
  {
   "cell_type": "code",
   "execution_count": 76,
   "id": "ac48618b",
   "metadata": {},
   "outputs": [
    {
     "data": {
      "text/plain": [
       "<sklearn.metrics._plot.confusion_matrix.ConfusionMatrixDisplay at 0x1c043f55b50>"
      ]
     },
     "execution_count": 76,
     "metadata": {},
     "output_type": "execute_result"
    },
    {
     "data": {
      "text/plain": [
       "<Figure size 864x864 with 0 Axes>"
      ]
     },
     "metadata": {},
     "output_type": "display_data"
    },
    {
     "data": {
      "image/png": "[encoded data removed]",
      "text/plain": [
       "<Figure size 432x288 with 2 Axes>"
      ]
     },
     "metadata": {
      "needs_background": "light"
     },
     "output_type": "display_data"
    }
   ],
   "source": [
    "plt.figure(figsize=(12, 12))\n",
    "plot_confusion_matrix(classifier, X_test, y_test)"
   ]
  },
  {
   "cell_type": "code",
   "execution_count": 77,
   "id": "bd8104cc",
   "metadata": {},
   "outputs": [
    {
     "data": {
      "text/plain": [
       "2449"
      ]
     },
     "execution_count": 77,
     "metadata": {},
     "output_type": "execute_result"
    }
   ],
   "source": [
    "fpr,tpr,thresholds = roc_curve(y_test, test_prob)\n",
    "\n",
    "thres = pd.DataFrame(data={'FPR': fpr, 'TPR': tpr,'thresholds':thresholds})\n",
    "\n",
    "optimal_idx = np.argmax(tpr - fpr)\n",
    "\n",
    "optimal_idx"
   ]
  },
  {
   "cell_type": "code",
   "execution_count": 78,
   "id": "af22eadb",
   "metadata": {},
   "outputs": [
    {
     "data": {
      "text/plain": [
       "FPR           0.006223\n",
       "TPR           0.067812\n",
       "thresholds    0.928653\n",
       "Name: 164, dtype: float64"
      ]
     },
     "execution_count": 78,
     "metadata": {},
     "output_type": "execute_result"
    }
   ],
   "source": [
    "thres.iloc[164]"
   ]
  },
  {
   "cell_type": "code",
   "execution_count": 79,
   "id": "ac7db564",
   "metadata": {},
   "outputs": [
    {
     "data": {
      "text/plain": [
       "<AxesSubplot:xlabel='FPR', ylabel='TPR'>"
      ]
     },
     "execution_count": 79,
     "metadata": {},
     "output_type": "execute_result"
    },
    {
     "data": {
      "image/png": "[encoded data removed]",
      "text/plain": [
       "<Figure size 432x288 with 1 Axes>"
      ]
     },
     "metadata": {
      "needs_background": "light"
     },
     "output_type": "display_data"
    }
   ],
   "source": [
    "sns.lineplot(x=thres['FPR'],y=thres['TPR'])"
   ]
  },
  {
   "cell_type": "code",
   "execution_count": 80,
   "id": "05190b31",
   "metadata": {},
   "outputs": [],
   "source": [
    "thresholdlist=np.arange(0,1,0.05)\n",
    "\n",
    "pred_proba_df = pd.DataFrame(classifier.predict_proba(X_test))\n",
    "\n",
    "tshl=[]\n",
    "acc=[]\n",
    "precision=[]\n",
    "tprate=[]\n",
    "fprate=[]\n",
    "f1score=[]\n",
    "CM=[]\n",
    "Specificity=[]\n",
    "p = {'Threshold':tshl,'Accuracy':acc,'Precision':precision,'TPR':tprate,'FPR':fprate,'F1':f1score,'Specificity' : Specificity,'CM':CM}\n"
   ]
  },
  {
   "cell_type": "code",
   "execution_count": 81,
   "id": "e1e634d0",
   "metadata": {},
   "outputs": [
    {
     "name": "stdout",
     "output_type": "stream",
     "text": [
      "\n",
      "******** For i = 0.0 ******\n",
      "Our testing accuracy is 0.12854503093114808\n",
      "Accuracy = 0.12855\n",
      "Precision = 0.12855\n",
      "Recall = 1.00000\n",
      "F1 score = 0.22781\n",
      "[[    0 21694]\n",
      " [    0  3200]]\n",
      "FPR 1.0\n",
      "\n",
      "******** For i = 0.05 ******\n",
      "Our testing accuracy is 0.128745882541978\n",
      "Accuracy = 0.12875\n",
      "Precision = 0.12857\n",
      "Recall = 1.00000\n",
      "F1 score = 0.22785\n",
      "[[    5 21689]\n",
      " [    0  3200]]\n",
      "FPR 0.9997695215266894\n",
      "\n",
      "******** For i = 0.1 ******\n",
      "Our testing accuracy is 0.14176106692375673\n",
      "Accuracy = 0.14176\n",
      "Precision = 0.13021\n",
      "Recall = 0.99938\n",
      "F1 score = 0.23040\n",
      "[[  331 21363]\n",
      " [    2  3198]]\n",
      "FPR 0.9847423250668388\n",
      "\n",
      "******** For i = 0.15000000000000002 ******\n",
      "Our testing accuracy is 0.23049730858841488\n",
      "Accuracy = 0.23050\n",
      "Precision = 0.14124\n",
      "Recall = 0.98156\n",
      "F1 score = 0.24695\n",
      "[[ 2597 19097]\n",
      " [   59  3141]]\n",
      "FPR 0.880289480962478\n",
      "\n",
      "******** For i = 0.2 ******\n",
      "Our testing accuracy is 0.4235558769181329\n",
      "Accuracy = 0.42356\n",
      "Precision = 0.17504\n",
      "Recall = 0.93844\n",
      "F1 score = 0.29505\n",
      "[[ 7541 14153]\n",
      " [  197  3003]]\n",
      "FPR 0.652392366552964\n",
      "\n",
      "******** For i = 0.25 ******\n",
      "Our testing accuracy is 0.6134811601189042\n",
      "Accuracy = 0.61348\n",
      "Precision = 0.23143\n",
      "Recall = 0.86469\n",
      "F1 score = 0.36514\n",
      "[[12505  9189]\n",
      " [  433  2767]]\n",
      "FPR 0.42357333825020743\n",
      "\n",
      "******** For i = 0.30000000000000004 ******\n",
      "Our testing accuracy is 0.7440347071583514\n",
      "Accuracy = 0.74403\n",
      "Precision = 0.30924\n",
      "Recall = 0.80344\n",
      "F1 score = 0.44659\n",
      "[[15951  5743]\n",
      " [  629  2571]]\n",
      "FPR 0.26472757444454686\n",
      "\n",
      "******** For i = 0.35000000000000003 ******\n",
      "Our testing accuracy is 0.8083875632682574\n",
      "Accuracy = 0.80839\n",
      "Precision = 0.37788\n",
      "Recall = 0.75906\n",
      "F1 score = 0.50457\n",
      "[[17695  3999]\n",
      " [  771  2429]]\n",
      "FPR 0.18433668295381211\n",
      "\n",
      "******** For i = 0.4 ******\n",
      "Our testing accuracy is 0.8336948662328272\n",
      "Accuracy = 0.83369\n",
      "Precision = 0.41702\n",
      "Recall = 0.73813\n",
      "F1 score = 0.53294\n",
      "[[18392  3302]\n",
      " [  838  2362]]\n",
      "FPR 0.1522079837743155\n",
      "\n",
      "******** For i = 0.45 ******\n",
      "Our testing accuracy is 0.8441391499959829\n",
      "Accuracy = 0.84414\n",
      "Precision = 0.43635\n",
      "Recall = 0.72844\n",
      "F1 score = 0.54577\n",
      "[[18683  3011]\n",
      " [  869  2331]]\n",
      "FPR 0.13879413662763898\n",
      "\n",
      "******** For i = 0.5 ******\n",
      "Our testing accuracy is 0.8481963525347473\n",
      "Accuracy = 0.84820\n",
      "Precision = 0.44453\n",
      "Recall = 0.72500\n",
      "F1 score = 0.55113\n",
      "[[18795  2899]\n",
      " [  880  2320]]\n",
      "FPR 0.1336314188254817\n",
      "\n",
      "******** For i = 0.55 ******\n",
      "Our testing accuracy is 0.8498835060657186\n",
      "Accuracy = 0.84988\n",
      "Precision = 0.44798\n",
      "Recall = 0.72250\n",
      "F1 score = 0.55304\n",
      "[[18845  2849]\n",
      " [  888  2312]]\n",
      "FPR 0.13132663409237577\n",
      "\n",
      "******** For i = 0.6000000000000001 ******\n",
      "Our testing accuracy is 0.8510484454085322\n",
      "Accuracy = 0.85105\n",
      "Precision = 0.45037\n",
      "Recall = 0.72031\n",
      "F1 score = 0.55422\n",
      "[[18881  2813]\n",
      " [  895  2305]]\n",
      "FPR 0.1296671890845395\n",
      "\n",
      "******** For i = 0.65 ******\n",
      "Our testing accuracy is 0.8522535550735116\n",
      "Accuracy = 0.85225\n",
      "Precision = 0.45288\n",
      "Recall = 0.71781\n",
      "F1 score = 0.55537\n",
      "[[18919  2775]\n",
      " [  903  2297]]\n",
      "FPR 0.127915552687379\n",
      "\n",
      "******** For i = 0.7000000000000001 ******\n",
      "Our testing accuracy is 0.8548646260143007\n",
      "Accuracy = 0.85486\n",
      "Precision = 0.45804\n",
      "Recall = 0.70437\n",
      "F1 score = 0.55510\n",
      "[[19027  2667]\n",
      " [  946  2254]]\n",
      "FPR 0.1229372176638702\n",
      "\n",
      "******** For i = 0.75 ******\n",
      "Our testing accuracy is 0.8593235317747249\n",
      "Accuracy = 0.85932\n",
      "Precision = 0.46729\n",
      "Recall = 0.67406\n",
      "F1 score = 0.55194\n",
      "[[19235  2459]\n",
      " [ 1043  2157]]\n",
      "FPR 0.11334931317414954\n",
      "\n",
      "******** For i = 0.8 ******\n",
      "Our testing accuracy is 0.8675584478187515\n",
      "Accuracy = 0.86756\n",
      "Precision = 0.48757\n",
      "Recall = 0.59469\n",
      "F1 score = 0.53583\n",
      "[[19694  2000]\n",
      " [ 1297  1903]]\n",
      "FPR 0.09219138932423712\n",
      "\n",
      "******** For i = 0.8500000000000001 ******\n",
      "Our testing accuracy is 0.8754318309632844\n",
      "Accuracy = 0.87543\n",
      "Precision = 0.51848\n",
      "Recall = 0.43406\n",
      "F1 score = 0.47253\n",
      "[[20404  1290]\n",
      " [ 1811  1389]]\n",
      "FPR 0.05946344611413294\n",
      "\n",
      "******** For i = 0.9 ******\n",
      "Our testing accuracy is 0.876154896762272\n",
      "Accuracy = 0.87615\n",
      "Precision = 0.55879\n",
      "Recall = 0.17375\n",
      "F1 score = 0.26508\n",
      "[[21255   439]\n",
      " [ 2644   556]]\n",
      "FPR 0.020236009956670048\n",
      "\n",
      "******** For i = 0.9500000000000001 ******\n",
      "Our testing accuracy is 0.8734634851771511\n",
      "Accuracy = 0.87346\n",
      "Precision = 0.65244\n",
      "Recall = 0.03344\n",
      "F1 score = 0.06361\n",
      "[[21637    57]\n",
      " [ 3093   107]]\n",
      "FPR 0.002627454595740758\n"
     ]
    }
   ],
   "source": [
    "for i in thresholdlist:\n",
    "    print ('\\n******** For i = {} ******'.format(i))\n",
    "    y_test_pred = pred_proba_df.applymap(lambda x: 1 if x>i else 0)\n",
    "    test_accuracy = accuracy_score(y_test,y_test_pred.iloc[:,1])\n",
    "    \n",
    "    print('Our testing accuracy is {}'.format(test_accuracy))\n",
    "    print('Accuracy = {:.5f}'.format(accuracy_score(y_test,y_test_pred.iloc[:,1])))\n",
    "    print('Precision = {:.5f}'.format(precision_score(y_test,y_test_pred.iloc[:,1])))\n",
    "    print('Recall = {:.5f}'.format(recall_score(y_test,y_test_pred.iloc[:,1])))\n",
    "    print('F1 score = {:.5f}'.format(f1_score(y_test,y_test_pred.iloc[:,1])))\n",
    "    print(confusion_matrix(y_test,y_test_pred.iloc[:,1]))\n",
    "    FPR = confusion_matrix(y_test, y_test_pred.iloc[:,1])[0][1] /(confusion_matrix(y_test, y_test_pred.iloc[:,1])[0][0] + confusion_matrix(y_test, y_test_pred.iloc[:,1])[0][1])\n",
    "    Specificity = confusion_matrix(y_test, y_test_pred.iloc[:,1])[0][0] /(confusion_matrix(y_test, y_test_pred.iloc[:,1])[0][0] + confusion_matrix(y_test, y_test_pred.iloc[:,1])[0][1])\n",
    "    print('FPR {}'.format(FPR))\n",
    "    p['Threshold'].append(i)\n",
    "    p['Accuracy'].append(accuracy_score(y_test,y_test_pred.iloc[:,1]))\n",
    "    p['Precision'].append(precision_score(y_test,y_test_pred.iloc[:,1]))\n",
    "    p['TPR'].append(recall_score(y_test,y_test_pred.iloc[:,1]))\n",
    "    p['FPR'].append(FPR)\n",
    "    p['Specificity'].append(Specificity)\n",
    "    p['F1'].append(f1_score(y_test,y_test_pred.iloc[:,1]))\n",
    "    p['CM'].append(confusion_matrix(y_test,y_test_pred.iloc[:,1]))"
   ]
  },
  {
   "cell_type": "code",
   "execution_count": 82,
   "id": "edbb2a97",
   "metadata": {},
   "outputs": [
    {
     "data": {
      "text/html": [
       "<div>\n",
       "<style scoped>\n",
       "    .dataframe tbody tr th:only-of-type {\n",
       "        vertical-align: middle;\n",
       "    }\n",
       "\n",
       "    .dataframe tbody tr th {\n",
       "        vertical-align: top;\n",
       "    }\n",
       "\n",
       "    .dataframe thead th {\n",
       "        text-align: right;\n",
       "    }\n",
       "</style>\n",
       "<table border=\"1\" class=\"dataframe\">\n",
       "  <thead>\n",
       "    <tr style=\"text-align: right;\">\n",
       "      <th></th>\n",
       "      <th>Threshold</th>\n",
       "      <th>Accuracy</th>\n",
       "      <th>Precision</th>\n",
       "      <th>TPR</th>\n",
       "      <th>FPR</th>\n",
       "      <th>F1</th>\n",
       "      <th>Specificity</th>\n",
       "      <th>CM</th>\n",
       "    </tr>\n",
       "  </thead>\n",
       "  <tbody>\n",
       "    <tr>\n",
       "      <th>0</th>\n",
       "      <td>0.00</td>\n",
       "      <td>0.128545</td>\n",
       "      <td>0.128545</td>\n",
       "      <td>1.000000</td>\n",
       "      <td>1.000000</td>\n",
       "      <td>0.227807</td>\n",
       "      <td>0.000000</td>\n",
       "      <td>[[0, 21694], [0, 3200]]</td>\n",
       "    </tr>\n",
       "    <tr>\n",
       "      <th>1</th>\n",
       "      <td>0.05</td>\n",
       "      <td>0.128746</td>\n",
       "      <td>0.128571</td>\n",
       "      <td>1.000000</td>\n",
       "      <td>0.999770</td>\n",
       "      <td>0.227847</td>\n",
       "      <td>0.000230</td>\n",
       "      <td>[[5, 21689], [0, 3200]]</td>\n",
       "    </tr>\n",
       "    <tr>\n",
       "      <th>2</th>\n",
       "      <td>0.10</td>\n",
       "      <td>0.141761</td>\n",
       "      <td>0.130206</td>\n",
       "      <td>0.999375</td>\n",
       "      <td>0.984742</td>\n",
       "      <td>0.230395</td>\n",
       "      <td>0.015258</td>\n",
       "      <td>[[331, 21363], [2, 3198]]</td>\n",
       "    </tr>\n",
       "    <tr>\n",
       "      <th>3</th>\n",
       "      <td>0.15</td>\n",
       "      <td>0.230497</td>\n",
       "      <td>0.141245</td>\n",
       "      <td>0.981563</td>\n",
       "      <td>0.880289</td>\n",
       "      <td>0.246953</td>\n",
       "      <td>0.119711</td>\n",
       "      <td>[[2597, 19097], [59, 3141]]</td>\n",
       "    </tr>\n",
       "    <tr>\n",
       "      <th>4</th>\n",
       "      <td>0.20</td>\n",
       "      <td>0.423556</td>\n",
       "      <td>0.175041</td>\n",
       "      <td>0.938438</td>\n",
       "      <td>0.652392</td>\n",
       "      <td>0.295048</td>\n",
       "      <td>0.347608</td>\n",
       "      <td>[[7541, 14153], [197, 3003]]</td>\n",
       "    </tr>\n",
       "    <tr>\n",
       "      <th>5</th>\n",
       "      <td>0.25</td>\n",
       "      <td>0.613481</td>\n",
       "      <td>0.231432</td>\n",
       "      <td>0.864688</td>\n",
       "      <td>0.423573</td>\n",
       "      <td>0.365136</td>\n",
       "      <td>0.576427</td>\n",
       "      <td>[[12505, 9189], [433, 2767]]</td>\n",
       "    </tr>\n",
       "    <tr>\n",
       "      <th>6</th>\n",
       "      <td>0.30</td>\n",
       "      <td>0.744035</td>\n",
       "      <td>0.309237</td>\n",
       "      <td>0.803438</td>\n",
       "      <td>0.264728</td>\n",
       "      <td>0.446587</td>\n",
       "      <td>0.735272</td>\n",
       "      <td>[[15951, 5743], [629, 2571]]</td>\n",
       "    </tr>\n",
       "    <tr>\n",
       "      <th>7</th>\n",
       "      <td>0.35</td>\n",
       "      <td>0.808388</td>\n",
       "      <td>0.377878</td>\n",
       "      <td>0.759062</td>\n",
       "      <td>0.184337</td>\n",
       "      <td>0.504570</td>\n",
       "      <td>0.815663</td>\n",
       "      <td>[[17695, 3999], [771, 2429]]</td>\n",
       "    </tr>\n",
       "    <tr>\n",
       "      <th>8</th>\n",
       "      <td>0.40</td>\n",
       "      <td>0.833695</td>\n",
       "      <td>0.417020</td>\n",
       "      <td>0.738125</td>\n",
       "      <td>0.152208</td>\n",
       "      <td>0.532942</td>\n",
       "      <td>0.847792</td>\n",
       "      <td>[[18392, 3302], [838, 2362]]</td>\n",
       "    </tr>\n",
       "    <tr>\n",
       "      <th>9</th>\n",
       "      <td>0.45</td>\n",
       "      <td>0.844139</td>\n",
       "      <td>0.436353</td>\n",
       "      <td>0.728437</td>\n",
       "      <td>0.138794</td>\n",
       "      <td>0.545774</td>\n",
       "      <td>0.861206</td>\n",
       "      <td>[[18683, 3011], [869, 2331]]</td>\n",
       "    </tr>\n",
       "    <tr>\n",
       "      <th>10</th>\n",
       "      <td>0.50</td>\n",
       "      <td>0.848196</td>\n",
       "      <td>0.444530</td>\n",
       "      <td>0.725000</td>\n",
       "      <td>0.133631</td>\n",
       "      <td>0.551134</td>\n",
       "      <td>0.866369</td>\n",
       "      <td>[[18795, 2899], [880, 2320]]</td>\n",
       "    </tr>\n",
       "    <tr>\n",
       "      <th>11</th>\n",
       "      <td>0.55</td>\n",
       "      <td>0.849884</td>\n",
       "      <td>0.447975</td>\n",
       "      <td>0.722500</td>\n",
       "      <td>0.131327</td>\n",
       "      <td>0.553044</td>\n",
       "      <td>0.868673</td>\n",
       "      <td>[[18845, 2849], [888, 2312]]</td>\n",
       "    </tr>\n",
       "    <tr>\n",
       "      <th>12</th>\n",
       "      <td>0.60</td>\n",
       "      <td>0.851048</td>\n",
       "      <td>0.450371</td>\n",
       "      <td>0.720313</td>\n",
       "      <td>0.129667</td>\n",
       "      <td>0.554220</td>\n",
       "      <td>0.870333</td>\n",
       "      <td>[[18881, 2813], [895, 2305]]</td>\n",
       "    </tr>\n",
       "    <tr>\n",
       "      <th>13</th>\n",
       "      <td>0.65</td>\n",
       "      <td>0.852254</td>\n",
       "      <td>0.452879</td>\n",
       "      <td>0.717812</td>\n",
       "      <td>0.127916</td>\n",
       "      <td>0.555368</td>\n",
       "      <td>0.872084</td>\n",
       "      <td>[[18919, 2775], [903, 2297]]</td>\n",
       "    </tr>\n",
       "    <tr>\n",
       "      <th>14</th>\n",
       "      <td>0.70</td>\n",
       "      <td>0.854865</td>\n",
       "      <td>0.458037</td>\n",
       "      <td>0.704375</td>\n",
       "      <td>0.122937</td>\n",
       "      <td>0.555104</td>\n",
       "      <td>0.877063</td>\n",
       "      <td>[[19027, 2667], [946, 2254]]</td>\n",
       "    </tr>\n",
       "    <tr>\n",
       "      <th>15</th>\n",
       "      <td>0.75</td>\n",
       "      <td>0.859324</td>\n",
       "      <td>0.467288</td>\n",
       "      <td>0.674063</td>\n",
       "      <td>0.113349</td>\n",
       "      <td>0.551945</td>\n",
       "      <td>0.886651</td>\n",
       "      <td>[[19235, 2459], [1043, 2157]]</td>\n",
       "    </tr>\n",
       "    <tr>\n",
       "      <th>16</th>\n",
       "      <td>0.80</td>\n",
       "      <td>0.867558</td>\n",
       "      <td>0.487574</td>\n",
       "      <td>0.594688</td>\n",
       "      <td>0.092191</td>\n",
       "      <td>0.535830</td>\n",
       "      <td>0.907809</td>\n",
       "      <td>[[19694, 2000], [1297, 1903]]</td>\n",
       "    </tr>\n",
       "    <tr>\n",
       "      <th>17</th>\n",
       "      <td>0.85</td>\n",
       "      <td>0.875432</td>\n",
       "      <td>0.518477</td>\n",
       "      <td>0.434063</td>\n",
       "      <td>0.059463</td>\n",
       "      <td>0.472529</td>\n",
       "      <td>0.940537</td>\n",
       "      <td>[[20404, 1290], [1811, 1389]]</td>\n",
       "    </tr>\n",
       "    <tr>\n",
       "      <th>18</th>\n",
       "      <td>0.90</td>\n",
       "      <td>0.876155</td>\n",
       "      <td>0.558794</td>\n",
       "      <td>0.173750</td>\n",
       "      <td>0.020236</td>\n",
       "      <td>0.265077</td>\n",
       "      <td>0.979764</td>\n",
       "      <td>[[21255, 439], [2644, 556]]</td>\n",
       "    </tr>\n",
       "    <tr>\n",
       "      <th>19</th>\n",
       "      <td>0.95</td>\n",
       "      <td>0.873463</td>\n",
       "      <td>0.652439</td>\n",
       "      <td>0.033438</td>\n",
       "      <td>0.002627</td>\n",
       "      <td>0.063615</td>\n",
       "      <td>0.997373</td>\n",
       "      <td>[[21637, 57], [3093, 107]]</td>\n",
       "    </tr>\n",
       "  </tbody>\n",
       "</table>\n",
       "</div>"
      ],
      "text/plain": [
       "    Threshold  Accuracy  Precision       TPR       FPR        F1  Specificity  \\\n",
       "0        0.00  0.128545   0.128545  1.000000  1.000000  0.227807     0.000000   \n",
       "1        0.05  0.128746   0.128571  1.000000  0.999770  0.227847     0.000230   \n",
       "2        0.10  0.141761   0.130206  0.999375  0.984742  0.230395     0.015258   \n",
       "3        0.15  0.230497   0.141245  0.981563  0.880289  0.246953     0.119711   \n",
       "4        0.20  0.423556   0.175041  0.938438  0.652392  0.295048     0.347608   \n",
       "5        0.25  0.613481   0.231432  0.864688  0.423573  0.365136     0.576427   \n",
       "6        0.30  0.744035   0.309237  0.803438  0.264728  0.446587     0.735272   \n",
       "7        0.35  0.808388   0.377878  0.759062  0.184337  0.504570     0.815663   \n",
       "8        0.40  0.833695   0.417020  0.738125  0.152208  0.532942     0.847792   \n",
       "9        0.45  0.844139   0.436353  0.728437  0.138794  0.545774     0.861206   \n",
       "10       0.50  0.848196   0.444530  0.725000  0.133631  0.551134     0.866369   \n",
       "11       0.55  0.849884   0.447975  0.722500  0.131327  0.553044     0.868673   \n",
       "12       0.60  0.851048   0.450371  0.720313  0.129667  0.554220     0.870333   \n",
       "13       0.65  0.852254   0.452879  0.717812  0.127916  0.555368     0.872084   \n",
       "14       0.70  0.854865   0.458037  0.704375  0.122937  0.555104     0.877063   \n",
       "15       0.75  0.859324   0.467288  0.674063  0.113349  0.551945     0.886651   \n",
       "16       0.80  0.867558   0.487574  0.594688  0.092191  0.535830     0.907809   \n",
       "17       0.85  0.875432   0.518477  0.434063  0.059463  0.472529     0.940537   \n",
       "18       0.90  0.876155   0.558794  0.173750  0.020236  0.265077     0.979764   \n",
       "19       0.95  0.873463   0.652439  0.033438  0.002627  0.063615     0.997373   \n",
       "\n",
       "                               CM  \n",
       "0         [[0, 21694], [0, 3200]]  \n",
       "1         [[5, 21689], [0, 3200]]  \n",
       "2       [[331, 21363], [2, 3198]]  \n",
       "3     [[2597, 19097], [59, 3141]]  \n",
       "4    [[7541, 14153], [197, 3003]]  \n",
       "5    [[12505, 9189], [433, 2767]]  \n",
       "6    [[15951, 5743], [629, 2571]]  \n",
       "7    [[17695, 3999], [771, 2429]]  \n",
       "8    [[18392, 3302], [838, 2362]]  \n",
       "9    [[18683, 3011], [869, 2331]]  \n",
       "10   [[18795, 2899], [880, 2320]]  \n",
       "11   [[18845, 2849], [888, 2312]]  \n",
       "12   [[18881, 2813], [895, 2305]]  \n",
       "13   [[18919, 2775], [903, 2297]]  \n",
       "14   [[19027, 2667], [946, 2254]]  \n",
       "15  [[19235, 2459], [1043, 2157]]  \n",
       "16  [[19694, 2000], [1297, 1903]]  \n",
       "17  [[20404, 1290], [1811, 1389]]  \n",
       "18    [[21255, 439], [2644, 556]]  \n",
       "19     [[21637, 57], [3093, 107]]  "
      ]
     },
     "execution_count": 82,
     "metadata": {},
     "output_type": "execute_result"
    }
   ],
   "source": [
    "pd.DataFrame(p)"
   ]
  },
  {
   "cell_type": "code",
   "execution_count": 83,
   "id": "b12563a8",
   "metadata": {},
   "outputs": [],
   "source": [
    "dtclassifier = DecisionTreeClassifier(criterion='entropy')\n",
    "\n",
    "\n",
    "dtclassifier = dtclassifier.fit(X_over,y_over)\n",
    "\n",
    "y_pred = dtclassifier.predict(X_test)"
   ]
  },
  {
   "cell_type": "code",
   "execution_count": 84,
   "id": "d1fdbcf2",
   "metadata": {},
   "outputs": [
    {
     "name": "stdout",
     "output_type": "stream",
     "text": [
      "Accuracy = 0.82847\n",
      "Precision = 0.34302\n",
      "Recall = 0.36531\n",
      "F1 score = 0.35381\n",
      "[[19455  2239]\n",
      " [ 2031  1169]]\n",
      "FPR 0.10320826034848345\n",
      "Specificity 0.8967917396515166\n"
     ]
    }
   ],
   "source": [
    "\n",
    "    print('Accuracy = {:.5f}'.format(accuracy_score(y_test,y_pred)))\n",
    "    print('Precision = {:.5f}'.format(precision_score(y_test,y_pred)))\n",
    "    print('Recall = {:.5f}'.format(recall_score(y_test,y_pred)))\n",
    "    print('F1 score = {:.5f}'.format(f1_score(y_test,y_pred)))\n",
    "    print(confusion_matrix(y_test,y_pred))\n",
    "    FPR = confusion_matrix(y_test, y_pred)[0][1] /(confusion_matrix(y_test, y_pred)[0][0] + confusion_matrix(y_test, y_pred)[0][1])\n",
    "    Specificity = confusion_matrix(y_test, y_pred)[0][0] /(confusion_matrix(y_test, y_pred)[0][0] + confusion_matrix(y_test, y_pred)[0][1])\n",
    "    print('FPR {}'.format(FPR))\n",
    "    print('Specificity {}'.format(Specificity))"
   ]
  },
  {
   "cell_type": "markdown",
   "id": "6ee5291b",
   "metadata": {},
   "source": [
    "## Oversampling and Undersampling combined"
   ]
  },
  {
   "cell_type": "code",
   "execution_count": 85,
   "id": "7281d9f7",
   "metadata": {},
   "outputs": [
    {
     "name": "stdout",
     "output_type": "stream",
     "text": [
      "Counter({0: 50741, 1: 7345})\n",
      "Counter({0: 50741, 1: 30444})\n",
      "Counter({0: 30444, 1: 30444})\n"
     ]
    }
   ],
   "source": [
    "from imblearn.under_sampling import RandomUnderSampler\n",
    "# summarize class distribution\n",
    "print(Counter(y_train))\n",
    "# define oversampling strategy\n",
    "oversample = RandomOverSampler(sampling_strategy=0.6)\n",
    "# fit and apply the transform\n",
    "X_over, y_over = oversample.fit_resample(X_train, y_train)\n",
    "# summarize class distribution\n",
    "print(Counter(y_over))\n",
    "# define undersample strategy\n",
    "undersample = RandomUnderSampler(sampling_strategy='majority')\n",
    "# fit and apply the transform\n",
    "X_under, y_under = undersample.fit_resample(X_over, y_over)\n",
    "# summarize class distribution\n",
    "print(Counter(y_under))"
   ]
  },
  {
   "cell_type": "code",
   "execution_count": 86,
   "id": "2c6c5eb5",
   "metadata": {},
   "outputs": [
    {
     "data": {
      "text/plain": [
       "<sklearn.metrics._plot.roc_curve.RocCurveDisplay at 0x1c04afea1c0>"
      ]
     },
     "execution_count": 86,
     "metadata": {},
     "output_type": "execute_result"
    },
    {
     "data": {
      "text/plain": [
       "<Figure size 864x576 with 0 Axes>"
      ]
     },
     "metadata": {},
     "output_type": "display_data"
    },
    {
     "data": {
      "image/png": "[encoded data removed]",
      "text/plain": [
       "<Figure size 432x288 with 1 Axes>"
      ]
     },
     "metadata": {
      "needs_background": "light"
     },
     "output_type": "display_data"
    }
   ],
   "source": [
    "classifier=LogisticRegression(max_iter=5000)\n",
    "classifier.fit(X_under,y_under)\n",
    "plt.figure(figsize=(12, 8))\n",
    "plot_roc_curve(classifier,X_test,y_test)"
   ]
  },
  {
   "cell_type": "code",
   "execution_count": 87,
   "id": "e64028ba",
   "metadata": {},
   "outputs": [],
   "source": [
    "test_pred = classifier.predict(X_test)\n",
    "test_prob = classifier.predict_proba(X_test)[:,1]"
   ]
  },
  {
   "cell_type": "code",
   "execution_count": 88,
   "id": "28194d38",
   "metadata": {},
   "outputs": [
    {
     "name": "stdout",
     "output_type": "stream",
     "text": [
      "Log loss = 0.47650\n",
      "AUC = 0.83723\n",
      "Average Precision = 0.46313\n",
      "\n",
      "Using 0.5 as threshold:\n",
      "Accuracy = 0.84747\n",
      "Precision = 0.44302\n",
      "Recall = 0.72531\n",
      "F1 score = 0.55007\n",
      "\n",
      "Classification Report\n",
      "              precision    recall  f1-score   support\n",
      "\n",
      "           0       0.96      0.87      0.91     21694\n",
      "           1       0.44      0.73      0.55      3200\n",
      "\n",
      "    accuracy                           0.85     24894\n",
      "   macro avg       0.70      0.80      0.73     24894\n",
      "weighted avg       0.89      0.85      0.86     24894\n",
      "\n"
     ]
    }
   ],
   "source": [
    "print('Log loss = {:.5f}'.format(log_loss(y_test, test_prob)))\n",
    "print('AUC = {:.5f}'.format(roc_auc_score(y_test, test_prob)))\n",
    "print('Average Precision = {:.5f}'.format(average_precision_score(y_test, test_prob)))\n",
    "print('\\nUsing 0.5 as threshold:')\n",
    "print('Accuracy = {:.5f}'.format(accuracy_score(y_test, test_pred)))\n",
    "print('Precision = {:.5f}'.format(precision_score(y_test, test_pred)))\n",
    "print('Recall = {:.5f}'.format(recall_score(y_test, test_pred)))\n",
    "print('F1 score = {:.5f}'.format(f1_score(y_test, test_pred)))\n",
    "\n",
    "print('\\nClassification Report')\n",
    "print(classification_report(y_test, test_pred))"
   ]
  },
  {
   "cell_type": "code",
   "execution_count": 89,
   "id": "88fdb4e0",
   "metadata": {},
   "outputs": [
    {
     "data": {
      "text/plain": [
       "<sklearn.metrics._plot.confusion_matrix.ConfusionMatrixDisplay at 0x1c04b9c7520>"
      ]
     },
     "execution_count": 89,
     "metadata": {},
     "output_type": "execute_result"
    },
    {
     "data": {
      "image/png": "[encoded data removed]",
      "text/plain": [
       "<Figure size 432x288 with 2 Axes>"
      ]
     },
     "metadata": {
      "needs_background": "light"
     },
     "output_type": "display_data"
    }
   ],
   "source": [
    "plot_confusion_matrix(classifier, X_test, y_test)"
   ]
  },
  {
   "cell_type": "code",
   "execution_count": 90,
   "id": "930ea4ba",
   "metadata": {},
   "outputs": [],
   "source": [
    "fpr,tpr,thresholds = roc_curve(y_test, test_prob)"
   ]
  },
  {
   "cell_type": "code",
   "execution_count": 91,
   "id": "f1bfc6f4",
   "metadata": {},
   "outputs": [],
   "source": [
    "thres = pd.DataFrame(data={'FPR': fpr, 'TPR': tpr,'thresholds':thresholds})"
   ]
  },
  {
   "cell_type": "code",
   "execution_count": 92,
   "id": "f4f3b177",
   "metadata": {},
   "outputs": [],
   "source": [
    "optimal_idx = np.argmax(tpr - fpr)"
   ]
  },
  {
   "cell_type": "code",
   "execution_count": 93,
   "id": "3d6b2b84",
   "metadata": {},
   "outputs": [
    {
     "data": {
      "text/plain": [
       "2502"
      ]
     },
     "execution_count": 93,
     "metadata": {},
     "output_type": "execute_result"
    }
   ],
   "source": [
    "optimal_idx"
   ]
  },
  {
   "cell_type": "code",
   "execution_count": 94,
   "id": "48946f31",
   "metadata": {},
   "outputs": [
    {
     "data": {
      "text/plain": [
       "FPR           0.006684\n",
       "TPR           0.072813\n",
       "thresholds    0.927685\n",
       "Name: 176, dtype: float64"
      ]
     },
     "execution_count": 94,
     "metadata": {},
     "output_type": "execute_result"
    }
   ],
   "source": [
    "thres.iloc[176]"
   ]
  },
  {
   "cell_type": "code",
   "execution_count": 95,
   "id": "661eee69",
   "metadata": {},
   "outputs": [
    {
     "data": {
      "text/plain": [
       "<AxesSubplot:xlabel='FPR', ylabel='TPR'>"
      ]
     },
     "execution_count": 95,
     "metadata": {},
     "output_type": "execute_result"
    },
    {
     "data": {
      "image/png": "[encoded data removed]",
      "text/plain": [
       "<Figure size 432x288 with 1 Axes>"
      ]
     },
     "metadata": {
      "needs_background": "light"
     },
     "output_type": "display_data"
    }
   ],
   "source": [
    "sns.lineplot(x=thres['FPR'],y=thres['TPR'])"
   ]
  },
  {
   "cell_type": "code",
   "execution_count": 96,
   "id": "16581033",
   "metadata": {},
   "outputs": [],
   "source": [
    "thresholdlist=np.arange(0,1,0.05)\n",
    "\n",
    "pred_proba_df = pd.DataFrame(classifier.predict_proba(X_test))\n",
    "\n",
    "tshl=[]\n",
    "acc=[]\n",
    "precision=[]\n",
    "tprate=[]\n",
    "fprate=[]\n",
    "f1score=[]\n",
    "CM=[]\n",
    "Specificity=[]\n",
    "p = {'Threshold':tshl,'Accuracy':acc,'Precision':precision,'TPR':tprate,'FPR':fprate,'F1':f1score,'Specificity' : Specificity,'CM':CM}\n"
   ]
  },
  {
   "cell_type": "code",
   "execution_count": 97,
   "id": "a2f25ac8",
   "metadata": {},
   "outputs": [
    {
     "name": "stdout",
     "output_type": "stream",
     "text": [
      "\n",
      "******** For i = 0.0 ******\n",
      "Our testing accuracy is 0.12854503093114808\n",
      "Accuracy = 0.12855\n",
      "Precision = 0.12855\n",
      "Recall = 1.00000\n",
      "F1 score = 0.22781\n",
      "[[    0 21694]\n",
      " [    0  3200]]\n",
      "FPR 1.0\n",
      "\n",
      "******** For i = 0.05 ******\n",
      "Our testing accuracy is 0.12858520125331405\n",
      "Accuracy = 0.12859\n",
      "Precision = 0.12855\n",
      "Recall = 1.00000\n",
      "F1 score = 0.22781\n",
      "[[    1 21693]\n",
      " [    0  3200]]\n",
      "FPR 0.9999539043053379\n",
      "\n",
      "******** For i = 0.1 ******\n",
      "Our testing accuracy is 0.1398328914597895\n",
      "Accuracy = 0.13983\n",
      "Precision = 0.12992\n",
      "Recall = 0.99906\n",
      "F1 score = 0.22994\n",
      "[[  284 21410]\n",
      " [    3  3197]]\n",
      "FPR 0.9869088227159584\n",
      "\n",
      "******** For i = 0.15000000000000002 ******\n",
      "Our testing accuracy is 0.22435124929701936\n",
      "Accuracy = 0.22435\n",
      "Precision = 0.14022\n",
      "Recall = 0.98094\n",
      "F1 score = 0.24536\n",
      "[[ 2446 19248]\n",
      " [   61  3139]]\n",
      "FPR 0.887249930856458\n",
      "\n",
      "******** For i = 0.2 ******\n",
      "Our testing accuracy is 0.4205431027556841\n",
      "Accuracy = 0.42054\n",
      "Precision = 0.17420\n",
      "Recall = 0.93781\n",
      "F1 score = 0.29383\n",
      "[[ 7468 14226]\n",
      " [  199  3001]]\n",
      "FPR 0.6557573522632986\n",
      "\n",
      "******** For i = 0.25 ******\n",
      "Our testing accuracy is 0.6157306981601992\n",
      "Accuracy = 0.61573\n",
      "Precision = 0.23248\n",
      "Recall = 0.86438\n",
      "F1 score = 0.36641\n",
      "[[12562  9132]\n",
      " [  434  2766]]\n",
      "FPR 0.42094588365446667\n",
      "\n",
      "******** For i = 0.30000000000000004 ******\n",
      "Our testing accuracy is 0.7481320800192818\n",
      "Accuracy = 0.74813\n",
      "Precision = 0.31248\n",
      "Recall = 0.79937\n",
      "F1 score = 0.44932\n",
      "[[16066  5628]\n",
      " [  642  2558]]\n",
      "FPR 0.25942656955840326\n",
      "\n",
      "******** For i = 0.35000000000000003 ******\n",
      "Our testing accuracy is 0.8112798264642083\n",
      "Accuracy = 0.81128\n",
      "Precision = 0.38216\n",
      "Recall = 0.75906\n",
      "F1 score = 0.50837\n",
      "[[17767  3927]\n",
      " [  771  2429]]\n",
      "FPR 0.18101779293813958\n",
      "\n",
      "******** For i = 0.4 ******\n",
      "Our testing accuracy is 0.834377761709649\n",
      "Accuracy = 0.83438\n",
      "Precision = 0.41828\n",
      "Recall = 0.73813\n",
      "F1 score = 0.53397\n",
      "[[18409  3285]\n",
      " [  838  2362]]\n",
      "FPR 0.15142435696505946\n",
      "\n",
      "******** For i = 0.45 ******\n",
      "Our testing accuracy is 0.8435767654856592\n",
      "Accuracy = 0.84358\n",
      "Precision = 0.43524\n",
      "Recall = 0.72875\n",
      "F1 score = 0.54499\n",
      "[[18668  3026]\n",
      " [  868  2332]]\n",
      "FPR 0.13948557204757076\n",
      "\n",
      "******** For i = 0.5 ******\n",
      "Our testing accuracy is 0.8474732867357596\n",
      "Accuracy = 0.84747\n",
      "Precision = 0.44302\n",
      "Recall = 0.72531\n",
      "F1 score = 0.55007\n",
      "[[18776  2918]\n",
      " [  879  2321]]\n",
      "FPR 0.13450723702406195\n",
      "\n",
      "******** For i = 0.55 ******\n",
      "Our testing accuracy is 0.8491202699445649\n",
      "Accuracy = 0.84912\n",
      "Precision = 0.44637\n",
      "Recall = 0.72313\n",
      "F1 score = 0.55200\n",
      "[[18824  2870]\n",
      " [  886  2314]]\n",
      "FPR 0.13229464368028027\n",
      "\n",
      "******** For i = 0.6000000000000001 ******\n",
      "Our testing accuracy is 0.8506065718647063\n",
      "Accuracy = 0.85061\n",
      "Precision = 0.44948\n",
      "Recall = 0.72156\n",
      "F1 score = 0.55392\n",
      "[[18866  2828]\n",
      " [  891  2309]]\n",
      "FPR 0.13035862450447128\n",
      "\n",
      "******** For i = 0.65 ******\n",
      "Our testing accuracy is 0.8516510002410219\n",
      "Accuracy = 0.85165\n",
      "Precision = 0.45152\n",
      "Recall = 0.71750\n",
      "F1 score = 0.55425\n",
      "[[18905  2789]\n",
      " [  904  2296]]\n",
      "FPR 0.12856089241264865\n",
      "\n",
      "******** For i = 0.7000000000000001 ******\n",
      "Our testing accuracy is 0.8542219008596449\n",
      "Accuracy = 0.85422\n",
      "Precision = 0.45666\n",
      "Recall = 0.70625\n",
      "F1 score = 0.55467\n",
      "[[19005  2689]\n",
      " [  940  2260]]\n",
      "FPR 0.1239513229464368\n",
      "\n",
      "******** For i = 0.75 ******\n",
      "Our testing accuracy is 0.8583594440427412\n",
      "Accuracy = 0.85836\n",
      "Precision = 0.46498\n",
      "Recall = 0.67625\n",
      "F1 score = 0.55106\n",
      "[[19204  2490]\n",
      " [ 1036  2164]]\n",
      "FPR 0.11477827970867521\n",
      "\n",
      "******** For i = 0.8 ******\n",
      "Our testing accuracy is 0.8668353820197638\n",
      "Accuracy = 0.86684\n",
      "Precision = 0.48543\n",
      "Recall = 0.59875\n",
      "F1 score = 0.53617\n",
      "[[19663  2031]\n",
      " [ 1284  1916]]\n",
      "FPR 0.09362035585876279\n",
      "\n",
      "******** For i = 0.8500000000000001 ******\n",
      "Our testing accuracy is 0.8752309793524544\n",
      "Accuracy = 0.87523\n",
      "Precision = 0.51764\n",
      "Recall = 0.43094\n",
      "F1 score = 0.47033\n",
      "[[20409  1285]\n",
      " [ 1821  1379]]\n",
      "FPR 0.059232967640822344\n",
      "\n",
      "******** For i = 0.9 ******\n",
      "Our testing accuracy is 0.8767976219169278\n",
      "Accuracy = 0.87680\n",
      "Precision = 0.56765\n",
      "Recall = 0.17438\n",
      "F1 score = 0.26679\n",
      "[[21269   425]\n",
      " [ 2642   558]]\n",
      "FPR 0.019590670231400386\n",
      "\n",
      "******** For i = 0.9500000000000001 ******\n",
      "Our testing accuracy is 0.873543825821483\n",
      "Accuracy = 0.87354\n",
      "Precision = 0.63978\n",
      "Recall = 0.03719\n",
      "F1 score = 0.07029\n",
      "[[21627    67]\n",
      " [ 3081   119]]\n",
      "FPR 0.0030884115423619432\n"
     ]
    }
   ],
   "source": [
    "for i in thresholdlist:\n",
    "    print ('\\n******** For i = {} ******'.format(i))\n",
    "    y_test_pred = pred_proba_df.applymap(lambda x: 1 if x>i else 0)\n",
    "    test_accuracy = accuracy_score(y_test,y_test_pred.iloc[:,1])\n",
    "    \n",
    "    print('Our testing accuracy is {}'.format(test_accuracy))\n",
    "    print('Accuracy = {:.5f}'.format(accuracy_score(y_test,y_test_pred.iloc[:,1])))\n",
    "    print('Precision = {:.5f}'.format(precision_score(y_test,y_test_pred.iloc[:,1])))\n",
    "    print('Recall = {:.5f}'.format(recall_score(y_test,y_test_pred.iloc[:,1])))\n",
    "    print('F1 score = {:.5f}'.format(f1_score(y_test,y_test_pred.iloc[:,1])))\n",
    "    print(confusion_matrix(y_test,y_test_pred.iloc[:,1]))\n",
    "    FPR = confusion_matrix(y_test, y_test_pred.iloc[:,1])[0][1] /(confusion_matrix(y_test, y_test_pred.iloc[:,1])[0][0] + confusion_matrix(y_test, y_test_pred.iloc[:,1])[0][1])\n",
    "    Specificity = confusion_matrix(y_test, y_test_pred.iloc[:,1])[0][0] /(confusion_matrix(y_test, y_test_pred.iloc[:,1])[0][0] + confusion_matrix(y_test, y_test_pred.iloc[:,1])[0][1])\n",
    "    print('FPR {}'.format(FPR))\n",
    "    p['Threshold'].append(i)\n",
    "    p['Accuracy'].append(accuracy_score(y_test,y_test_pred.iloc[:,1]))\n",
    "    p['Precision'].append(precision_score(y_test,y_test_pred.iloc[:,1]))\n",
    "    p['TPR'].append(recall_score(y_test,y_test_pred.iloc[:,1]))\n",
    "    p['FPR'].append(FPR)\n",
    "    p['Specificity'].append(Specificity)\n",
    "    p['F1'].append(f1_score(y_test,y_test_pred.iloc[:,1]))\n",
    "    p['CM'].append(confusion_matrix(y_test,y_test_pred.iloc[:,1]))"
   ]
  },
  {
   "cell_type": "code",
   "execution_count": 98,
   "id": "ab424360",
   "metadata": {},
   "outputs": [
    {
     "data": {
      "text/html": [
       "<div>\n",
       "<style scoped>\n",
       "    .dataframe tbody tr th:only-of-type {\n",
       "        vertical-align: middle;\n",
       "    }\n",
       "\n",
       "    .dataframe tbody tr th {\n",
       "        vertical-align: top;\n",
       "    }\n",
       "\n",
       "    .dataframe thead th {\n",
       "        text-align: right;\n",
       "    }\n",
       "</style>\n",
       "<table border=\"1\" class=\"dataframe\">\n",
       "  <thead>\n",
       "    <tr style=\"text-align: right;\">\n",
       "      <th></th>\n",
       "      <th>Threshold</th>\n",
       "      <th>Accuracy</th>\n",
       "      <th>Precision</th>\n",
       "      <th>TPR</th>\n",
       "      <th>FPR</th>\n",
       "      <th>F1</th>\n",
       "      <th>Specificity</th>\n",
       "      <th>CM</th>\n",
       "    </tr>\n",
       "  </thead>\n",
       "  <tbody>\n",
       "    <tr>\n",
       "      <th>0</th>\n",
       "      <td>0.00</td>\n",
       "      <td>0.128545</td>\n",
       "      <td>0.128545</td>\n",
       "      <td>1.000000</td>\n",
       "      <td>1.000000</td>\n",
       "      <td>0.227807</td>\n",
       "      <td>0.000000</td>\n",
       "      <td>[[0, 21694], [0, 3200]]</td>\n",
       "    </tr>\n",
       "    <tr>\n",
       "      <th>1</th>\n",
       "      <td>0.05</td>\n",
       "      <td>0.128585</td>\n",
       "      <td>0.128550</td>\n",
       "      <td>1.000000</td>\n",
       "      <td>0.999954</td>\n",
       "      <td>0.227815</td>\n",
       "      <td>0.000046</td>\n",
       "      <td>[[1, 21693], [0, 3200]]</td>\n",
       "    </tr>\n",
       "    <tr>\n",
       "      <th>2</th>\n",
       "      <td>0.10</td>\n",
       "      <td>0.139833</td>\n",
       "      <td>0.129922</td>\n",
       "      <td>0.999062</td>\n",
       "      <td>0.986909</td>\n",
       "      <td>0.229942</td>\n",
       "      <td>0.013091</td>\n",
       "      <td>[[284, 21410], [3, 3197]]</td>\n",
       "    </tr>\n",
       "    <tr>\n",
       "      <th>3</th>\n",
       "      <td>0.15</td>\n",
       "      <td>0.224351</td>\n",
       "      <td>0.140215</td>\n",
       "      <td>0.980938</td>\n",
       "      <td>0.887250</td>\n",
       "      <td>0.245359</td>\n",
       "      <td>0.112750</td>\n",
       "      <td>[[2446, 19248], [61, 3139]]</td>\n",
       "    </tr>\n",
       "    <tr>\n",
       "      <th>4</th>\n",
       "      <td>0.20</td>\n",
       "      <td>0.420543</td>\n",
       "      <td>0.174203</td>\n",
       "      <td>0.937813</td>\n",
       "      <td>0.655757</td>\n",
       "      <td>0.293827</td>\n",
       "      <td>0.344243</td>\n",
       "      <td>[[7468, 14226], [199, 3001]]</td>\n",
       "    </tr>\n",
       "    <tr>\n",
       "      <th>5</th>\n",
       "      <td>0.25</td>\n",
       "      <td>0.615731</td>\n",
       "      <td>0.232476</td>\n",
       "      <td>0.864375</td>\n",
       "      <td>0.420946</td>\n",
       "      <td>0.366406</td>\n",
       "      <td>0.579054</td>\n",
       "      <td>[[12562, 9132], [434, 2766]]</td>\n",
       "    </tr>\n",
       "    <tr>\n",
       "      <th>6</th>\n",
       "      <td>0.30</td>\n",
       "      <td>0.748132</td>\n",
       "      <td>0.312485</td>\n",
       "      <td>0.799375</td>\n",
       "      <td>0.259427</td>\n",
       "      <td>0.449324</td>\n",
       "      <td>0.740573</td>\n",
       "      <td>[[16066, 5628], [642, 2558]]</td>\n",
       "    </tr>\n",
       "    <tr>\n",
       "      <th>7</th>\n",
       "      <td>0.35</td>\n",
       "      <td>0.811280</td>\n",
       "      <td>0.382159</td>\n",
       "      <td>0.759062</td>\n",
       "      <td>0.181018</td>\n",
       "      <td>0.508372</td>\n",
       "      <td>0.818982</td>\n",
       "      <td>[[17767, 3927], [771, 2429]]</td>\n",
       "    </tr>\n",
       "    <tr>\n",
       "      <th>8</th>\n",
       "      <td>0.40</td>\n",
       "      <td>0.834378</td>\n",
       "      <td>0.418275</td>\n",
       "      <td>0.738125</td>\n",
       "      <td>0.151424</td>\n",
       "      <td>0.533966</td>\n",
       "      <td>0.848576</td>\n",
       "      <td>[[18409, 3285], [838, 2362]]</td>\n",
       "    </tr>\n",
       "    <tr>\n",
       "      <th>9</th>\n",
       "      <td>0.45</td>\n",
       "      <td>0.843577</td>\n",
       "      <td>0.435237</td>\n",
       "      <td>0.728750</td>\n",
       "      <td>0.139486</td>\n",
       "      <td>0.544987</td>\n",
       "      <td>0.860514</td>\n",
       "      <td>[[18668, 3026], [868, 2332]]</td>\n",
       "    </tr>\n",
       "    <tr>\n",
       "      <th>10</th>\n",
       "      <td>0.50</td>\n",
       "      <td>0.847473</td>\n",
       "      <td>0.443023</td>\n",
       "      <td>0.725313</td>\n",
       "      <td>0.134507</td>\n",
       "      <td>0.550065</td>\n",
       "      <td>0.865493</td>\n",
       "      <td>[[18776, 2918], [879, 2321]]</td>\n",
       "    </tr>\n",
       "    <tr>\n",
       "      <th>11</th>\n",
       "      <td>0.55</td>\n",
       "      <td>0.849120</td>\n",
       "      <td>0.446373</td>\n",
       "      <td>0.723125</td>\n",
       "      <td>0.132295</td>\n",
       "      <td>0.552004</td>\n",
       "      <td>0.867705</td>\n",
       "      <td>[[18824, 2870], [886, 2314]]</td>\n",
       "    </tr>\n",
       "    <tr>\n",
       "      <th>12</th>\n",
       "      <td>0.60</td>\n",
       "      <td>0.850607</td>\n",
       "      <td>0.449484</td>\n",
       "      <td>0.721562</td>\n",
       "      <td>0.130359</td>\n",
       "      <td>0.553916</td>\n",
       "      <td>0.869641</td>\n",
       "      <td>[[18866, 2828], [891, 2309]]</td>\n",
       "    </tr>\n",
       "    <tr>\n",
       "      <th>13</th>\n",
       "      <td>0.65</td>\n",
       "      <td>0.851651</td>\n",
       "      <td>0.451524</td>\n",
       "      <td>0.717500</td>\n",
       "      <td>0.128561</td>\n",
       "      <td>0.554255</td>\n",
       "      <td>0.871439</td>\n",
       "      <td>[[18905, 2789], [904, 2296]]</td>\n",
       "    </tr>\n",
       "    <tr>\n",
       "      <th>14</th>\n",
       "      <td>0.70</td>\n",
       "      <td>0.854222</td>\n",
       "      <td>0.456658</td>\n",
       "      <td>0.706250</td>\n",
       "      <td>0.123951</td>\n",
       "      <td>0.554669</td>\n",
       "      <td>0.876049</td>\n",
       "      <td>[[19005, 2689], [940, 2260]]</td>\n",
       "    </tr>\n",
       "    <tr>\n",
       "      <th>15</th>\n",
       "      <td>0.75</td>\n",
       "      <td>0.858359</td>\n",
       "      <td>0.464976</td>\n",
       "      <td>0.676250</td>\n",
       "      <td>0.114778</td>\n",
       "      <td>0.551057</td>\n",
       "      <td>0.885222</td>\n",
       "      <td>[[19204, 2490], [1036, 2164]]</td>\n",
       "    </tr>\n",
       "    <tr>\n",
       "      <th>16</th>\n",
       "      <td>0.80</td>\n",
       "      <td>0.866835</td>\n",
       "      <td>0.485432</td>\n",
       "      <td>0.598750</td>\n",
       "      <td>0.093620</td>\n",
       "      <td>0.536169</td>\n",
       "      <td>0.906380</td>\n",
       "      <td>[[19663, 2031], [1284, 1916]]</td>\n",
       "    </tr>\n",
       "    <tr>\n",
       "      <th>17</th>\n",
       "      <td>0.85</td>\n",
       "      <td>0.875231</td>\n",
       "      <td>0.517643</td>\n",
       "      <td>0.430937</td>\n",
       "      <td>0.059233</td>\n",
       "      <td>0.470327</td>\n",
       "      <td>0.940767</td>\n",
       "      <td>[[20409, 1285], [1821, 1379]]</td>\n",
       "    </tr>\n",
       "    <tr>\n",
       "      <th>18</th>\n",
       "      <td>0.90</td>\n",
       "      <td>0.876798</td>\n",
       "      <td>0.567650</td>\n",
       "      <td>0.174375</td>\n",
       "      <td>0.019591</td>\n",
       "      <td>0.266794</td>\n",
       "      <td>0.980409</td>\n",
       "      <td>[[21269, 425], [2642, 558]]</td>\n",
       "    </tr>\n",
       "    <tr>\n",
       "      <th>19</th>\n",
       "      <td>0.95</td>\n",
       "      <td>0.873544</td>\n",
       "      <td>0.639785</td>\n",
       "      <td>0.037187</td>\n",
       "      <td>0.003088</td>\n",
       "      <td>0.070289</td>\n",
       "      <td>0.996912</td>\n",
       "      <td>[[21627, 67], [3081, 119]]</td>\n",
       "    </tr>\n",
       "  </tbody>\n",
       "</table>\n",
       "</div>"
      ],
      "text/plain": [
       "    Threshold  Accuracy  Precision       TPR       FPR        F1  Specificity  \\\n",
       "0        0.00  0.128545   0.128545  1.000000  1.000000  0.227807     0.000000   \n",
       "1        0.05  0.128585   0.128550  1.000000  0.999954  0.227815     0.000046   \n",
       "2        0.10  0.139833   0.129922  0.999062  0.986909  0.229942     0.013091   \n",
       "3        0.15  0.224351   0.140215  0.980938  0.887250  0.245359     0.112750   \n",
       "4        0.20  0.420543   0.174203  0.937813  0.655757  0.293827     0.344243   \n",
       "5        0.25  0.615731   0.232476  0.864375  0.420946  0.366406     0.579054   \n",
       "6        0.30  0.748132   0.312485  0.799375  0.259427  0.449324     0.740573   \n",
       "7        0.35  0.811280   0.382159  0.759062  0.181018  0.508372     0.818982   \n",
       "8        0.40  0.834378   0.418275  0.738125  0.151424  0.533966     0.848576   \n",
       "9        0.45  0.843577   0.435237  0.728750  0.139486  0.544987     0.860514   \n",
       "10       0.50  0.847473   0.443023  0.725313  0.134507  0.550065     0.865493   \n",
       "11       0.55  0.849120   0.446373  0.723125  0.132295  0.552004     0.867705   \n",
       "12       0.60  0.850607   0.449484  0.721562  0.130359  0.553916     0.869641   \n",
       "13       0.65  0.851651   0.451524  0.717500  0.128561  0.554255     0.871439   \n",
       "14       0.70  0.854222   0.456658  0.706250  0.123951  0.554669     0.876049   \n",
       "15       0.75  0.858359   0.464976  0.676250  0.114778  0.551057     0.885222   \n",
       "16       0.80  0.866835   0.485432  0.598750  0.093620  0.536169     0.906380   \n",
       "17       0.85  0.875231   0.517643  0.430937  0.059233  0.470327     0.940767   \n",
       "18       0.90  0.876798   0.567650  0.174375  0.019591  0.266794     0.980409   \n",
       "19       0.95  0.873544   0.639785  0.037187  0.003088  0.070289     0.996912   \n",
       "\n",
       "                               CM  \n",
       "0         [[0, 21694], [0, 3200]]  \n",
       "1         [[1, 21693], [0, 3200]]  \n",
       "2       [[284, 21410], [3, 3197]]  \n",
       "3     [[2446, 19248], [61, 3139]]  \n",
       "4    [[7468, 14226], [199, 3001]]  \n",
       "5    [[12562, 9132], [434, 2766]]  \n",
       "6    [[16066, 5628], [642, 2558]]  \n",
       "7    [[17767, 3927], [771, 2429]]  \n",
       "8    [[18409, 3285], [838, 2362]]  \n",
       "9    [[18668, 3026], [868, 2332]]  \n",
       "10   [[18776, 2918], [879, 2321]]  \n",
       "11   [[18824, 2870], [886, 2314]]  \n",
       "12   [[18866, 2828], [891, 2309]]  \n",
       "13   [[18905, 2789], [904, 2296]]  \n",
       "14   [[19005, 2689], [940, 2260]]  \n",
       "15  [[19204, 2490], [1036, 2164]]  \n",
       "16  [[19663, 2031], [1284, 1916]]  \n",
       "17  [[20409, 1285], [1821, 1379]]  \n",
       "18    [[21269, 425], [2642, 558]]  \n",
       "19     [[21627, 67], [3081, 119]]  "
      ]
     },
     "execution_count": 98,
     "metadata": {},
     "output_type": "execute_result"
    }
   ],
   "source": [
    "pd.DataFrame(p)"
   ]
  },
  {
   "cell_type": "code",
   "execution_count": 99,
   "id": "4d6bb7e0",
   "metadata": {},
   "outputs": [
    {
     "data": {
      "text/plain": [
       "array([0, 0, 1, ..., 0, 1, 0], dtype=int64)"
      ]
     },
     "execution_count": 99,
     "metadata": {},
     "output_type": "execute_result"
    }
   ],
   "source": [
    "dtclassifier = DecisionTreeClassifier(criterion='entropy')\n",
    "\n",
    "\n",
    "dtclassifier = dtclassifier.fit(X_under,y_under)\n",
    "\n",
    "y_pred = dtclassifier.predict(X_test)\n",
    "\n",
    "y_pred"
   ]
  },
  {
   "cell_type": "code",
   "execution_count": 100,
   "id": "25efd698",
   "metadata": {},
   "outputs": [
    {
     "name": "stdout",
     "output_type": "stream",
     "text": [
      "Accuracy = 0.80469\n",
      "Precision = 0.32394\n",
      "Recall = 0.47781\n",
      "F1 score = 0.38611\n",
      "[[18503  3191]\n",
      " [ 1671  1529]]\n",
      "FPR 0.14709136166682032\n",
      "Specificity 0.8529086383331796\n"
     ]
    }
   ],
   "source": [
    "\n",
    "    print('Accuracy = {:.5f}'.format(accuracy_score(y_test,y_pred)))\n",
    "    print('Precision = {:.5f}'.format(precision_score(y_test,y_pred)))\n",
    "    print('Recall = {:.5f}'.format(recall_score(y_test,y_pred)))\n",
    "    print('F1 score = {:.5f}'.format(f1_score(y_test,y_pred)))\n",
    "    print(confusion_matrix(y_test,y_pred))\n",
    "    FPR = confusion_matrix(y_test, y_pred)[0][1] /(confusion_matrix(y_test, y_pred)[0][0] + confusion_matrix(y_test, y_pred)[0][1])\n",
    "    Specificity = confusion_matrix(y_test, y_pred)[0][0] /(confusion_matrix(y_test, y_pred)[0][0] + confusion_matrix(y_test, y_pred)[0][1])\n",
    "    print('FPR {}'.format(FPR))\n",
    "    print('Specificity {}'.format(Specificity))"
   ]
  },
  {
   "cell_type": "markdown",
   "id": "5754ba28",
   "metadata": {},
   "source": [
    "## Random Forest"
   ]
  },
  {
   "cell_type": "code",
   "execution_count": 101,
   "id": "c07e885b",
   "metadata": {},
   "outputs": [],
   "source": [
    "from sklearn.ensemble import RandomForestRegressor\n",
    "rf = RandomForestRegressor()"
   ]
  },
  {
   "cell_type": "code",
   "execution_count": 102,
   "id": "adb72082",
   "metadata": {},
   "outputs": [
    {
     "data": {
      "text/plain": [
       "array([0, 0, 0, ..., 1, 1, 1], dtype=int64)"
      ]
     },
     "execution_count": 102,
     "metadata": {},
     "output_type": "execute_result"
    }
   ],
   "source": [
    "y_under"
   ]
  },
  {
   "cell_type": "code",
   "execution_count": 103,
   "id": "8b4ec72a",
   "metadata": {},
   "outputs": [],
   "source": [
    "rf = rf.fit(X_under,y_under)"
   ]
  },
  {
   "cell_type": "code",
   "execution_count": 104,
   "id": "5a8cda61",
   "metadata": {},
   "outputs": [],
   "source": [
    "y_predt = rf.predict(X_test)"
   ]
  },
  {
   "cell_type": "code",
   "execution_count": 105,
   "id": "01754b87",
   "metadata": {},
   "outputs": [
    {
     "data": {
      "text/plain": [
       "array([0.2 , 0.59, 0.39, ..., 0.06, 0.39, 0.71])"
      ]
     },
     "execution_count": 105,
     "metadata": {},
     "output_type": "execute_result"
    }
   ],
   "source": [
    "y_predt"
   ]
  },
  {
   "cell_type": "code",
   "execution_count": 106,
   "id": "bedce6a2",
   "metadata": {},
   "outputs": [],
   "source": [
    "y_pred = (y_predt >= 0.2).astype(int)"
   ]
  },
  {
   "cell_type": "code",
   "execution_count": 107,
   "id": "a58397de",
   "metadata": {},
   "outputs": [
    {
     "name": "stdout",
     "output_type": "stream",
     "text": [
      "Accuracy = 0.71744\n",
      "Precision = 0.28576\n",
      "Recall = 0.79906\n",
      "F1 score = 0.42097\n",
      "[[15303  6391]\n",
      " [  643  2557]]\n",
      "FPR 0.2945975845855997\n",
      "Specificity 0.7054024154144003\n"
     ]
    }
   ],
   "source": [
    "\n",
    "    print('Accuracy = {:.5f}'.format(accuracy_score(y_test,y_pred)))\n",
    "    print('Precision = {:.5f}'.format(precision_score(y_test,y_pred)))\n",
    "    print('Recall = {:.5f}'.format(recall_score(y_test,y_pred)))\n",
    "    print('F1 score = {:.5f}'.format(f1_score(y_test,y_pred)))\n",
    "    print(confusion_matrix(y_test,y_pred))\n",
    "    FPR = confusion_matrix(y_test, y_pred)[0][1] /(confusion_matrix(y_test, y_pred)[0][0] + confusion_matrix(y_test, y_pred)[0][1])\n",
    "    Specificity = confusion_matrix(y_test, y_pred)[0][0] /(confusion_matrix(y_test, y_pred)[0][0] + confusion_matrix(y_test, y_pred)[0][1])\n",
    "    print('FPR {}'.format(FPR))\n",
    "    print('Specificity {}'.format(Specificity))"
   ]
  },
  {
   "cell_type": "code",
   "execution_count": 108,
   "id": "a89c3ab8",
   "metadata": {},
   "outputs": [],
   "source": [
    "from sklearn.ensemble import RandomForestClassifier\n",
    "clf = RandomForestClassifier()\n",
    "clf = clf.fit(X_under, y_under)"
   ]
  },
  {
   "cell_type": "code",
   "execution_count": 109,
   "id": "3a1ec18d",
   "metadata": {},
   "outputs": [],
   "source": [
    "y_pred = clf.predict(X_test)"
   ]
  },
  {
   "cell_type": "code",
   "execution_count": 110,
   "id": "dfff455a",
   "metadata": {},
   "outputs": [
    {
     "data": {
      "text/plain": [
       "array([0, 1, 0, ..., 0, 0, 1], dtype=int64)"
      ]
     },
     "execution_count": 110,
     "metadata": {},
     "output_type": "execute_result"
    }
   ],
   "source": [
    "y_pred"
   ]
  },
  {
   "cell_type": "code",
   "execution_count": 111,
   "id": "56490c95",
   "metadata": {},
   "outputs": [
    {
     "name": "stdout",
     "output_type": "stream",
     "text": [
      "Accuracy = 0.84840\n",
      "Precision = 0.43937\n",
      "Recall = 0.65000\n",
      "F1 score = 0.52433\n",
      "[[19040  2654]\n",
      " [ 1120  2080]]\n",
      "FPR 0.12233797363326265\n",
      "Specificity 0.8776620263667374\n"
     ]
    }
   ],
   "source": [
    "\n",
    "print('Accuracy = {:.5f}'.format(accuracy_score(y_test,y_pred)))\n",
    "print('Precision = {:.5f}'.format(precision_score(y_test,y_pred)))\n",
    "print('Recall = {:.5f}'.format(recall_score(y_test,y_pred)))\n",
    "print('F1 score = {:.5f}'.format(f1_score(y_test,y_pred)))\n",
    "print(confusion_matrix(y_test,y_pred))\n",
    "FPR = confusion_matrix(y_test, y_pred)[0][1] /(confusion_matrix(y_test, y_pred)[0][0] + confusion_matrix(y_test, y_pred)[0][1])\n",
    "Specificity = confusion_matrix(y_test, y_pred)[0][0] /(confusion_matrix(y_test, y_pred)[0][0] + confusion_matrix(y_test, y_pred)[0][1])\n",
    "print('FPR {}'.format(FPR))\n",
    "print('Specificity {}'.format(Specificity))"
   ]
  },
  {
   "cell_type": "code",
   "execution_count": 112,
   "id": "24f086ab",
   "metadata": {},
   "outputs": [
    {
     "data": {
      "text/html": [
       "<div>\n",
       "<style scoped>\n",
       "    .dataframe tbody tr th:only-of-type {\n",
       "        vertical-align: middle;\n",
       "    }\n",
       "\n",
       "    .dataframe tbody tr th {\n",
       "        vertical-align: top;\n",
       "    }\n",
       "\n",
       "    .dataframe thead th {\n",
       "        text-align: right;\n",
       "    }\n",
       "</style>\n",
       "<table border=\"1\" class=\"dataframe\">\n",
       "  <thead>\n",
       "    <tr style=\"text-align: right;\">\n",
       "      <th></th>\n",
       "      <th>No. of Secured Loans</th>\n",
       "      <th>No. of unsecured loans</th>\n",
       "      <th>No. of live trade lines</th>\n",
       "      <th>Total no of trade line in last 12 months</th>\n",
       "      <th>No of PL trade lines in last 12 months</th>\n",
       "      <th>Time since first loans in months</th>\n",
       "      <th>Time since first PL loans in months</th>\n",
       "      <th>Time since last loan in months</th>\n",
       "      <th>Time since last PL loans in months</th>\n",
       "      <th>Ratio of live balance to live sanction amount in PL</th>\n",
       "      <th>...</th>\n",
       "      <th>Customer Vintage</th>\n",
       "      <th>Gender</th>\n",
       "      <th>Resident Type</th>\n",
       "      <th>Customer Age</th>\n",
       "      <th>Employement Type</th>\n",
       "      <th>DayOfWeek</th>\n",
       "      <th>Campaign Type</th>\n",
       "      <th>Time of the Day</th>\n",
       "      <th>Target Variable</th>\n",
       "      <th>ID</th>\n",
       "    </tr>\n",
       "  </thead>\n",
       "  <tbody>\n",
       "    <tr>\n",
       "      <th>0</th>\n",
       "      <td>1</td>\n",
       "      <td>0</td>\n",
       "      <td>0</td>\n",
       "      <td>0</td>\n",
       "      <td>0</td>\n",
       "      <td>34</td>\n",
       "      <td>0</td>\n",
       "      <td>34</td>\n",
       "      <td>0</td>\n",
       "      <td>999.0</td>\n",
       "      <td>...</td>\n",
       "      <td>3.0</td>\n",
       "      <td>FEMALE</td>\n",
       "      <td>OWNED</td>\n",
       "      <td>27</td>\n",
       "      <td>SEMP</td>\n",
       "      <td>Monday</td>\n",
       "      <td>Cold Calling</td>\n",
       "      <td>3-PM</td>\n",
       "      <td>0</td>\n",
       "      <td>51794</td>\n",
       "    </tr>\n",
       "    <tr>\n",
       "      <th>1</th>\n",
       "      <td>14</td>\n",
       "      <td>0</td>\n",
       "      <td>3</td>\n",
       "      <td>1</td>\n",
       "      <td>0</td>\n",
       "      <td>97</td>\n",
       "      <td>0</td>\n",
       "      <td>7</td>\n",
       "      <td>0</td>\n",
       "      <td>999.0</td>\n",
       "      <td>...</td>\n",
       "      <td>6.0</td>\n",
       "      <td>FEMALE</td>\n",
       "      <td>OWNED</td>\n",
       "      <td>32</td>\n",
       "      <td>SEMP</td>\n",
       "      <td>Monday</td>\n",
       "      <td>Cold Calling</td>\n",
       "      <td>9-AM</td>\n",
       "      <td>0</td>\n",
       "      <td>148006</td>\n",
       "    </tr>\n",
       "    <tr>\n",
       "      <th>2</th>\n",
       "      <td>7</td>\n",
       "      <td>4</td>\n",
       "      <td>2</td>\n",
       "      <td>0</td>\n",
       "      <td>0</td>\n",
       "      <td>176</td>\n",
       "      <td>176</td>\n",
       "      <td>17</td>\n",
       "      <td>0</td>\n",
       "      <td>0.0</td>\n",
       "      <td>...</td>\n",
       "      <td>9.0</td>\n",
       "      <td>MALE</td>\n",
       "      <td>OWNED</td>\n",
       "      <td>52</td>\n",
       "      <td>SEMP</td>\n",
       "      <td>Saturday</td>\n",
       "      <td>Cold Calling</td>\n",
       "      <td>11-AM</td>\n",
       "      <td>0</td>\n",
       "      <td>130868</td>\n",
       "    </tr>\n",
       "    <tr>\n",
       "      <th>3</th>\n",
       "      <td>3</td>\n",
       "      <td>0</td>\n",
       "      <td>0</td>\n",
       "      <td>0</td>\n",
       "      <td>0</td>\n",
       "      <td>79</td>\n",
       "      <td>0</td>\n",
       "      <td>30</td>\n",
       "      <td>0</td>\n",
       "      <td>999.0</td>\n",
       "      <td>...</td>\n",
       "      <td>3.0</td>\n",
       "      <td>MALE</td>\n",
       "      <td>OWNED</td>\n",
       "      <td>40</td>\n",
       "      <td>SEMP</td>\n",
       "      <td>Saturday</td>\n",
       "      <td>Cold Calling</td>\n",
       "      <td>10-AM</td>\n",
       "      <td>0</td>\n",
       "      <td>168709</td>\n",
       "    </tr>\n",
       "    <tr>\n",
       "      <th>4</th>\n",
       "      <td>1</td>\n",
       "      <td>0</td>\n",
       "      <td>0</td>\n",
       "      <td>0</td>\n",
       "      <td>0</td>\n",
       "      <td>69</td>\n",
       "      <td>0</td>\n",
       "      <td>69</td>\n",
       "      <td>0</td>\n",
       "      <td>999.0</td>\n",
       "      <td>...</td>\n",
       "      <td>6.0</td>\n",
       "      <td>MALE</td>\n",
       "      <td>OWNED</td>\n",
       "      <td>40</td>\n",
       "      <td>SEMP</td>\n",
       "      <td>Thursday</td>\n",
       "      <td>Cold Calling</td>\n",
       "      <td>5-PM</td>\n",
       "      <td>0</td>\n",
       "      <td>131789</td>\n",
       "    </tr>\n",
       "    <tr>\n",
       "      <th>...</th>\n",
       "      <td>...</td>\n",
       "      <td>...</td>\n",
       "      <td>...</td>\n",
       "      <td>...</td>\n",
       "      <td>...</td>\n",
       "      <td>...</td>\n",
       "      <td>...</td>\n",
       "      <td>...</td>\n",
       "      <td>...</td>\n",
       "      <td>...</td>\n",
       "      <td>...</td>\n",
       "      <td>...</td>\n",
       "      <td>...</td>\n",
       "      <td>...</td>\n",
       "      <td>...</td>\n",
       "      <td>...</td>\n",
       "      <td>...</td>\n",
       "      <td>...</td>\n",
       "      <td>...</td>\n",
       "      <td>...</td>\n",
       "      <td>...</td>\n",
       "    </tr>\n",
       "    <tr>\n",
       "      <th>83054</th>\n",
       "      <td>10</td>\n",
       "      <td>2</td>\n",
       "      <td>2</td>\n",
       "      <td>0</td>\n",
       "      <td>0</td>\n",
       "      <td>166</td>\n",
       "      <td>0</td>\n",
       "      <td>12</td>\n",
       "      <td>0</td>\n",
       "      <td>999.0</td>\n",
       "      <td>...</td>\n",
       "      <td>6.0</td>\n",
       "      <td>MALE</td>\n",
       "      <td>RENTED</td>\n",
       "      <td>56</td>\n",
       "      <td>SAL</td>\n",
       "      <td>Monday</td>\n",
       "      <td>SMS</td>\n",
       "      <td>7-PM</td>\n",
       "      <td>0</td>\n",
       "      <td>103177</td>\n",
       "    </tr>\n",
       "    <tr>\n",
       "      <th>83055</th>\n",
       "      <td>2</td>\n",
       "      <td>0</td>\n",
       "      <td>0</td>\n",
       "      <td>0</td>\n",
       "      <td>0</td>\n",
       "      <td>56</td>\n",
       "      <td>0</td>\n",
       "      <td>26</td>\n",
       "      <td>0</td>\n",
       "      <td>999.0</td>\n",
       "      <td>...</td>\n",
       "      <td>5.0</td>\n",
       "      <td>MALE</td>\n",
       "      <td>OWNED</td>\n",
       "      <td>53</td>\n",
       "      <td>SAL</td>\n",
       "      <td>Tuesday</td>\n",
       "      <td>SMS</td>\n",
       "      <td>6-PM</td>\n",
       "      <td>1</td>\n",
       "      <td>218140</td>\n",
       "    </tr>\n",
       "    <tr>\n",
       "      <th>83056</th>\n",
       "      <td>1</td>\n",
       "      <td>0</td>\n",
       "      <td>1</td>\n",
       "      <td>0</td>\n",
       "      <td>0</td>\n",
       "      <td>25</td>\n",
       "      <td>0</td>\n",
       "      <td>25</td>\n",
       "      <td>0</td>\n",
       "      <td>999.0</td>\n",
       "      <td>...</td>\n",
       "      <td>3.0</td>\n",
       "      <td>FEMALE</td>\n",
       "      <td>OWNED</td>\n",
       "      <td>27</td>\n",
       "      <td>AGR</td>\n",
       "      <td>Saturday</td>\n",
       "      <td>SAATHI</td>\n",
       "      <td>3-PM</td>\n",
       "      <td>1</td>\n",
       "      <td>72715</td>\n",
       "    </tr>\n",
       "    <tr>\n",
       "      <th>83057</th>\n",
       "      <td>1</td>\n",
       "      <td>1</td>\n",
       "      <td>1</td>\n",
       "      <td>0</td>\n",
       "      <td>0</td>\n",
       "      <td>68</td>\n",
       "      <td>0</td>\n",
       "      <td>24</td>\n",
       "      <td>0</td>\n",
       "      <td>999.0</td>\n",
       "      <td>...</td>\n",
       "      <td>6.0</td>\n",
       "      <td>FEMALE</td>\n",
       "      <td>OWNED</td>\n",
       "      <td>28</td>\n",
       "      <td>SAL</td>\n",
       "      <td>Sunday</td>\n",
       "      <td>SMS</td>\n",
       "      <td>6-PM</td>\n",
       "      <td>0</td>\n",
       "      <td>307376</td>\n",
       "    </tr>\n",
       "    <tr>\n",
       "      <th>83058</th>\n",
       "      <td>2</td>\n",
       "      <td>0</td>\n",
       "      <td>0</td>\n",
       "      <td>0</td>\n",
       "      <td>0</td>\n",
       "      <td>121</td>\n",
       "      <td>0</td>\n",
       "      <td>117</td>\n",
       "      <td>0</td>\n",
       "      <td>999.0</td>\n",
       "      <td>...</td>\n",
       "      <td>11.0</td>\n",
       "      <td>MALE</td>\n",
       "      <td>RENTED</td>\n",
       "      <td>36</td>\n",
       "      <td>SEMP</td>\n",
       "      <td>Saturday</td>\n",
       "      <td>SMS</td>\n",
       "      <td>6-PM</td>\n",
       "      <td>1</td>\n",
       "      <td>317409</td>\n",
       "    </tr>\n",
       "  </tbody>\n",
       "</table>\n",
       "<p>83059 rows × 31 columns</p>\n",
       "</div>"
      ],
      "text/plain": [
       "       No. of Secured Loans  No. of unsecured loans  No. of live trade lines  \\\n",
       "0                         1                       0                        0   \n",
       "1                        14                       0                        3   \n",
       "2                         7                       4                        2   \n",
       "3                         3                       0                        0   \n",
       "4                         1                       0                        0   \n",
       "...                     ...                     ...                      ...   \n",
       "83054                    10                       2                        2   \n",
       "83055                     2                       0                        0   \n",
       "83056                     1                       0                        1   \n",
       "83057                     1                       1                        1   \n",
       "83058                     2                       0                        0   \n",
       "\n",
       "       Total no of trade line in last 12 months  \\\n",
       "0                                             0   \n",
       "1                                             1   \n",
       "2                                             0   \n",
       "3                                             0   \n",
       "4                                             0   \n",
       "...                                         ...   \n",
       "83054                                         0   \n",
       "83055                                         0   \n",
       "83056                                         0   \n",
       "83057                                         0   \n",
       "83058                                         0   \n",
       "\n",
       "       No of PL trade lines in last 12 months  \\\n",
       "0                                           0   \n",
       "1                                           0   \n",
       "2                                           0   \n",
       "3                                           0   \n",
       "4                                           0   \n",
       "...                                       ...   \n",
       "83054                                       0   \n",
       "83055                                       0   \n",
       "83056                                       0   \n",
       "83057                                       0   \n",
       "83058                                       0   \n",
       "\n",
       "       Time since first loans in months  Time since first PL loans in months  \\\n",
       "0                                    34                                    0   \n",
       "1                                    97                                    0   \n",
       "2                                   176                                  176   \n",
       "3                                    79                                    0   \n",
       "4                                    69                                    0   \n",
       "...                                 ...                                  ...   \n",
       "83054                               166                                    0   \n",
       "83055                                56                                    0   \n",
       "83056                                25                                    0   \n",
       "83057                                68                                    0   \n",
       "83058                               121                                    0   \n",
       "\n",
       "       Time since last loan in months  Time since last PL loans in months  \\\n",
       "0                                  34                                   0   \n",
       "1                                   7                                   0   \n",
       "2                                  17                                   0   \n",
       "3                                  30                                   0   \n",
       "4                                  69                                   0   \n",
       "...                               ...                                 ...   \n",
       "83054                              12                                   0   \n",
       "83055                              26                                   0   \n",
       "83056                              25                                   0   \n",
       "83057                              24                                   0   \n",
       "83058                             117                                   0   \n",
       "\n",
       "       Ratio of live balance to live sanction amount in PL  ...  \\\n",
       "0                                                  999.0    ...   \n",
       "1                                                  999.0    ...   \n",
       "2                                                    0.0    ...   \n",
       "3                                                  999.0    ...   \n",
       "4                                                  999.0    ...   \n",
       "...                                                  ...    ...   \n",
       "83054                                              999.0    ...   \n",
       "83055                                              999.0    ...   \n",
       "83056                                              999.0    ...   \n",
       "83057                                              999.0    ...   \n",
       "83058                                              999.0    ...   \n",
       "\n",
       "       Customer Vintage  Gender  Resident Type  Customer Age  \\\n",
       "0                   3.0  FEMALE          OWNED            27   \n",
       "1                   6.0  FEMALE          OWNED            32   \n",
       "2                   9.0    MALE          OWNED            52   \n",
       "3                   3.0    MALE          OWNED            40   \n",
       "4                   6.0    MALE          OWNED            40   \n",
       "...                 ...     ...            ...           ...   \n",
       "83054               6.0    MALE         RENTED            56   \n",
       "83055               5.0    MALE          OWNED            53   \n",
       "83056               3.0  FEMALE          OWNED            27   \n",
       "83057               6.0  FEMALE          OWNED            28   \n",
       "83058              11.0    MALE         RENTED            36   \n",
       "\n",
       "       Employement Type  DayOfWeek  Campaign Type  Time of the Day  \\\n",
       "0                  SEMP     Monday   Cold Calling             3-PM   \n",
       "1                  SEMP     Monday   Cold Calling             9-AM   \n",
       "2                  SEMP   Saturday   Cold Calling            11-AM   \n",
       "3                  SEMP   Saturday   Cold Calling            10-AM   \n",
       "4                  SEMP   Thursday   Cold Calling             5-PM   \n",
       "...                 ...        ...            ...              ...   \n",
       "83054               SAL     Monday            SMS             7-PM   \n",
       "83055               SAL    Tuesday            SMS             6-PM   \n",
       "83056               AGR   Saturday         SAATHI             3-PM   \n",
       "83057               SAL     Sunday            SMS             6-PM   \n",
       "83058              SEMP   Saturday            SMS             6-PM   \n",
       "\n",
       "       Target Variable      ID  \n",
       "0                    0   51794  \n",
       "1                    0  148006  \n",
       "2                    0  130868  \n",
       "3                    0  168709  \n",
       "4                    0  131789  \n",
       "...                ...     ...  \n",
       "83054                0  103177  \n",
       "83055                1  218140  \n",
       "83056                1   72715  \n",
       "83057                0  307376  \n",
       "83058                1  317409  \n",
       "\n",
       "[83059 rows x 31 columns]"
      ]
     },
     "execution_count": 112,
     "metadata": {},
     "output_type": "execute_result"
    }
   ],
   "source": [
    "sell"
   ]
  },
  {
   "cell_type": "code",
   "execution_count": null,
   "id": "32e75e41",
   "metadata": {},
   "outputs": [],
   "source": [
    "#sell.to_csv('tvs_cross_sell_campaign.csv',index=False)"
   ]
  },
  {
   "cell_type": "code",
   "execution_count": 116,
   "id": "3cd9b427",
   "metadata": {},
   "outputs": [
    {
     "data": {
      "text/plain": [
       "0    72435\n",
       "1    10545\n",
       "Name: Target Variable, dtype: int64"
      ]
     },
     "execution_count": 116,
     "metadata": {},
     "output_type": "execute_result"
    }
   ],
   "source": [
    "sell_new1['Target Variable'].value_counts()"
   ]
  },
  {
   "cell_type": "code",
   "execution_count": null,
   "id": "b81593f0",
   "metadata": {},
   "outputs": [],
   "source": []
  },
  {
   "cell_type": "code",
   "execution_count": null,
   "id": "bf327493",
   "metadata": {},
   "outputs": [],
   "source": []
  },
  {
   "cell_type": "code",
   "execution_count": null,
   "id": "822b2b17",
   "metadata": {},
   "outputs": [],
   "source": []
  },
  {
   "cell_type": "code",
   "execution_count": null,
   "id": "77419560",
   "metadata": {},
   "outputs": [],
   "source": []
  },
  {
   "cell_type": "code",
   "execution_count": null,
   "id": "83c18db1",
   "metadata": {},
   "outputs": [],
   "source": []
  }
 ],
 "metadata": {
  "kernelspec": {
   "display_name": "Python 3 (ipykernel)",
   "language": "python",
   "name": "python3"
  },
  "language_info": {
   "codemirror_mode": {
    "name": "ipython",
    "version": 3
   },
   "file_extension": ".py",
   "mimetype": "text/x-python",
   "name": "python",
   "nbconvert_exporter": "python",
   "pygments_lexer": "ipython3",
   "version": "3.9.7"
  }
 },
 "nbformat": 4,
 "nbformat_minor": 5
}
